{
 "cells": [
  {
   "cell_type": "code",
   "execution_count": 1,
   "id": "a807ce95",
   "metadata": {
    "_cell_guid": "b1076dfc-b9ad-4769-8c92-a6c4dae69d19",
    "_uuid": "8f2839f25d086af736a60e9eeb907d3b93b6e0e5",
    "execution": {
     "iopub.execute_input": "2024-11-12T06:35:21.512842Z",
     "iopub.status.busy": "2024-11-12T06:35:21.511797Z",
     "iopub.status.idle": "2024-11-12T06:35:22.775839Z",
     "shell.execute_reply": "2024-11-12T06:35:22.774752Z"
    },
    "papermill": {
     "duration": 1.276434,
     "end_time": "2024-11-12T06:35:22.778532",
     "exception": false,
     "start_time": "2024-11-12T06:35:21.502098",
     "status": "completed"
    },
    "tags": []
   },
   "outputs": [],
   "source": [
    "# Import Libraries needed\n",
    "import librosa\n",
    "import numpy as np\n",
    "import pandas as pd\n",
    "from tqdm import tqdm\n",
    "from os import listdir\n",
    "from os.path import join\n",
    "from collections import Counter\n",
    "from scipy.io.wavfile import write\n",
    "from datetime import datetime, timedelta"
   ]
  },
  {
   "cell_type": "code",
   "execution_count": 2,
   "id": "0428d18c",
   "metadata": {
    "execution": {
     "iopub.execute_input": "2024-11-12T06:35:22.793081Z",
     "iopub.status.busy": "2024-11-12T06:35:22.792031Z",
     "iopub.status.idle": "2024-11-12T06:35:23.845427Z",
     "shell.execute_reply": "2024-11-12T06:35:23.844027Z"
    },
    "papermill": {
     "duration": 1.063371,
     "end_time": "2024-11-12T06:35:23.848093",
     "exception": false,
     "start_time": "2024-11-12T06:35:22.784722",
     "status": "completed"
    },
    "tags": []
   },
   "outputs": [],
   "source": [
    "!mkdir data "
   ]
  },
  {
   "cell_type": "code",
   "execution_count": 3,
   "id": "6efa4020",
   "metadata": {
    "execution": {
     "iopub.execute_input": "2024-11-12T06:35:23.862359Z",
     "iopub.status.busy": "2024-11-12T06:35:23.861878Z",
     "iopub.status.idle": "2024-11-12T06:35:23.868303Z",
     "shell.execute_reply": "2024-11-12T06:35:23.867124Z"
    },
    "papermill": {
     "duration": 0.016626,
     "end_time": "2024-11-12T06:35:23.870755",
     "exception": false,
     "start_time": "2024-11-12T06:35:23.854129",
     "status": "completed"
    },
    "tags": []
   },
   "outputs": [],
   "source": [
    "# Set file paths for mechanical readings csv and wav file location\n",
    "DATA_PATH = \"/kaggle/input/rain-data-enclosure-3-master/rainfall_sound_8k\"\n",
    "MECH_FILE_PATH = \"/kaggle/input/rain-data-enclosure-3-master/rain_data_mechanical.csv\"\n",
    "NON_MECH_PATH = \"/kaggle/input/rain-data-enclosure-3-master/rainfall_sound_8k\"\n",
    "Fs = 8000\n",
    "MAX_LEN = 1368000 # 171 sec @ Fs 8k samples/sec\n",
    "DAVIS_INTERVAL = 180"
   ]
  },
  {
   "cell_type": "code",
   "execution_count": 4,
   "id": "6b7a5f1e",
   "metadata": {
    "execution": {
     "iopub.execute_input": "2024-11-12T06:35:23.884217Z",
     "iopub.status.busy": "2024-11-12T06:35:23.883788Z",
     "iopub.status.idle": "2024-11-12T06:35:24.079941Z",
     "shell.execute_reply": "2024-11-12T06:35:24.078801Z"
    },
    "papermill": {
     "duration": 0.20596,
     "end_time": "2024-11-12T06:35:24.082637",
     "exception": false,
     "start_time": "2024-11-12T06:35:23.876677",
     "status": "completed"
    },
    "tags": []
   },
   "outputs": [],
   "source": [
    "# Read mechanical raingauge readings as csv using pandas\n",
    "mech_data = pd.read_csv(join(DATA_PATH, MECH_FILE_PATH))\n",
    "\n",
    "# Convert time column to pandas time datatype\n",
    "mech_data[\"time\"]= pd.to_datetime(mech_data[\"time\"])\n",
    "\n",
    "# Get list of wav files and sort them in ascending order\n",
    "wave_files = sorted(listdir(NON_MECH_PATH))\n",
    "\n",
    "# Get total count of wav files available\n",
    "N = len(wave_files)"
   ]
  },
  {
   "cell_type": "code",
   "execution_count": 5,
   "id": "b0ee0739",
   "metadata": {
    "execution": {
     "iopub.execute_input": "2024-11-12T06:35:24.095943Z",
     "iopub.status.busy": "2024-11-12T06:35:24.095562Z",
     "iopub.status.idle": "2024-11-12T06:35:24.115554Z",
     "shell.execute_reply": "2024-11-12T06:35:24.114481Z"
    },
    "papermill": {
     "duration": 0.029557,
     "end_time": "2024-11-12T06:35:24.118021",
     "exception": false,
     "start_time": "2024-11-12T06:35:24.088464",
     "status": "completed"
    },
    "tags": []
   },
   "outputs": [
    {
     "data": {
      "text/html": [
       "<div>\n",
       "<style scoped>\n",
       "    .dataframe tbody tr th:only-of-type {\n",
       "        vertical-align: middle;\n",
       "    }\n",
       "\n",
       "    .dataframe tbody tr th {\n",
       "        vertical-align: top;\n",
       "    }\n",
       "\n",
       "    .dataframe thead th {\n",
       "        text-align: right;\n",
       "    }\n",
       "</style>\n",
       "<table border=\"1\" class=\"dataframe\">\n",
       "  <thead>\n",
       "    <tr style=\"text-align: right;\">\n",
       "      <th></th>\n",
       "      <th>time</th>\n",
       "      <th>rainfall</th>\n",
       "    </tr>\n",
       "  </thead>\n",
       "  <tbody>\n",
       "    <tr>\n",
       "      <th>0</th>\n",
       "      <td>2024-10-23 16:18:25.801606</td>\n",
       "      <td>0.0</td>\n",
       "    </tr>\n",
       "    <tr>\n",
       "      <th>1</th>\n",
       "      <td>2024-10-23 16:21:25.801604</td>\n",
       "      <td>1.2</td>\n",
       "    </tr>\n",
       "  </tbody>\n",
       "</table>\n",
       "</div>"
      ],
      "text/plain": [
       "                        time  rainfall\n",
       "0 2024-10-23 16:18:25.801606       0.0\n",
       "1 2024-10-23 16:21:25.801604       1.2"
      ]
     },
     "execution_count": 5,
     "metadata": {},
     "output_type": "execute_result"
    }
   ],
   "source": [
    "mech_data.head(2)"
   ]
  },
  {
   "cell_type": "code",
   "execution_count": 6,
   "id": "78f013c8",
   "metadata": {
    "execution": {
     "iopub.execute_input": "2024-11-12T06:35:24.132200Z",
     "iopub.status.busy": "2024-11-12T06:35:24.131764Z",
     "iopub.status.idle": "2024-11-12T06:35:24.140193Z",
     "shell.execute_reply": "2024-11-12T06:35:24.139069Z"
    },
    "papermill": {
     "duration": 0.018119,
     "end_time": "2024-11-12T06:35:24.142546",
     "exception": false,
     "start_time": "2024-11-12T06:35:24.124427",
     "status": "completed"
    },
    "tags": []
   },
   "outputs": [],
   "source": [
    "# Function to parse date and time components from wav filenames\n",
    "def filename_parser(filename):\n",
    "    year, month, day, hour, minute, second, _ = map(int, filename.split(\".\")[0].split(\"_\"))\n",
    "    return datetime(year, month, day, hour, minute, second)\n",
    "\n",
    "# Get the fist starting time available for wav files\n",
    "start_time = filename_parser(wave_files[0])\n",
    "\n",
    "# Get the last time available for wav files\n",
    "end_time = filename_parser(wave_files[-1])"
   ]
  },
  {
   "cell_type": "code",
   "execution_count": 7,
   "id": "5080c675",
   "metadata": {
    "execution": {
     "iopub.execute_input": "2024-11-12T06:35:24.157122Z",
     "iopub.status.busy": "2024-11-12T06:35:24.156097Z",
     "iopub.status.idle": "2024-11-12T06:35:24.167146Z",
     "shell.execute_reply": "2024-11-12T06:35:24.165987Z"
    },
    "papermill": {
     "duration": 0.021098,
     "end_time": "2024-11-12T06:35:24.169793",
     "exception": false,
     "start_time": "2024-11-12T06:35:24.148695",
     "status": "completed"
    },
    "tags": []
   },
   "outputs": [],
   "source": [
    "# Find overlapping time instances where mechanical readings and wav files are available\n",
    "row_overlap = (mech_data[\"time\"]>start_time)&(mech_data[\"time\"]<end_time)\n",
    "mech_data = mech_data[row_overlap]"
   ]
  },
  {
   "cell_type": "code",
   "execution_count": 8,
   "id": "7821e6cf",
   "metadata": {
    "execution": {
     "iopub.execute_input": "2024-11-12T06:35:24.183970Z",
     "iopub.status.busy": "2024-11-12T06:35:24.183509Z",
     "iopub.status.idle": "2024-11-12T06:35:24.193129Z",
     "shell.execute_reply": "2024-11-12T06:35:24.191976Z"
    },
    "papermill": {
     "duration": 0.019022,
     "end_time": "2024-11-12T06:35:24.195264",
     "exception": false,
     "start_time": "2024-11-12T06:35:24.176242",
     "status": "completed"
    },
    "tags": []
   },
   "outputs": [],
   "source": [
    "mech_data[\"time_delta\"] = mech_data[\"time\"].diff()\n",
    "mech_data[\"time_delta\"] = mech_data[\"time_delta\"].dt.total_seconds()"
   ]
  },
  {
   "cell_type": "code",
   "execution_count": 9,
   "id": "78e42f41",
   "metadata": {
    "execution": {
     "iopub.execute_input": "2024-11-12T06:35:24.208860Z",
     "iopub.status.busy": "2024-11-12T06:35:24.208424Z",
     "iopub.status.idle": "2024-11-12T06:35:24.228153Z",
     "shell.execute_reply": "2024-11-12T06:35:24.227093Z"
    },
    "papermill": {
     "duration": 0.029038,
     "end_time": "2024-11-12T06:35:24.230328",
     "exception": false,
     "start_time": "2024-11-12T06:35:24.201290",
     "status": "completed"
    },
    "tags": []
   },
   "outputs": [
    {
     "data": {
      "text/plain": [
       "Index(['2024-10-25', '2024-11-01', '2024-10-23', '2024-11-02', '2024-10-24',\n",
       "       '2024-10-26', '2024-11-08', '2024-11-04', '2024-10-31', '2024-10-27',\n",
       "       '2024-11-05', '2024-11-09'],\n",
       "      dtype='object', name='YMD')"
      ]
     },
     "execution_count": 9,
     "metadata": {},
     "output_type": "execute_result"
    }
   ],
   "source": [
    "# To find the number of unique days where we have recording available\n",
    "mech_data[\"time\"] = mech_data[\"time\"].astype('str')\n",
    "mech_data[[\"YMD\", \"HMS\"]] = mech_data[\"time\"].str.split(\" \",expand=True)\n",
    "mech_data[\"YMD\"].value_counts().keys()"
   ]
  },
  {
   "cell_type": "code",
   "execution_count": 10,
   "id": "b0a056b7",
   "metadata": {
    "execution": {
     "iopub.execute_input": "2024-11-12T06:35:24.244064Z",
     "iopub.status.busy": "2024-11-12T06:35:24.243637Z",
     "iopub.status.idle": "2024-11-12T06:35:24.254218Z",
     "shell.execute_reply": "2024-11-12T06:35:24.253109Z"
    },
    "papermill": {
     "duration": 0.020006,
     "end_time": "2024-11-12T06:35:24.256437",
     "exception": false,
     "start_time": "2024-11-12T06:35:24.236431",
     "status": "completed"
    },
    "tags": []
   },
   "outputs": [],
   "source": [
    "mech_data[\"time\"]= pd.to_datetime(mech_data[\"time\"])\n",
    "mech_data = mech_data[[\"time\", \"rainfall\"]]"
   ]
  },
  {
   "cell_type": "code",
   "execution_count": 11,
   "id": "d0fe5cfa",
   "metadata": {
    "execution": {
     "iopub.execute_input": "2024-11-12T06:35:24.270172Z",
     "iopub.status.busy": "2024-11-12T06:35:24.269754Z",
     "iopub.status.idle": "2024-11-12T06:35:24.274664Z",
     "shell.execute_reply": "2024-11-12T06:35:24.273651Z"
    },
    "papermill": {
     "duration": 0.014384,
     "end_time": "2024-11-12T06:35:24.276905",
     "exception": false,
     "start_time": "2024-11-12T06:35:24.262521",
     "status": "completed"
    },
    "tags": []
   },
   "outputs": [],
   "source": [
    "# mech_data = mech_data[mech_data[\"rainfall\"]!=0.0]"
   ]
  },
  {
   "cell_type": "code",
   "execution_count": 12,
   "id": "ff0340b5",
   "metadata": {
    "execution": {
     "iopub.execute_input": "2024-11-12T06:35:24.291243Z",
     "iopub.status.busy": "2024-11-12T06:35:24.290428Z",
     "iopub.status.idle": "2024-11-12T06:35:24.304931Z",
     "shell.execute_reply": "2024-11-12T06:35:24.303905Z"
    },
    "papermill": {
     "duration": 0.023998,
     "end_time": "2024-11-12T06:35:24.307116",
     "exception": false,
     "start_time": "2024-11-12T06:35:24.283118",
     "status": "completed"
    },
    "tags": []
   },
   "outputs": [
    {
     "data": {
      "text/html": [
       "<div>\n",
       "<style scoped>\n",
       "    .dataframe tbody tr th:only-of-type {\n",
       "        vertical-align: middle;\n",
       "    }\n",
       "\n",
       "    .dataframe tbody tr th {\n",
       "        vertical-align: top;\n",
       "    }\n",
       "\n",
       "    .dataframe thead th {\n",
       "        text-align: right;\n",
       "    }\n",
       "</style>\n",
       "<table border=\"1\" class=\"dataframe\">\n",
       "  <thead>\n",
       "    <tr style=\"text-align: right;\">\n",
       "      <th></th>\n",
       "      <th>time</th>\n",
       "      <th>rainfall</th>\n",
       "    </tr>\n",
       "  </thead>\n",
       "  <tbody>\n",
       "    <tr>\n",
       "      <th>0</th>\n",
       "      <td>2024-10-23 16:18:25.801606</td>\n",
       "      <td>0.0</td>\n",
       "    </tr>\n",
       "    <tr>\n",
       "      <th>1</th>\n",
       "      <td>2024-10-23 16:21:25.801604</td>\n",
       "      <td>1.2</td>\n",
       "    </tr>\n",
       "    <tr>\n",
       "      <th>2</th>\n",
       "      <td>2024-10-23 16:24:25.801603</td>\n",
       "      <td>0.6</td>\n",
       "    </tr>\n",
       "    <tr>\n",
       "      <th>3</th>\n",
       "      <td>2024-10-23 16:27:25.801605</td>\n",
       "      <td>4.2</td>\n",
       "    </tr>\n",
       "    <tr>\n",
       "      <th>4</th>\n",
       "      <td>2024-10-23 16:30:25.801606</td>\n",
       "      <td>0.6</td>\n",
       "    </tr>\n",
       "    <tr>\n",
       "      <th>...</th>\n",
       "      <td>...</td>\n",
       "      <td>...</td>\n",
       "    </tr>\n",
       "    <tr>\n",
       "      <th>548</th>\n",
       "      <td>2024-11-08 18:28:09.803826</td>\n",
       "      <td>0.4</td>\n",
       "    </tr>\n",
       "    <tr>\n",
       "      <th>549</th>\n",
       "      <td>2024-11-08 20:16:09.803825</td>\n",
       "      <td>0.0</td>\n",
       "    </tr>\n",
       "    <tr>\n",
       "      <th>550</th>\n",
       "      <td>2024-11-08 20:46:09.803827</td>\n",
       "      <td>0.0</td>\n",
       "    </tr>\n",
       "    <tr>\n",
       "      <th>551</th>\n",
       "      <td>2024-11-09 07:16:09.803827</td>\n",
       "      <td>0.6</td>\n",
       "    </tr>\n",
       "    <tr>\n",
       "      <th>552</th>\n",
       "      <td>2024-11-09 12:13:09.803827</td>\n",
       "      <td>0.0</td>\n",
       "    </tr>\n",
       "  </tbody>\n",
       "</table>\n",
       "<p>553 rows × 2 columns</p>\n",
       "</div>"
      ],
      "text/plain": [
       "                          time  rainfall\n",
       "0   2024-10-23 16:18:25.801606       0.0\n",
       "1   2024-10-23 16:21:25.801604       1.2\n",
       "2   2024-10-23 16:24:25.801603       0.6\n",
       "3   2024-10-23 16:27:25.801605       4.2\n",
       "4   2024-10-23 16:30:25.801606       0.6\n",
       "..                         ...       ...\n",
       "548 2024-11-08 18:28:09.803826       0.4\n",
       "549 2024-11-08 20:16:09.803825       0.0\n",
       "550 2024-11-08 20:46:09.803827       0.0\n",
       "551 2024-11-09 07:16:09.803827       0.6\n",
       "552 2024-11-09 12:13:09.803827       0.0\n",
       "\n",
       "[553 rows x 2 columns]"
      ]
     },
     "execution_count": 12,
     "metadata": {},
     "output_type": "execute_result"
    }
   ],
   "source": [
    "mech_data"
   ]
  },
  {
   "cell_type": "code",
   "execution_count": 13,
   "id": "9e7fbbee",
   "metadata": {
    "execution": {
     "iopub.execute_input": "2024-11-12T06:35:24.322020Z",
     "iopub.status.busy": "2024-11-12T06:35:24.321133Z",
     "iopub.status.idle": "2024-11-12T06:35:24.326948Z",
     "shell.execute_reply": "2024-11-12T06:35:24.325733Z"
    },
    "papermill": {
     "duration": 0.015966,
     "end_time": "2024-11-12T06:35:24.329374",
     "exception": false,
     "start_time": "2024-11-12T06:35:24.313408",
     "status": "completed"
    },
    "tags": []
   },
   "outputs": [],
   "source": [
    "# Function to load a wav file using librosa and get its sampling rate and duration\n",
    "def load_wav(file_path, Fs=Fs):\n",
    "    audio, Fs = librosa.load(file_path, sr=Fs)\n",
    "    duration = librosa.get_duration(y=audio, sr=Fs)\n",
    "    return audio, Fs, duration"
   ]
  },
  {
   "cell_type": "code",
   "execution_count": 14,
   "id": "5325a715",
   "metadata": {
    "execution": {
     "iopub.execute_input": "2024-11-12T06:35:24.346849Z",
     "iopub.status.busy": "2024-11-12T06:35:24.345653Z",
     "iopub.status.idle": "2024-11-12T06:35:24.363756Z",
     "shell.execute_reply": "2024-11-12T06:35:24.362342Z"
    },
    "papermill": {
     "duration": 0.031334,
     "end_time": "2024-11-12T06:35:24.367640",
     "exception": false,
     "start_time": "2024-11-12T06:35:24.336306",
     "status": "completed"
    },
    "tags": []
   },
   "outputs": [
    {
     "data": {
      "text/html": [
       "<div>\n",
       "<style scoped>\n",
       "    .dataframe tbody tr th:only-of-type {\n",
       "        vertical-align: middle;\n",
       "    }\n",
       "\n",
       "    .dataframe tbody tr th {\n",
       "        vertical-align: top;\n",
       "    }\n",
       "\n",
       "    .dataframe thead th {\n",
       "        text-align: right;\n",
       "    }\n",
       "</style>\n",
       "<table border=\"1\" class=\"dataframe\">\n",
       "  <thead>\n",
       "    <tr style=\"text-align: right;\">\n",
       "      <th></th>\n",
       "      <th>time</th>\n",
       "      <th>rainfall</th>\n",
       "    </tr>\n",
       "  </thead>\n",
       "  <tbody>\n",
       "    <tr>\n",
       "      <th>0</th>\n",
       "      <td>2024-10-23 16:18:25.801606</td>\n",
       "      <td>0.0</td>\n",
       "    </tr>\n",
       "    <tr>\n",
       "      <th>1</th>\n",
       "      <td>2024-10-23 16:21:25.801604</td>\n",
       "      <td>1.2</td>\n",
       "    </tr>\n",
       "    <tr>\n",
       "      <th>2</th>\n",
       "      <td>2024-10-23 16:24:25.801603</td>\n",
       "      <td>0.6</td>\n",
       "    </tr>\n",
       "    <tr>\n",
       "      <th>3</th>\n",
       "      <td>2024-10-23 16:27:25.801605</td>\n",
       "      <td>4.2</td>\n",
       "    </tr>\n",
       "    <tr>\n",
       "      <th>4</th>\n",
       "      <td>2024-10-23 16:30:25.801606</td>\n",
       "      <td>0.6</td>\n",
       "    </tr>\n",
       "    <tr>\n",
       "      <th>...</th>\n",
       "      <td>...</td>\n",
       "      <td>...</td>\n",
       "    </tr>\n",
       "    <tr>\n",
       "      <th>548</th>\n",
       "      <td>2024-11-08 18:28:09.803826</td>\n",
       "      <td>0.4</td>\n",
       "    </tr>\n",
       "    <tr>\n",
       "      <th>549</th>\n",
       "      <td>2024-11-08 20:16:09.803825</td>\n",
       "      <td>0.0</td>\n",
       "    </tr>\n",
       "    <tr>\n",
       "      <th>550</th>\n",
       "      <td>2024-11-08 20:46:09.803827</td>\n",
       "      <td>0.0</td>\n",
       "    </tr>\n",
       "    <tr>\n",
       "      <th>551</th>\n",
       "      <td>2024-11-09 07:16:09.803827</td>\n",
       "      <td>0.6</td>\n",
       "    </tr>\n",
       "    <tr>\n",
       "      <th>552</th>\n",
       "      <td>2024-11-09 12:13:09.803827</td>\n",
       "      <td>0.0</td>\n",
       "    </tr>\n",
       "  </tbody>\n",
       "</table>\n",
       "<p>553 rows × 2 columns</p>\n",
       "</div>"
      ],
      "text/plain": [
       "                          time  rainfall\n",
       "0   2024-10-23 16:18:25.801606       0.0\n",
       "1   2024-10-23 16:21:25.801604       1.2\n",
       "2   2024-10-23 16:24:25.801603       0.6\n",
       "3   2024-10-23 16:27:25.801605       4.2\n",
       "4   2024-10-23 16:30:25.801606       0.6\n",
       "..                         ...       ...\n",
       "548 2024-11-08 18:28:09.803826       0.4\n",
       "549 2024-11-08 20:16:09.803825       0.0\n",
       "550 2024-11-08 20:46:09.803827       0.0\n",
       "551 2024-11-09 07:16:09.803827       0.6\n",
       "552 2024-11-09 12:13:09.803827       0.0\n",
       "\n",
       "[553 rows x 2 columns]"
      ]
     },
     "execution_count": 14,
     "metadata": {},
     "output_type": "execute_result"
    }
   ],
   "source": [
    "mech_data"
   ]
  },
  {
   "cell_type": "code",
   "execution_count": 15,
   "id": "8df74407",
   "metadata": {
    "execution": {
     "iopub.execute_input": "2024-11-12T06:35:24.386650Z",
     "iopub.status.busy": "2024-11-12T06:35:24.386143Z",
     "iopub.status.idle": "2024-11-12T06:35:24.393875Z",
     "shell.execute_reply": "2024-11-12T06:35:24.393074Z"
    },
    "papermill": {
     "duration": 0.02061,
     "end_time": "2024-11-12T06:35:24.396729",
     "exception": false,
     "start_time": "2024-11-12T06:35:24.376119",
     "status": "completed"
    },
    "tags": []
   },
   "outputs": [],
   "source": [
    "def get_fname_time(file_name):\n",
    "    file_name_short = file_name.split(\"_\")[:-1]\n",
    "    year, month, day, hour, minute, second = map(int, file_name_short)\n",
    "    fname_time = datetime(year, month, day, hour, minute, second)\n",
    "    return fname_time"
   ]
  },
  {
   "cell_type": "code",
   "execution_count": 16,
   "id": "025ed398",
   "metadata": {
    "execution": {
     "iopub.execute_input": "2024-11-12T06:35:24.413607Z",
     "iopub.status.busy": "2024-11-12T06:35:24.412805Z",
     "iopub.status.idle": "2024-11-12T06:35:24.418163Z",
     "shell.execute_reply": "2024-11-12T06:35:24.417022Z"
    },
    "papermill": {
     "duration": 0.0155,
     "end_time": "2024-11-12T06:35:24.420448",
     "exception": false,
     "start_time": "2024-11-12T06:35:24.404948",
     "status": "completed"
    },
    "tags": []
   },
   "outputs": [],
   "source": [
    "def ftime_to_fname(ftime):\n",
    "    ftime_prev = ftime.strftime('%Y_%m_%d_%H_%M_%S')\n",
    "    return ftime_prev"
   ]
  },
  {
   "cell_type": "code",
   "execution_count": 17,
   "id": "07c7df6f",
   "metadata": {
    "execution": {
     "iopub.execute_input": "2024-11-12T06:35:24.436371Z",
     "iopub.status.busy": "2024-11-12T06:35:24.435147Z",
     "iopub.status.idle": "2024-11-12T06:35:24.441863Z",
     "shell.execute_reply": "2024-11-12T06:35:24.440870Z"
    },
    "papermill": {
     "duration": 0.01711,
     "end_time": "2024-11-12T06:35:24.444219",
     "exception": false,
     "start_time": "2024-11-12T06:35:24.427109",
     "status": "completed"
    },
    "tags": []
   },
   "outputs": [],
   "source": [
    "def filter_files(filenames, start_time, timestamp):\n",
    "    filtered_files = []\n",
    "    offset = timedelta(minutes=3)\n",
    "    start_time -= offset\n",
    "    timestamp += offset\n",
    "    for filename in filenames:\n",
    "        fname_time = get_fname_time(filename).replace(microsecond=0)\n",
    "        if start_time <= fname_time <= timestamp:\n",
    "            filtered_files.append(filename)\n",
    "    return filtered_files"
   ]
  },
  {
   "cell_type": "code",
   "execution_count": 18,
   "id": "71a568fa",
   "metadata": {
    "execution": {
     "iopub.execute_input": "2024-11-12T06:35:24.459018Z",
     "iopub.status.busy": "2024-11-12T06:35:24.458634Z",
     "iopub.status.idle": "2024-11-12T06:35:24.468491Z",
     "shell.execute_reply": "2024-11-12T06:35:24.467341Z"
    },
    "papermill": {
     "duration": 0.020032,
     "end_time": "2024-11-12T06:35:24.470770",
     "exception": false,
     "start_time": "2024-11-12T06:35:24.450738",
     "status": "completed"
    },
    "tags": []
   },
   "outputs": [],
   "source": [
    "def combine_audio(timestamp, filenames):\n",
    "    start_time = timestamp - timedelta(seconds=DAVIS_INTERVAL)\n",
    "    combined_audio = []\n",
    "    filtered_files = filter_files(filenames, start_time, timestamp)\n",
    "    for filename in filtered_files:\n",
    "        file_path = join(NON_MECH_PATH, filename)\n",
    "        audio_data, sampling_rate, audio_duration = load_wav(file_path)\n",
    "        fname_time = get_fname_time(filename).replace(microsecond=0)\n",
    "        fname_end_time = fname_time+timedelta(seconds=audio_duration)\n",
    "#         print(start_time, timestamp, fname_time, fname_end_time)\n",
    "        if fname_time<start_time and fname_end_time<=start_time:\n",
    "            continue\n",
    "        elif fname_time<start_time and fname_end_time>start_time:\n",
    "#             print(\"Getting parts of: \", filename)\n",
    "            end_secs = (fname_end_time-start_time).total_seconds()\n",
    "            init_secs = audio_duration-end_secs\n",
    "            audio_data = audio_data[int(init_secs*sampling_rate):]\n",
    "        elif fname_time==start_time or fname_end_time==timestamp:\n",
    "#             print(\"Getting fullof\")\n",
    "            pass\n",
    "        elif fname_time>start_time and fname_end_time<timestamp:\n",
    "#             print(\"Getting fullof\")\n",
    "            pass\n",
    "        elif fname_time<timestamp and fname_end_time>timestamp:\n",
    "#             print(\"Getting parts of: \", filename)\n",
    "            end_secs = (fname_end_time-timestamp).total_seconds()\n",
    "            init_secs = audio_duration-end_secs\n",
    "            audio_data = audio_data[:int(init_secs*sampling_rate)]\n",
    "        elif fname_time>=timestamp:\n",
    "            continue\n",
    "        combined_audio.extend(audio_data)\n",
    "    combined_audio = np.array(combined_audio)\n",
    "    return combined_audio"
   ]
  },
  {
   "cell_type": "code",
   "execution_count": 19,
   "id": "850fc194",
   "metadata": {
    "execution": {
     "iopub.execute_input": "2024-11-12T06:35:24.489247Z",
     "iopub.status.busy": "2024-11-12T06:35:24.488820Z",
     "iopub.status.idle": "2024-11-12T06:39:51.722026Z",
     "shell.execute_reply": "2024-11-12T06:39:51.720210Z"
    },
    "papermill": {
     "duration": 267.24546,
     "end_time": "2024-11-12T06:39:51.725315",
     "exception": false,
     "start_time": "2024-11-12T06:35:24.479855",
     "status": "completed"
    },
    "tags": []
   },
   "outputs": [
    {
     "name": "stderr",
     "output_type": "stream",
     "text": [
      "100%|██████████| 553/553 [04:27<00:00,  2.07it/s]\n"
     ]
    }
   ],
   "source": [
    "data_basic = pd.DataFrame()\n",
    "target = np.array([])\n",
    "audio_lens=[]\n",
    "for idx, row in tqdm(mech_data.iterrows(), total=mech_data.shape[0]):\n",
    "    check_point = row[\"time\"]\n",
    "    rainfall = row[\"rainfall\"]\n",
    "    audio_sample = combine_audio(check_point, wave_files)\n",
    "    audio_len = audio_sample.shape[0]\n",
    "    audio_lens.append(audio_len)\n",
    "    if audio_sample.shape[0]>=MAX_LEN:\n",
    "        audio_sample = audio_sample[-MAX_LEN:]\n",
    "#         write(join(\"data\",\"audio_{}.wav\".format(idx)), Fs, audio_sample)\n",
    "        with open(join(\"data\",\"audio_{}.npy\".format(idx)), \"wb\") as f:\n",
    "            np.save(f, audio_sample)\n",
    "        data_row = {\"checkpoint\": check_point,\n",
    "                    \"fname\": \"audio_{}.wav\".format(idx), \n",
    "                    \"target\": row[\"rainfall\"]}\n",
    "        data_basic = pd.concat([data_basic, pd.DataFrame([data_row])], ignore_index=True)"
   ]
  },
  {
   "cell_type": "code",
   "execution_count": 20,
   "id": "38b7e94b",
   "metadata": {
    "execution": {
     "iopub.execute_input": "2024-11-12T06:39:51.925436Z",
     "iopub.status.busy": "2024-11-12T06:39:51.924129Z",
     "iopub.status.idle": "2024-11-12T06:39:51.933288Z",
     "shell.execute_reply": "2024-11-12T06:39:51.932134Z"
    },
    "papermill": {
     "duration": 0.055356,
     "end_time": "2024-11-12T06:39:51.935725",
     "exception": false,
     "start_time": "2024-11-12T06:39:51.880369",
     "status": "completed"
    },
    "tags": []
   },
   "outputs": [
    {
     "name": "stdout",
     "output_type": "stream",
     "text": [
      "Counter({1376000: 202, 1384000: 160, 1368000: 53, 1392000: 17, 1326412: 11, 1409588: 6, 1358412: 6, 1382412: 5, 1334412: 5, 1310412: 5, 1342412: 5, 1374412: 5, 1310430: 5, 1360000: 4, 1342430: 4, 1398412: 3, 1422412: 3, 1326430: 3, 1433588: 2, 1390412: 2, 1406412: 2, 1385588: 2, 1350412: 2, 1366412: 2, 1417588: 2, 1369588: 2, 1438412: 2, 1401588: 2, 1414412: 2, 1318430: 2, 1366430: 2, 1334430: 2, 1398430: 2, 1318412: 1, 1352000: 1, 1232000: 1, 1280000: 1, 1302412: 1, 1296000: 1, 1433570: 1, 1358430: 1, 1390430: 1, 1393570: 1, 1422430: 1, 1409570: 1, 1406430: 1, 1385570: 1, 1430430: 1, 1417570: 1, 1438430: 1, 1374430: 1, 1350430: 1, 964570: 1, 1294430: 1})\n"
     ]
    }
   ],
   "source": [
    "print(Counter(audio_lens))"
   ]
  },
  {
   "cell_type": "code",
   "execution_count": 21,
   "id": "83b11cdf",
   "metadata": {
    "execution": {
     "iopub.execute_input": "2024-11-12T06:39:52.021135Z",
     "iopub.status.busy": "2024-11-12T06:39:52.020641Z",
     "iopub.status.idle": "2024-11-12T06:39:52.042456Z",
     "shell.execute_reply": "2024-11-12T06:39:52.041354Z"
    },
    "papermill": {
     "duration": 0.067587,
     "end_time": "2024-11-12T06:39:52.045080",
     "exception": false,
     "start_time": "2024-11-12T06:39:51.977493",
     "status": "completed"
    },
    "tags": []
   },
   "outputs": [],
   "source": [
    "data_basic.to_csv(\"data_basic.csv\")\n",
    "mech_data.to_csv(\"mech_data.csv\")"
   ]
  },
  {
   "cell_type": "code",
   "execution_count": 22,
   "id": "991f5fb6",
   "metadata": {
    "execution": {
     "iopub.execute_input": "2024-11-12T06:39:52.130447Z",
     "iopub.status.busy": "2024-11-12T06:39:52.129986Z",
     "iopub.status.idle": "2024-11-12T06:39:52.147164Z",
     "shell.execute_reply": "2024-11-12T06:39:52.146092Z"
    },
    "papermill": {
     "duration": 0.062536,
     "end_time": "2024-11-12T06:39:52.149335",
     "exception": false,
     "start_time": "2024-11-12T06:39:52.086799",
     "status": "completed"
    },
    "tags": []
   },
   "outputs": [
    {
     "data": {
      "text/html": [
       "<div>\n",
       "<style scoped>\n",
       "    .dataframe tbody tr th:only-of-type {\n",
       "        vertical-align: middle;\n",
       "    }\n",
       "\n",
       "    .dataframe tbody tr th {\n",
       "        vertical-align: top;\n",
       "    }\n",
       "\n",
       "    .dataframe thead th {\n",
       "        text-align: right;\n",
       "    }\n",
       "</style>\n",
       "<table border=\"1\" class=\"dataframe\">\n",
       "  <thead>\n",
       "    <tr style=\"text-align: right;\">\n",
       "      <th></th>\n",
       "      <th>time</th>\n",
       "      <th>rainfall</th>\n",
       "    </tr>\n",
       "  </thead>\n",
       "  <tbody>\n",
       "    <tr>\n",
       "      <th>0</th>\n",
       "      <td>2024-10-23 16:18:25.801606</td>\n",
       "      <td>0.0</td>\n",
       "    </tr>\n",
       "    <tr>\n",
       "      <th>1</th>\n",
       "      <td>2024-10-23 16:21:25.801604</td>\n",
       "      <td>1.2</td>\n",
       "    </tr>\n",
       "    <tr>\n",
       "      <th>2</th>\n",
       "      <td>2024-10-23 16:24:25.801603</td>\n",
       "      <td>0.6</td>\n",
       "    </tr>\n",
       "    <tr>\n",
       "      <th>3</th>\n",
       "      <td>2024-10-23 16:27:25.801605</td>\n",
       "      <td>4.2</td>\n",
       "    </tr>\n",
       "    <tr>\n",
       "      <th>4</th>\n",
       "      <td>2024-10-23 16:30:25.801606</td>\n",
       "      <td>0.6</td>\n",
       "    </tr>\n",
       "    <tr>\n",
       "      <th>...</th>\n",
       "      <td>...</td>\n",
       "      <td>...</td>\n",
       "    </tr>\n",
       "    <tr>\n",
       "      <th>548</th>\n",
       "      <td>2024-11-08 18:28:09.803826</td>\n",
       "      <td>0.4</td>\n",
       "    </tr>\n",
       "    <tr>\n",
       "      <th>549</th>\n",
       "      <td>2024-11-08 20:16:09.803825</td>\n",
       "      <td>0.0</td>\n",
       "    </tr>\n",
       "    <tr>\n",
       "      <th>550</th>\n",
       "      <td>2024-11-08 20:46:09.803827</td>\n",
       "      <td>0.0</td>\n",
       "    </tr>\n",
       "    <tr>\n",
       "      <th>551</th>\n",
       "      <td>2024-11-09 07:16:09.803827</td>\n",
       "      <td>0.6</td>\n",
       "    </tr>\n",
       "    <tr>\n",
       "      <th>552</th>\n",
       "      <td>2024-11-09 12:13:09.803827</td>\n",
       "      <td>0.0</td>\n",
       "    </tr>\n",
       "  </tbody>\n",
       "</table>\n",
       "<p>553 rows × 2 columns</p>\n",
       "</div>"
      ],
      "text/plain": [
       "                          time  rainfall\n",
       "0   2024-10-23 16:18:25.801606       0.0\n",
       "1   2024-10-23 16:21:25.801604       1.2\n",
       "2   2024-10-23 16:24:25.801603       0.6\n",
       "3   2024-10-23 16:27:25.801605       4.2\n",
       "4   2024-10-23 16:30:25.801606       0.6\n",
       "..                         ...       ...\n",
       "548 2024-11-08 18:28:09.803826       0.4\n",
       "549 2024-11-08 20:16:09.803825       0.0\n",
       "550 2024-11-08 20:46:09.803827       0.0\n",
       "551 2024-11-09 07:16:09.803827       0.6\n",
       "552 2024-11-09 12:13:09.803827       0.0\n",
       "\n",
       "[553 rows x 2 columns]"
      ]
     },
     "execution_count": 22,
     "metadata": {},
     "output_type": "execute_result"
    }
   ],
   "source": [
    "mech_data"
   ]
  },
  {
   "cell_type": "code",
   "execution_count": 23,
   "id": "b60b700f",
   "metadata": {
    "execution": {
     "iopub.execute_input": "2024-11-12T06:39:52.235553Z",
     "iopub.status.busy": "2024-11-12T06:39:52.234515Z",
     "iopub.status.idle": "2024-11-12T06:39:52.250373Z",
     "shell.execute_reply": "2024-11-12T06:39:52.249331Z"
    },
    "papermill": {
     "duration": 0.061377,
     "end_time": "2024-11-12T06:39:52.252814",
     "exception": false,
     "start_time": "2024-11-12T06:39:52.191437",
     "status": "completed"
    },
    "tags": []
   },
   "outputs": [
    {
     "data": {
      "text/html": [
       "<div>\n",
       "<style scoped>\n",
       "    .dataframe tbody tr th:only-of-type {\n",
       "        vertical-align: middle;\n",
       "    }\n",
       "\n",
       "    .dataframe tbody tr th {\n",
       "        vertical-align: top;\n",
       "    }\n",
       "\n",
       "    .dataframe thead th {\n",
       "        text-align: right;\n",
       "    }\n",
       "</style>\n",
       "<table border=\"1\" class=\"dataframe\">\n",
       "  <thead>\n",
       "    <tr style=\"text-align: right;\">\n",
       "      <th></th>\n",
       "      <th>checkpoint</th>\n",
       "      <th>fname</th>\n",
       "      <th>target</th>\n",
       "    </tr>\n",
       "  </thead>\n",
       "  <tbody>\n",
       "    <tr>\n",
       "      <th>0</th>\n",
       "      <td>2024-10-23 16:18:25.801606</td>\n",
       "      <td>audio_0.wav</td>\n",
       "      <td>0.0</td>\n",
       "    </tr>\n",
       "    <tr>\n",
       "      <th>1</th>\n",
       "      <td>2024-10-23 16:21:25.801604</td>\n",
       "      <td>audio_1.wav</td>\n",
       "      <td>1.2</td>\n",
       "    </tr>\n",
       "    <tr>\n",
       "      <th>2</th>\n",
       "      <td>2024-10-23 16:24:25.801603</td>\n",
       "      <td>audio_2.wav</td>\n",
       "      <td>0.6</td>\n",
       "    </tr>\n",
       "    <tr>\n",
       "      <th>3</th>\n",
       "      <td>2024-10-23 16:27:25.801605</td>\n",
       "      <td>audio_3.wav</td>\n",
       "      <td>4.2</td>\n",
       "    </tr>\n",
       "    <tr>\n",
       "      <th>4</th>\n",
       "      <td>2024-10-23 16:30:25.801606</td>\n",
       "      <td>audio_4.wav</td>\n",
       "      <td>0.6</td>\n",
       "    </tr>\n",
       "    <tr>\n",
       "      <th>...</th>\n",
       "      <td>...</td>\n",
       "      <td>...</td>\n",
       "      <td>...</td>\n",
       "    </tr>\n",
       "    <tr>\n",
       "      <th>480</th>\n",
       "      <td>2024-11-08 14:13:09.803826</td>\n",
       "      <td>audio_541.wav</td>\n",
       "      <td>7.2</td>\n",
       "    </tr>\n",
       "    <tr>\n",
       "      <th>481</th>\n",
       "      <td>2024-11-08 14:16:09.803825</td>\n",
       "      <td>audio_542.wav</td>\n",
       "      <td>7.2</td>\n",
       "    </tr>\n",
       "    <tr>\n",
       "      <th>482</th>\n",
       "      <td>2024-11-08 14:19:09.803825</td>\n",
       "      <td>audio_543.wav</td>\n",
       "      <td>4.8</td>\n",
       "    </tr>\n",
       "    <tr>\n",
       "      <th>483</th>\n",
       "      <td>2024-11-08 14:22:09.803827</td>\n",
       "      <td>audio_544.wav</td>\n",
       "      <td>4.2</td>\n",
       "    </tr>\n",
       "    <tr>\n",
       "      <th>484</th>\n",
       "      <td>2024-11-08 18:28:09.803826</td>\n",
       "      <td>audio_548.wav</td>\n",
       "      <td>0.4</td>\n",
       "    </tr>\n",
       "  </tbody>\n",
       "</table>\n",
       "<p>485 rows × 3 columns</p>\n",
       "</div>"
      ],
      "text/plain": [
       "                    checkpoint          fname  target\n",
       "0   2024-10-23 16:18:25.801606    audio_0.wav     0.0\n",
       "1   2024-10-23 16:21:25.801604    audio_1.wav     1.2\n",
       "2   2024-10-23 16:24:25.801603    audio_2.wav     0.6\n",
       "3   2024-10-23 16:27:25.801605    audio_3.wav     4.2\n",
       "4   2024-10-23 16:30:25.801606    audio_4.wav     0.6\n",
       "..                         ...            ...     ...\n",
       "480 2024-11-08 14:13:09.803826  audio_541.wav     7.2\n",
       "481 2024-11-08 14:16:09.803825  audio_542.wav     7.2\n",
       "482 2024-11-08 14:19:09.803825  audio_543.wav     4.8\n",
       "483 2024-11-08 14:22:09.803827  audio_544.wav     4.2\n",
       "484 2024-11-08 18:28:09.803826  audio_548.wav     0.4\n",
       "\n",
       "[485 rows x 3 columns]"
      ]
     },
     "execution_count": 23,
     "metadata": {},
     "output_type": "execute_result"
    }
   ],
   "source": [
    "data_basic"
   ]
  }
 ],
 "metadata": {
  "kaggle": {
   "accelerator": "none",
   "dataSources": [
    {
     "datasetId": 5963948,
     "sourceId": 9742904,
     "sourceType": "datasetVersion"
    }
   ],
   "dockerImageVersionId": 30587,
   "isGpuEnabled": false,
   "isInternetEnabled": true,
   "language": "python",
   "sourceType": "notebook"
  },
  "kernelspec": {
   "display_name": "Python 3",
   "language": "python",
   "name": "python3"
  },
  "language_info": {
   "codemirror_mode": {
    "name": "ipython",
    "version": 3
   },
   "file_extension": ".py",
   "mimetype": "text/x-python",
   "name": "python",
   "nbconvert_exporter": "python",
   "pygments_lexer": "ipython3",
   "version": "3.10.12"
  },
  "papermill": {
   "default_parameters": {},
   "duration": 275.990329,
   "end_time": "2024-11-12T06:39:53.520222",
   "environment_variables": {},
   "exception": null,
   "input_path": "__notebook__.ipynb",
   "output_path": "__notebook__.ipynb",
   "parameters": {},
   "start_time": "2024-11-12T06:35:17.529893",
   "version": "2.4.0"
  }
 },
 "nbformat": 4,
 "nbformat_minor": 5
}
