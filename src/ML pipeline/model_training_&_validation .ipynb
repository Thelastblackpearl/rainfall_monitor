{
 "cells": [
  {
   "cell_type": "code",
   "execution_count": 1,
   "id": "9832766c",
   "metadata": {
    "_cell_guid": "b1076dfc-b9ad-4769-8c92-a6c4dae69d19",
    "_uuid": "8f2839f25d086af736a60e9eeb907d3b93b6e0e5",
    "execution": {
     "iopub.execute_input": "2024-11-12T06:45:50.741226Z",
     "iopub.status.busy": "2024-11-12T06:45:50.740857Z",
     "iopub.status.idle": "2024-11-12T06:46:05.254438Z",
     "shell.execute_reply": "2024-11-12T06:46:05.253516Z"
    },
    "papermill": {
     "duration": 14.530203,
     "end_time": "2024-11-12T06:46:05.257254",
     "exception": false,
     "start_time": "2024-11-12T06:45:50.727051",
     "status": "completed"
    },
    "tags": []
   },
   "outputs": [
    {
     "name": "stderr",
     "output_type": "stream",
     "text": [
      "/opt/conda/lib/python3.10/site-packages/scipy/__init__.py:146: UserWarning: A NumPy version >=1.16.5 and <1.23.0 is required for this version of SciPy (detected version 1.24.3\n",
      "  warnings.warn(f\"A NumPy version >={np_minversion} and <{np_maxversion}\"\n"
     ]
    }
   ],
   "source": [
    "import pickle\n",
    "import librosa\n",
    "import numpy as np\n",
    "import pandas as pd\n",
    "from tqdm import tqdm\n",
    "from os import listdir\n",
    "import tensorflow as tf\n",
    "from os.path import join\n",
    "from datetime import datetime\n",
    "from keras.models import Model\n",
    "import matplotlib.pyplot as plt\n",
    "from keras.utils import Sequence\n",
    "from keras.utils import plot_model\n",
    "from keras.models import Sequential\n",
    "from sklearn.metrics import r2_score\n",
    "from tensorflow.keras.regularizers import l2\n",
    "from tensorflow.keras.optimizers import Adam\n",
    "from keras.layers import Conv2D, MaxPooling2D\n",
    "from keras.layers import Dense, LSTM, Reshape, Input\n",
    "from sklearn.model_selection import train_test_split\n",
    "from tensorflow.keras.callbacks import ModelCheckpoint"
   ]
  },
  {
   "cell_type": "code",
   "execution_count": 2,
   "id": "f31da80f",
   "metadata": {
    "execution": {
     "iopub.execute_input": "2024-11-12T06:46:05.285342Z",
     "iopub.status.busy": "2024-11-12T06:46:05.284753Z",
     "iopub.status.idle": "2024-11-12T06:46:05.290503Z",
     "shell.execute_reply": "2024-11-12T06:46:05.289595Z"
    },
    "papermill": {
     "duration": 0.021639,
     "end_time": "2024-11-12T06:46:05.292615",
     "exception": false,
     "start_time": "2024-11-12T06:46:05.270976",
     "status": "completed"
    },
    "tags": []
   },
   "outputs": [],
   "source": [
    "DATA_PATH = \"/kaggle/input/rain-data-enclosure-3-master-stitched\"\n",
    "AUDIO_PATH = \"/kaggle/input/rain-data-enclosure-3-master-stitched/data\"\n",
    "BASIC_DATA_PATH = join(DATA_PATH, \"data_basic.csv\")\n",
    "Fs = 8000\n",
    "MODEL_NAME=\"seq_stft_enc3.hdf5\"\n",
    "MODEL_WEIGHTS_NAME = \"seq_stft_enc3_weights.h5\"\n",
    "TFLITE_MODEL_NAME = \"seq_stft_enc3.tflite\"\n",
    "TFLITE_MODEL_NAME_2 = \"seq_stft_enc3_b.tflite\"\n",
    "SEQ_LEN = 1368000 # 171 seconds @ Fs 8k samples/sec\n",
    "LEARNING_RATE = 0.001"
   ]
  },
  {
   "cell_type": "code",
   "execution_count": 3,
   "id": "0781e62a",
   "metadata": {
    "execution": {
     "iopub.execute_input": "2024-11-12T06:46:05.317254Z",
     "iopub.status.busy": "2024-11-12T06:46:05.316929Z",
     "iopub.status.idle": "2024-11-12T06:46:05.322451Z",
     "shell.execute_reply": "2024-11-12T06:46:05.321564Z"
    },
    "papermill": {
     "duration": 0.020354,
     "end_time": "2024-11-12T06:46:05.324768",
     "exception": false,
     "start_time": "2024-11-12T06:46:05.304414",
     "status": "completed"
    },
    "tags": []
   },
   "outputs": [],
   "source": [
    "def find_zero_point_percentage(df):\n",
    "    df_non_zero = df[df[\"target\"]!=0]\n",
    "    df_zero = df[df[\"target\"]==0]\n",
    "    T = df.shape[0]\n",
    "    non_zeros = df_non_zero.shape[0]\n",
    "    zeros = df_zero.shape[0]\n",
    "    print(\"Percentage of Zero datapoints: \",zeros*100/T, \"%\")"
   ]
  },
  {
   "cell_type": "code",
   "execution_count": 4,
   "id": "c9f0b5b9",
   "metadata": {
    "execution": {
     "iopub.execute_input": "2024-11-12T06:46:05.350872Z",
     "iopub.status.busy": "2024-11-12T06:46:05.350442Z",
     "iopub.status.idle": "2024-11-12T06:46:05.384797Z",
     "shell.execute_reply": "2024-11-12T06:46:05.383695Z"
    },
    "papermill": {
     "duration": 0.050833,
     "end_time": "2024-11-12T06:46:05.387500",
     "exception": false,
     "start_time": "2024-11-12T06:46:05.336667",
     "status": "completed"
    },
    "tags": []
   },
   "outputs": [],
   "source": [
    "basic_data = pd.read_csv(BASIC_DATA_PATH)\n",
    "basic_data = basic_data[[\"checkpoint\",\"fname\",\"target\"]]\n",
    "basic_data[\"checkpoint\"] = pd.to_datetime(basic_data[\"checkpoint\"])"
   ]
  },
  {
   "cell_type": "code",
   "execution_count": 5,
   "id": "b08aca66",
   "metadata": {
    "execution": {
     "iopub.execute_input": "2024-11-12T06:46:05.417951Z",
     "iopub.status.busy": "2024-11-12T06:46:05.417084Z",
     "iopub.status.idle": "2024-11-12T06:46:05.424735Z",
     "shell.execute_reply": "2024-11-12T06:46:05.423804Z"
    },
    "papermill": {
     "duration": 0.024978,
     "end_time": "2024-11-12T06:46:05.426908",
     "exception": false,
     "start_time": "2024-11-12T06:46:05.401930",
     "status": "completed"
    },
    "tags": []
   },
   "outputs": [],
   "source": [
    "basic_data = basic_data.drop_duplicates(subset=[\"checkpoint\"])"
   ]
  },
  {
   "cell_type": "code",
   "execution_count": 6,
   "id": "6306ed56",
   "metadata": {
    "execution": {
     "iopub.execute_input": "2024-11-12T06:46:05.452661Z",
     "iopub.status.busy": "2024-11-12T06:46:05.452027Z",
     "iopub.status.idle": "2024-11-12T06:46:05.471620Z",
     "shell.execute_reply": "2024-11-12T06:46:05.470667Z"
    },
    "papermill": {
     "duration": 0.034869,
     "end_time": "2024-11-12T06:46:05.474067",
     "exception": false,
     "start_time": "2024-11-12T06:46:05.439198",
     "status": "completed"
    },
    "tags": []
   },
   "outputs": [
    {
     "data": {
      "text/html": [
       "<div>\n",
       "<style scoped>\n",
       "    .dataframe tbody tr th:only-of-type {\n",
       "        vertical-align: middle;\n",
       "    }\n",
       "\n",
       "    .dataframe tbody tr th {\n",
       "        vertical-align: top;\n",
       "    }\n",
       "\n",
       "    .dataframe thead th {\n",
       "        text-align: right;\n",
       "    }\n",
       "</style>\n",
       "<table border=\"1\" class=\"dataframe\">\n",
       "  <thead>\n",
       "    <tr style=\"text-align: right;\">\n",
       "      <th></th>\n",
       "      <th>checkpoint</th>\n",
       "      <th>fname</th>\n",
       "      <th>target</th>\n",
       "    </tr>\n",
       "  </thead>\n",
       "  <tbody>\n",
       "    <tr>\n",
       "      <th>0</th>\n",
       "      <td>2024-10-23 16:18:25.801606</td>\n",
       "      <td>audio_0.wav</td>\n",
       "      <td>0.0</td>\n",
       "    </tr>\n",
       "    <tr>\n",
       "      <th>1</th>\n",
       "      <td>2024-10-23 16:21:25.801604</td>\n",
       "      <td>audio_1.wav</td>\n",
       "      <td>1.2</td>\n",
       "    </tr>\n",
       "    <tr>\n",
       "      <th>2</th>\n",
       "      <td>2024-10-23 16:24:25.801603</td>\n",
       "      <td>audio_2.wav</td>\n",
       "      <td>0.6</td>\n",
       "    </tr>\n",
       "    <tr>\n",
       "      <th>3</th>\n",
       "      <td>2024-10-23 16:27:25.801605</td>\n",
       "      <td>audio_3.wav</td>\n",
       "      <td>4.2</td>\n",
       "    </tr>\n",
       "    <tr>\n",
       "      <th>4</th>\n",
       "      <td>2024-10-23 16:30:25.801606</td>\n",
       "      <td>audio_4.wav</td>\n",
       "      <td>0.6</td>\n",
       "    </tr>\n",
       "    <tr>\n",
       "      <th>...</th>\n",
       "      <td>...</td>\n",
       "      <td>...</td>\n",
       "      <td>...</td>\n",
       "    </tr>\n",
       "    <tr>\n",
       "      <th>480</th>\n",
       "      <td>2024-11-08 14:13:09.803826</td>\n",
       "      <td>audio_541.wav</td>\n",
       "      <td>7.2</td>\n",
       "    </tr>\n",
       "    <tr>\n",
       "      <th>481</th>\n",
       "      <td>2024-11-08 14:16:09.803825</td>\n",
       "      <td>audio_542.wav</td>\n",
       "      <td>7.2</td>\n",
       "    </tr>\n",
       "    <tr>\n",
       "      <th>482</th>\n",
       "      <td>2024-11-08 14:19:09.803825</td>\n",
       "      <td>audio_543.wav</td>\n",
       "      <td>4.8</td>\n",
       "    </tr>\n",
       "    <tr>\n",
       "      <th>483</th>\n",
       "      <td>2024-11-08 14:22:09.803827</td>\n",
       "      <td>audio_544.wav</td>\n",
       "      <td>4.2</td>\n",
       "    </tr>\n",
       "    <tr>\n",
       "      <th>484</th>\n",
       "      <td>2024-11-08 18:28:09.803826</td>\n",
       "      <td>audio_548.wav</td>\n",
       "      <td>0.4</td>\n",
       "    </tr>\n",
       "  </tbody>\n",
       "</table>\n",
       "<p>485 rows × 3 columns</p>\n",
       "</div>"
      ],
      "text/plain": [
       "                    checkpoint          fname  target\n",
       "0   2024-10-23 16:18:25.801606    audio_0.wav     0.0\n",
       "1   2024-10-23 16:21:25.801604    audio_1.wav     1.2\n",
       "2   2024-10-23 16:24:25.801603    audio_2.wav     0.6\n",
       "3   2024-10-23 16:27:25.801605    audio_3.wav     4.2\n",
       "4   2024-10-23 16:30:25.801606    audio_4.wav     0.6\n",
       "..                         ...            ...     ...\n",
       "480 2024-11-08 14:13:09.803826  audio_541.wav     7.2\n",
       "481 2024-11-08 14:16:09.803825  audio_542.wav     7.2\n",
       "482 2024-11-08 14:19:09.803825  audio_543.wav     4.8\n",
       "483 2024-11-08 14:22:09.803827  audio_544.wav     4.2\n",
       "484 2024-11-08 18:28:09.803826  audio_548.wav     0.4\n",
       "\n",
       "[485 rows x 3 columns]"
      ]
     },
     "execution_count": 6,
     "metadata": {},
     "output_type": "execute_result"
    }
   ],
   "source": [
    "basic_data"
   ]
  },
  {
   "cell_type": "code",
   "execution_count": 7,
   "id": "c54953ac",
   "metadata": {
    "execution": {
     "iopub.execute_input": "2024-11-12T06:46:05.501372Z",
     "iopub.status.busy": "2024-11-12T06:46:05.501000Z",
     "iopub.status.idle": "2024-11-12T06:46:05.509958Z",
     "shell.execute_reply": "2024-11-12T06:46:05.508797Z"
    },
    "papermill": {
     "duration": 0.025218,
     "end_time": "2024-11-12T06:46:05.512115",
     "exception": false,
     "start_time": "2024-11-12T06:46:05.486897",
     "status": "completed"
    },
    "tags": []
   },
   "outputs": [
    {
     "name": "stdout",
     "output_type": "stream",
     "text": [
      "Percentage of Zero datapoints:  22.47422680412371 %\n"
     ]
    }
   ],
   "source": [
    "find_zero_point_percentage(basic_data)"
   ]
  },
  {
   "cell_type": "code",
   "execution_count": 8,
   "id": "84ac76db",
   "metadata": {
    "execution": {
     "iopub.execute_input": "2024-11-12T06:46:05.539717Z",
     "iopub.status.busy": "2024-11-12T06:46:05.538989Z",
     "iopub.status.idle": "2024-11-12T06:46:05.561675Z",
     "shell.execute_reply": "2024-11-12T06:46:05.560708Z"
    },
    "papermill": {
     "duration": 0.039121,
     "end_time": "2024-11-12T06:46:05.564223",
     "exception": false,
     "start_time": "2024-11-12T06:46:05.525102",
     "status": "completed"
    },
    "tags": []
   },
   "outputs": [
    {
     "data": {
      "text/html": [
       "<div>\n",
       "<style scoped>\n",
       "    .dataframe tbody tr th:only-of-type {\n",
       "        vertical-align: middle;\n",
       "    }\n",
       "\n",
       "    .dataframe tbody tr th {\n",
       "        vertical-align: top;\n",
       "    }\n",
       "\n",
       "    .dataframe thead th {\n",
       "        text-align: right;\n",
       "    }\n",
       "</style>\n",
       "<table border=\"1\" class=\"dataframe\">\n",
       "  <thead>\n",
       "    <tr style=\"text-align: right;\">\n",
       "      <th></th>\n",
       "      <th>checkpoint</th>\n",
       "      <th>fname</th>\n",
       "      <th>target</th>\n",
       "    </tr>\n",
       "  </thead>\n",
       "  <tbody>\n",
       "    <tr>\n",
       "      <th>381</th>\n",
       "      <td>2024-10-23 16:18:25.801606</td>\n",
       "      <td>audio_0.wav</td>\n",
       "      <td>0.0</td>\n",
       "    </tr>\n",
       "    <tr>\n",
       "      <th>0</th>\n",
       "      <td>2024-10-23 16:21:25.801604</td>\n",
       "      <td>audio_1.wav</td>\n",
       "      <td>1.2</td>\n",
       "    </tr>\n",
       "    <tr>\n",
       "      <th>1</th>\n",
       "      <td>2024-10-23 16:24:25.801603</td>\n",
       "      <td>audio_2.wav</td>\n",
       "      <td>0.6</td>\n",
       "    </tr>\n",
       "    <tr>\n",
       "      <th>2</th>\n",
       "      <td>2024-10-23 16:27:25.801605</td>\n",
       "      <td>audio_3.wav</td>\n",
       "      <td>4.2</td>\n",
       "    </tr>\n",
       "    <tr>\n",
       "      <th>3</th>\n",
       "      <td>2024-10-23 16:30:25.801606</td>\n",
       "      <td>audio_4.wav</td>\n",
       "      <td>0.6</td>\n",
       "    </tr>\n",
       "    <tr>\n",
       "      <th>...</th>\n",
       "      <td>...</td>\n",
       "      <td>...</td>\n",
       "      <td>...</td>\n",
       "    </tr>\n",
       "    <tr>\n",
       "      <th>371</th>\n",
       "      <td>2024-11-08 14:13:09.803826</td>\n",
       "      <td>audio_541.wav</td>\n",
       "      <td>7.2</td>\n",
       "    </tr>\n",
       "    <tr>\n",
       "      <th>372</th>\n",
       "      <td>2024-11-08 14:16:09.803825</td>\n",
       "      <td>audio_542.wav</td>\n",
       "      <td>7.2</td>\n",
       "    </tr>\n",
       "    <tr>\n",
       "      <th>373</th>\n",
       "      <td>2024-11-08 14:19:09.803825</td>\n",
       "      <td>audio_543.wav</td>\n",
       "      <td>4.8</td>\n",
       "    </tr>\n",
       "    <tr>\n",
       "      <th>374</th>\n",
       "      <td>2024-11-08 14:22:09.803827</td>\n",
       "      <td>audio_544.wav</td>\n",
       "      <td>4.2</td>\n",
       "    </tr>\n",
       "    <tr>\n",
       "      <th>375</th>\n",
       "      <td>2024-11-08 18:28:09.803826</td>\n",
       "      <td>audio_548.wav</td>\n",
       "      <td>0.4</td>\n",
       "    </tr>\n",
       "  </tbody>\n",
       "</table>\n",
       "<p>386 rows × 3 columns</p>\n",
       "</div>"
      ],
      "text/plain": [
       "                    checkpoint          fname  target\n",
       "381 2024-10-23 16:18:25.801606    audio_0.wav     0.0\n",
       "0   2024-10-23 16:21:25.801604    audio_1.wav     1.2\n",
       "1   2024-10-23 16:24:25.801603    audio_2.wav     0.6\n",
       "2   2024-10-23 16:27:25.801605    audio_3.wav     4.2\n",
       "3   2024-10-23 16:30:25.801606    audio_4.wav     0.6\n",
       "..                         ...            ...     ...\n",
       "371 2024-11-08 14:13:09.803826  audio_541.wav     7.2\n",
       "372 2024-11-08 14:16:09.803825  audio_542.wav     7.2\n",
       "373 2024-11-08 14:19:09.803825  audio_543.wav     4.8\n",
       "374 2024-11-08 14:22:09.803827  audio_544.wav     4.2\n",
       "375 2024-11-08 18:28:09.803826  audio_548.wav     0.4\n",
       "\n",
       "[386 rows x 3 columns]"
      ]
     },
     "execution_count": 8,
     "metadata": {},
     "output_type": "execute_result"
    }
   ],
   "source": [
    "basic_data_non_zero = basic_data[basic_data[\"target\"]!=0.0]\n",
    "basic_data_zero = basic_data[basic_data[\"target\"]==0.0]\n",
    "basic_data_zero = basic_data_zero.sample(n=10)\n",
    "basic_data_merged = pd.concat([basic_data_non_zero, basic_data_zero], ignore_index=True)\n",
    "basic_data = basic_data_merged.sample(frac=1)\n",
    "basic_data.sort_values(by=\"checkpoint\")"
   ]
  },
  {
   "cell_type": "code",
   "execution_count": 9,
   "id": "096d3507",
   "metadata": {
    "execution": {
     "iopub.execute_input": "2024-11-12T06:46:05.595283Z",
     "iopub.status.busy": "2024-11-12T06:46:05.594962Z",
     "iopub.status.idle": "2024-11-12T06:46:06.123240Z",
     "shell.execute_reply": "2024-11-12T06:46:06.122193Z"
    },
    "papermill": {
     "duration": 0.546535,
     "end_time": "2024-11-12T06:46:06.125498",
     "exception": false,
     "start_time": "2024-11-12T06:46:05.578963",
     "status": "completed"
    },
    "tags": []
   },
   "outputs": [
    {
     "data": {
      "text/plain": [
       "<Axes: >"
      ]
     },
     "execution_count": 9,
     "metadata": {},
     "output_type": "execute_result"
    },
    {
     "data": {
      "image/png": "[encoded data removed]",
      "text/plain": [
       "<Figure size 640x480 with 1 Axes>"
      ]
     },
     "metadata": {},
     "output_type": "display_data"
    }
   ],
   "source": [
    "basic_data[\"target\"].hist()"
   ]
  },
  {
   "cell_type": "code",
   "execution_count": 10,
   "id": "deee59c1",
   "metadata": {
    "execution": {
     "iopub.execute_input": "2024-11-12T06:46:06.154784Z",
     "iopub.status.busy": "2024-11-12T06:46:06.154024Z",
     "iopub.status.idle": "2024-11-12T06:46:06.166940Z",
     "shell.execute_reply": "2024-11-12T06:46:06.165808Z"
    },
    "papermill": {
     "duration": 0.030082,
     "end_time": "2024-11-12T06:46:06.169270",
     "exception": false,
     "start_time": "2024-11-12T06:46:06.139188",
     "status": "completed"
    },
    "tags": []
   },
   "outputs": [
    {
     "data": {
      "text/plain": [
       "target\n",
       "0.6     111\n",
       "0.4      73\n",
       "1.2      35\n",
       "1.8      16\n",
       "0.8      14\n",
       "3.6      13\n",
       "0.0      10\n",
       "2.4      10\n",
       "4.8       9\n",
       "5.4       9\n",
       "3.0       9\n",
       "1.0       8\n",
       "0.2       8\n",
       "4.2       7\n",
       "4.0       5\n",
       "3.2       4\n",
       "2.0       4\n",
       "7.2       4\n",
       "1.6       3\n",
       "2.8       3\n",
       "5.6       2\n",
       "9.6       2\n",
       "8.4       2\n",
       "4.6       2\n",
       "7.8       2\n",
       "6.0       2\n",
       "1.4       2\n",
       "4.4       2\n",
       "6.6       2\n",
       "6.8       1\n",
       "2.2       1\n",
       "7.0       1\n",
       "9.0       1\n",
       "8.2       1\n",
       "5.2       1\n",
       "6.4       1\n",
       "9.2       1\n",
       "3.4       1\n",
       "7.6       1\n",
       "10.0      1\n",
       "8.8       1\n",
       "2.6       1\n",
       "Name: count, dtype: int64"
      ]
     },
     "execution_count": 10,
     "metadata": {},
     "output_type": "execute_result"
    }
   ],
   "source": [
    "basic_data[\"target\"].value_counts()"
   ]
  },
  {
   "cell_type": "code",
   "execution_count": 11,
   "id": "454135ea",
   "metadata": {
    "execution": {
     "iopub.execute_input": "2024-11-12T06:46:06.197882Z",
     "iopub.status.busy": "2024-11-12T06:46:06.197528Z",
     "iopub.status.idle": "2024-11-12T06:46:06.204510Z",
     "shell.execute_reply": "2024-11-12T06:46:06.203411Z"
    },
    "papermill": {
     "duration": 0.023617,
     "end_time": "2024-11-12T06:46:06.206955",
     "exception": false,
     "start_time": "2024-11-12T06:46:06.183338",
     "status": "completed"
    },
    "tags": []
   },
   "outputs": [
    {
     "name": "stdout",
     "output_type": "stream",
     "text": [
      "Percentage of Zero datapoints:  2.5906735751295336 %\n"
     ]
    }
   ],
   "source": [
    "find_zero_point_percentage(basic_data)"
   ]
  },
  {
   "cell_type": "code",
   "execution_count": 12,
   "id": "074d8811",
   "metadata": {
    "execution": {
     "iopub.execute_input": "2024-11-12T06:46:06.235811Z",
     "iopub.status.busy": "2024-11-12T06:46:06.235186Z",
     "iopub.status.idle": "2024-11-12T06:46:06.250277Z",
     "shell.execute_reply": "2024-11-12T06:46:06.249328Z"
    },
    "papermill": {
     "duration": 0.032055,
     "end_time": "2024-11-12T06:46:06.252370",
     "exception": false,
     "start_time": "2024-11-12T06:46:06.220315",
     "status": "completed"
    },
    "tags": []
   },
   "outputs": [
    {
     "data": {
      "text/html": [
       "<div>\n",
       "<style scoped>\n",
       "    .dataframe tbody tr th:only-of-type {\n",
       "        vertical-align: middle;\n",
       "    }\n",
       "\n",
       "    .dataframe tbody tr th {\n",
       "        vertical-align: top;\n",
       "    }\n",
       "\n",
       "    .dataframe thead th {\n",
       "        text-align: right;\n",
       "    }\n",
       "</style>\n",
       "<table border=\"1\" class=\"dataframe\">\n",
       "  <thead>\n",
       "    <tr style=\"text-align: right;\">\n",
       "      <th></th>\n",
       "      <th>checkpoint</th>\n",
       "      <th>fname</th>\n",
       "      <th>target</th>\n",
       "    </tr>\n",
       "  </thead>\n",
       "  <tbody>\n",
       "    <tr>\n",
       "      <th>2</th>\n",
       "      <td>2024-10-23 16:27:25.801605</td>\n",
       "      <td>audio_3.wav</td>\n",
       "      <td>4.2</td>\n",
       "    </tr>\n",
       "    <tr>\n",
       "      <th>72</th>\n",
       "      <td>2024-10-25 02:54:25.801604</td>\n",
       "      <td>audio_126.wav</td>\n",
       "      <td>1.0</td>\n",
       "    </tr>\n",
       "    <tr>\n",
       "      <th>40</th>\n",
       "      <td>2024-10-23 20:36:25.801604</td>\n",
       "      <td>audio_65.wav</td>\n",
       "      <td>0.4</td>\n",
       "    </tr>\n",
       "    <tr>\n",
       "      <th>149</th>\n",
       "      <td>2024-10-25 11:45:25.801603</td>\n",
       "      <td>audio_228.wav</td>\n",
       "      <td>0.6</td>\n",
       "    </tr>\n",
       "    <tr>\n",
       "      <th>298</th>\n",
       "      <td>2024-11-01 17:04:09.803828</td>\n",
       "      <td>audio_444.wav</td>\n",
       "      <td>0.6</td>\n",
       "    </tr>\n",
       "    <tr>\n",
       "      <th>...</th>\n",
       "      <td>...</td>\n",
       "      <td>...</td>\n",
       "      <td>...</td>\n",
       "    </tr>\n",
       "    <tr>\n",
       "      <th>264</th>\n",
       "      <td>2024-11-01 03:09:25.801604</td>\n",
       "      <td>audio_397.wav</td>\n",
       "      <td>0.4</td>\n",
       "    </tr>\n",
       "    <tr>\n",
       "      <th>82</th>\n",
       "      <td>2024-10-25 03:24:25.801606</td>\n",
       "      <td>audio_136.wav</td>\n",
       "      <td>1.0</td>\n",
       "    </tr>\n",
       "    <tr>\n",
       "      <th>245</th>\n",
       "      <td>2024-11-01 02:09:25.801606</td>\n",
       "      <td>audio_377.wav</td>\n",
       "      <td>0.4</td>\n",
       "    </tr>\n",
       "    <tr>\n",
       "      <th>238</th>\n",
       "      <td>2024-11-01 01:48:25.801603</td>\n",
       "      <td>audio_370.wav</td>\n",
       "      <td>2.6</td>\n",
       "    </tr>\n",
       "    <tr>\n",
       "      <th>200</th>\n",
       "      <td>2024-10-26 04:36:25.801603</td>\n",
       "      <td>audio_310.wav</td>\n",
       "      <td>0.4</td>\n",
       "    </tr>\n",
       "  </tbody>\n",
       "</table>\n",
       "<p>386 rows × 3 columns</p>\n",
       "</div>"
      ],
      "text/plain": [
       "                    checkpoint          fname  target\n",
       "2   2024-10-23 16:27:25.801605    audio_3.wav     4.2\n",
       "72  2024-10-25 02:54:25.801604  audio_126.wav     1.0\n",
       "40  2024-10-23 20:36:25.801604   audio_65.wav     0.4\n",
       "149 2024-10-25 11:45:25.801603  audio_228.wav     0.6\n",
       "298 2024-11-01 17:04:09.803828  audio_444.wav     0.6\n",
       "..                         ...            ...     ...\n",
       "264 2024-11-01 03:09:25.801604  audio_397.wav     0.4\n",
       "82  2024-10-25 03:24:25.801606  audio_136.wav     1.0\n",
       "245 2024-11-01 02:09:25.801606  audio_377.wav     0.4\n",
       "238 2024-11-01 01:48:25.801603  audio_370.wav     2.6\n",
       "200 2024-10-26 04:36:25.801603  audio_310.wav     0.4\n",
       "\n",
       "[386 rows x 3 columns]"
      ]
     },
     "execution_count": 12,
     "metadata": {},
     "output_type": "execute_result"
    }
   ],
   "source": [
    "basic_data"
   ]
  },
  {
   "cell_type": "code",
   "execution_count": 13,
   "id": "978c10b2",
   "metadata": {
    "execution": {
     "iopub.execute_input": "2024-11-12T06:46:06.280747Z",
     "iopub.status.busy": "2024-11-12T06:46:06.280403Z",
     "iopub.status.idle": "2024-11-12T06:46:06.293867Z",
     "shell.execute_reply": "2024-11-12T06:46:06.292847Z"
    },
    "papermill": {
     "duration": 0.030169,
     "end_time": "2024-11-12T06:46:06.295878",
     "exception": false,
     "start_time": "2024-11-12T06:46:06.265709",
     "status": "completed"
    },
    "tags": []
   },
   "outputs": [],
   "source": [
    "class Dataset:\n",
    "    def __init__(self, basic_data, data_path, output_shape, validation=False):\n",
    "        self.basic_data = basic_data\n",
    "        self.y = self.basic_data[\"target\"].values\n",
    "        self.X = self.basic_data[\"fname\"].values\n",
    "        self.data_path = data_path\n",
    "        self.validation = validation\n",
    "        self.output_shape = output_shape\n",
    "        self.X_train, self.X_test, self.y_train, self.y_test = train_test_split(self.X, \n",
    "                                                                                self.y,\n",
    "                                                                                test_size=0.25)\n",
    "    def __len__(self):\n",
    "        if self.validation:\n",
    "            data_len = int(np.ceil(len(self.y_test)))\n",
    "        else:\n",
    "            data_len = int(np.ceil(len(self.y_train)))\n",
    "        return int(np.ceil(data_len))\n",
    "    \n",
    "    def create_cnn_data(self, raw_data):\n",
    "        Zxx = librosa.stft(raw_data)\n",
    "        stft_sample = np.abs(Zxx)\n",
    "        return stft_sample\n",
    "    \n",
    "    def create_mfcc_data(self, raw_data):\n",
    "        mfcc = librosa.feature.mfcc(y=raw_data, sr=Fs, n_mfcc=13)\n",
    "        return mfcc\n",
    "    \n",
    "    def create_chroma_stft_data(self, raw_data):\n",
    "        chroma = librosa.feature.chroma_stft(y=raw_data, sr=Fs)\n",
    "        return chroma\n",
    "\n",
    "    def __getitem__(self, index):\n",
    "        if self.validation:\n",
    "            audio_file = self.X_test[index]\n",
    "            batch_target = self.y_test[index]\n",
    "        else:\n",
    "            audio_file = self.X_train[index]\n",
    "            batch_target = self.y_train[index]\n",
    "        audio_file = audio_file.split(\".\")[0]+\".npy\"\n",
    "        audio_data = np.load(join(self.data_path, audio_file))\n",
    "        audio_data = audio_data[:SEQ_LEN]\n",
    "        \n",
    "        features = self.create_cnn_data(audio_data)\n",
    "#         features = self.create_mfcc_data(audio_data)\n",
    "#         features = self.create_chroma_stft_data(audio_data)\n",
    "        \n",
    "        batch_target = batch_target.reshape(self.output_shape)\n",
    "\n",
    "        return features, batch_target"
   ]
  },
  {
   "cell_type": "code",
   "execution_count": 14,
   "id": "6d404377",
   "metadata": {
    "execution": {
     "iopub.execute_input": "2024-11-12T06:46:06.324100Z",
     "iopub.status.busy": "2024-11-12T06:46:06.323750Z",
     "iopub.status.idle": "2024-11-12T06:46:06.332286Z",
     "shell.execute_reply": "2024-11-12T06:46:06.331125Z"
    },
    "papermill": {
     "duration": 0.025296,
     "end_time": "2024-11-12T06:46:06.334589",
     "exception": false,
     "start_time": "2024-11-12T06:46:06.309293",
     "status": "completed"
    },
    "tags": []
   },
   "outputs": [],
   "source": [
    "class Dataloder(Sequence):    \n",
    "    def __init__(self, dataset, batch_size=1, shuffle=False):\n",
    "        self.dataset = dataset\n",
    "        self.batch_size = batch_size\n",
    "        self.shuffle = shuffle\n",
    "        self.indexes = np.arange(len(dataset))\n",
    "\n",
    "    def __getitem__(self, i):\n",
    "        start = i * self.batch_size\n",
    "        stop = (i + 1) * self.batch_size\n",
    "        data = []\n",
    "        \n",
    "        for j in range(start, stop):\n",
    "            data.append(self.dataset[j])\n",
    "        batch = [np.stack(samples, axis=0) for samples in zip(*data)]\n",
    "        return tuple(batch)\n",
    "    \n",
    "    def __len__(self):\n",
    "        return len(self.indexes) // self.batch_size\n",
    "    \n",
    "    def on_epoch_end(self):\n",
    "        if self.shuffle:\n",
    "            self.indexes = np.random.permutation(self.indexes)"
   ]
  },
  {
   "cell_type": "code",
   "execution_count": 15,
   "id": "0ddbca8f",
   "metadata": {
    "execution": {
     "iopub.execute_input": "2024-11-12T06:46:06.362910Z",
     "iopub.status.busy": "2024-11-12T06:46:06.362570Z",
     "iopub.status.idle": "2024-11-12T06:46:06.367071Z",
     "shell.execute_reply": "2024-11-12T06:46:06.366159Z"
    },
    "papermill": {
     "duration": 0.020902,
     "end_time": "2024-11-12T06:46:06.369125",
     "exception": false,
     "start_time": "2024-11-12T06:46:06.348223",
     "status": "completed"
    },
    "tags": []
   },
   "outputs": [],
   "source": [
    "EPOCHS = 30\n",
    "BATCH_SIZE = 8\n",
    "output_shape = (1, 1)"
   ]
  },
  {
   "cell_type": "code",
   "execution_count": 16,
   "id": "eebcacdf",
   "metadata": {
    "execution": {
     "iopub.execute_input": "2024-11-12T06:46:06.397938Z",
     "iopub.status.busy": "2024-11-12T06:46:06.397205Z",
     "iopub.status.idle": "2024-11-12T06:46:06.404851Z",
     "shell.execute_reply": "2024-11-12T06:46:06.403446Z"
    },
    "papermill": {
     "duration": 0.024855,
     "end_time": "2024-11-12T06:46:06.407435",
     "exception": false,
     "start_time": "2024-11-12T06:46:06.382580",
     "status": "completed"
    },
    "tags": []
   },
   "outputs": [],
   "source": [
    "train_dataset = Dataset(basic_data,\n",
    "                        AUDIO_PATH,\n",
    "                        output_shape)\n",
    "\n",
    "train_dataloader = Dataloder(train_dataset, \n",
    "                             batch_size=BATCH_SIZE)\n",
    "\n",
    "test_dataset = Dataset(basic_data,\n",
    "                       AUDIO_PATH,\n",
    "                       output_shape,\n",
    "                       validation=True)\n",
    "\n",
    "test_dataloader = Dataloder(test_dataset, \n",
    "                            batch_size=BATCH_SIZE)"
   ]
  },
  {
   "cell_type": "code",
   "execution_count": 17,
   "id": "959c6272",
   "metadata": {
    "execution": {
     "iopub.execute_input": "2024-11-12T06:46:06.439083Z",
     "iopub.status.busy": "2024-11-12T06:46:06.438386Z",
     "iopub.status.idle": "2024-11-12T06:46:07.396780Z",
     "shell.execute_reply": "2024-11-12T06:46:07.395892Z"
    },
    "papermill": {
     "duration": 0.976163,
     "end_time": "2024-11-12T06:46:07.399362",
     "exception": false,
     "start_time": "2024-11-12T06:46:06.423199",
     "status": "completed"
    },
    "tags": []
   },
   "outputs": [],
   "source": [
    "adamopt = Adam(learning_rate=LEARNING_RATE, beta_1=0.9, beta_2=0.999, epsilon=1e-8)"
   ]
  },
  {
   "cell_type": "code",
   "execution_count": 18,
   "id": "2cd25960",
   "metadata": {
    "execution": {
     "iopub.execute_input": "2024-11-12T06:46:07.479140Z",
     "iopub.status.busy": "2024-11-12T06:46:07.478098Z",
     "iopub.status.idle": "2024-11-12T06:46:07.488156Z",
     "shell.execute_reply": "2024-11-12T06:46:07.487114Z"
    },
    "papermill": {
     "duration": 0.075968,
     "end_time": "2024-11-12T06:46:07.490715",
     "exception": false,
     "start_time": "2024-11-12T06:46:07.414747",
     "status": "completed"
    },
    "tags": []
   },
   "outputs": [],
   "source": [
    "def create_functional_model():\n",
    "    model = Sequential()\n",
    "    model.add(Input((1025, 2672, 1)))\n",
    "    model.add(Conv2D(64, kernel_size=(8, 8), activation=\"relu\"))\n",
    "    model.add(MaxPooling2D(pool_size=(8, 8)))\n",
    "    model.add(Conv2D(32, kernel_size=(4, 4), activation=\"relu\"))\n",
    "    model.add(MaxPooling2D(pool_size=(4, 4)))\n",
    "    model.add(Conv2D(16, kernel_size=(2, 2), activation=\"relu\"))\n",
    "    model.add(MaxPooling2D(pool_size=(2, 2)))\n",
    "    model.add(Reshape((1, -1)))\n",
    "    model.add(LSTM(20))\n",
    "    model.add(Dense(32))\n",
    "    model.add(Dense(16))\n",
    "    model.add(Dense(1))\n",
    "    return model"
   ]
  },
  {
   "cell_type": "code",
   "execution_count": 19,
   "id": "c3eee7e3",
   "metadata": {
    "execution": {
     "iopub.execute_input": "2024-11-12T06:46:07.520885Z",
     "iopub.status.busy": "2024-11-12T06:46:07.520471Z",
     "iopub.status.idle": "2024-11-12T06:46:08.022911Z",
     "shell.execute_reply": "2024-11-12T06:46:08.021831Z"
    },
    "papermill": {
     "duration": 0.520662,
     "end_time": "2024-11-12T06:46:08.025671",
     "exception": false,
     "start_time": "2024-11-12T06:46:07.505009",
     "status": "completed"
    },
    "tags": []
   },
   "outputs": [],
   "source": [
    "model = create_functional_model()"
   ]
  },
  {
   "cell_type": "code",
   "execution_count": 20,
   "id": "4139ba6b",
   "metadata": {
    "execution": {
     "iopub.execute_input": "2024-11-12T06:46:08.055596Z",
     "iopub.status.busy": "2024-11-12T06:46:08.054884Z",
     "iopub.status.idle": "2024-11-12T06:46:08.059392Z",
     "shell.execute_reply": "2024-11-12T06:46:08.058399Z"
    },
    "papermill": {
     "duration": 0.021839,
     "end_time": "2024-11-12T06:46:08.061451",
     "exception": false,
     "start_time": "2024-11-12T06:46:08.039612",
     "status": "completed"
    },
    "tags": []
   },
   "outputs": [],
   "source": [
    "# plot_model(model,\n",
    "#            to_file=\"rain_gauge_model.png\",\n",
    "#            show_shapes=True,\n",
    "#            dpi=100)"
   ]
  },
  {
   "cell_type": "code",
   "execution_count": 21,
   "id": "ed764e89",
   "metadata": {
    "execution": {
     "iopub.execute_input": "2024-11-12T06:46:08.091084Z",
     "iopub.status.busy": "2024-11-12T06:46:08.090754Z",
     "iopub.status.idle": "2024-11-12T06:46:08.095732Z",
     "shell.execute_reply": "2024-11-12T06:46:08.094788Z"
    },
    "papermill": {
     "duration": 0.022124,
     "end_time": "2024-11-12T06:46:08.097879",
     "exception": false,
     "start_time": "2024-11-12T06:46:08.075755",
     "status": "completed"
    },
    "tags": []
   },
   "outputs": [],
   "source": [
    "cp_callback = ModelCheckpoint(filepath=MODEL_NAME,\n",
    "                              monitor=\"val_loss\",\n",
    "                              verbose=0,\n",
    "                              save_best_only=True,\n",
    "                              save_weights_only=False,\n",
    "                              mode=\"min\")"
   ]
  },
  {
   "cell_type": "code",
   "execution_count": 22,
   "id": "7a7990d3",
   "metadata": {
    "execution": {
     "iopub.execute_input": "2024-11-12T06:46:08.126160Z",
     "iopub.status.busy": "2024-11-12T06:46:08.125856Z",
     "iopub.status.idle": "2024-11-12T06:46:08.141070Z",
     "shell.execute_reply": "2024-11-12T06:46:08.140203Z"
    },
    "papermill": {
     "duration": 0.031935,
     "end_time": "2024-11-12T06:46:08.143269",
     "exception": false,
     "start_time": "2024-11-12T06:46:08.111334",
     "status": "completed"
    },
    "tags": []
   },
   "outputs": [],
   "source": [
    "model.compile(optimizer= adamopt, loss=\"mean_squared_error\", metrics=[\"mse\"])"
   ]
  },
  {
   "cell_type": "code",
   "execution_count": 23,
   "id": "20fecdeb",
   "metadata": {
    "execution": {
     "iopub.execute_input": "2024-11-12T06:46:08.172972Z",
     "iopub.status.busy": "2024-11-12T06:46:08.172627Z",
     "iopub.status.idle": "2024-11-12T07:05:09.523424Z",
     "shell.execute_reply": "2024-11-12T07:05:09.522264Z"
    },
    "papermill": {
     "duration": 1141.494496,
     "end_time": "2024-11-12T07:05:09.652110",
     "exception": false,
     "start_time": "2024-11-12T06:46:08.157614",
     "status": "completed"
    },
    "tags": []
   },
   "outputs": [
    {
     "name": "stdout",
     "output_type": "stream",
     "text": [
      "Epoch 1/30\n",
      "36/36 [==============================] - 53s 1s/step - loss: 1.9472 - mse: 1.9472 - val_loss: 1.3296 - val_mse: 1.3296\n",
      "Epoch 2/30\n"
     ]
    },
    {
     "name": "stderr",
     "output_type": "stream",
     "text": [
      "/opt/conda/lib/python3.10/site-packages/keras/src/engine/training.py:3000: UserWarning: You are saving your model as an HDF5 file via `model.save()`. This file format is considered legacy. We recommend using instead the native Keras format, e.g. `model.save('my_model.keras')`.\n",
      "  saving_api.save_model(\n"
     ]
    },
    {
     "name": "stdout",
     "output_type": "stream",
     "text": [
      "36/36 [==============================] - 37s 1s/step - loss: 1.1819 - mse: 1.1819 - val_loss: 1.2412 - val_mse: 1.2412\n",
      "Epoch 3/30\n",
      "36/36 [==============================] - 37s 1s/step - loss: 1.0130 - mse: 1.0130 - val_loss: 1.3757 - val_mse: 1.3757\n",
      "Epoch 4/30\n",
      "36/36 [==============================] - 37s 1s/step - loss: 1.0193 - mse: 1.0193 - val_loss: 0.9721 - val_mse: 0.9721\n",
      "Epoch 5/30\n",
      "36/36 [==============================] - 37s 1s/step - loss: 0.8841 - mse: 0.8841 - val_loss: 1.4642 - val_mse: 1.4642\n",
      "Epoch 6/30\n",
      "36/36 [==============================] - 36s 1s/step - loss: 0.9981 - mse: 0.9981 - val_loss: 1.1686 - val_mse: 1.1686\n",
      "Epoch 7/30\n",
      "36/36 [==============================] - 37s 1s/step - loss: 0.7939 - mse: 0.7939 - val_loss: 0.8352 - val_mse: 0.8352\n",
      "Epoch 8/30\n",
      "36/36 [==============================] - 37s 1s/step - loss: 0.6548 - mse: 0.6548 - val_loss: 0.4591 - val_mse: 0.4591\n",
      "Epoch 9/30\n",
      "36/36 [==============================] - 38s 1s/step - loss: 0.3270 - mse: 0.3270 - val_loss: 0.3700 - val_mse: 0.3700\n",
      "Epoch 10/30\n",
      "36/36 [==============================] - 38s 1s/step - loss: 0.4163 - mse: 0.4163 - val_loss: 0.4068 - val_mse: 0.4068\n",
      "Epoch 11/30\n",
      "36/36 [==============================] - 37s 1s/step - loss: 0.2492 - mse: 0.2492 - val_loss: 0.2354 - val_mse: 0.2354\n",
      "Epoch 12/30\n",
      "36/36 [==============================] - 37s 1s/step - loss: 0.1167 - mse: 0.1167 - val_loss: 0.2100 - val_mse: 0.2100\n",
      "Epoch 13/30\n",
      "36/36 [==============================] - 37s 1s/step - loss: 0.0944 - mse: 0.0944 - val_loss: 0.2120 - val_mse: 0.2120\n",
      "Epoch 14/30\n",
      "36/36 [==============================] - 37s 1s/step - loss: 0.0702 - mse: 0.0702 - val_loss: 0.1886 - val_mse: 0.1886\n",
      "Epoch 15/30\n",
      "36/36 [==============================] - 37s 1s/step - loss: 0.0468 - mse: 0.0468 - val_loss: 0.1698 - val_mse: 0.1698\n",
      "Epoch 16/30\n",
      "36/36 [==============================] - 37s 1s/step - loss: 0.0317 - mse: 0.0317 - val_loss: 0.1648 - val_mse: 0.1648\n",
      "Epoch 17/30\n",
      "36/36 [==============================] - 37s 1s/step - loss: 0.0462 - mse: 0.0462 - val_loss: 0.1867 - val_mse: 0.1867\n",
      "Epoch 18/30\n",
      "36/36 [==============================] - 37s 1s/step - loss: 0.0352 - mse: 0.0352 - val_loss: 0.1676 - val_mse: 0.1676\n",
      "Epoch 19/30\n",
      "36/36 [==============================] - 37s 1s/step - loss: 0.0227 - mse: 0.0227 - val_loss: 0.1744 - val_mse: 0.1744\n",
      "Epoch 20/30\n",
      "36/36 [==============================] - 36s 1s/step - loss: 0.0158 - mse: 0.0158 - val_loss: 0.1588 - val_mse: 0.1588\n",
      "Epoch 21/30\n",
      "36/36 [==============================] - 38s 1s/step - loss: 0.0095 - mse: 0.0095 - val_loss: 0.1579 - val_mse: 0.1579\n",
      "Epoch 22/30\n",
      "36/36 [==============================] - 37s 1s/step - loss: 0.0079 - mse: 0.0079 - val_loss: 0.1536 - val_mse: 0.1536\n",
      "Epoch 23/30\n",
      "36/36 [==============================] - 37s 1s/step - loss: 0.0098 - mse: 0.0098 - val_loss: 0.1552 - val_mse: 0.1552\n",
      "Epoch 24/30\n",
      "36/36 [==============================] - 37s 1s/step - loss: 0.0112 - mse: 0.0112 - val_loss: 0.1442 - val_mse: 0.1442\n",
      "Epoch 25/30\n",
      "36/36 [==============================] - 37s 1s/step - loss: 0.0116 - mse: 0.0116 - val_loss: 0.1611 - val_mse: 0.1611\n",
      "Epoch 26/30\n",
      "36/36 [==============================] - 37s 1s/step - loss: 0.0103 - mse: 0.0103 - val_loss: 0.1406 - val_mse: 0.1406\n",
      "Epoch 27/30\n",
      "36/36 [==============================] - 37s 1s/step - loss: 0.0110 - mse: 0.0110 - val_loss: 0.1694 - val_mse: 0.1694\n",
      "Epoch 28/30\n",
      "36/36 [==============================] - 37s 1s/step - loss: 0.0216 - mse: 0.0216 - val_loss: 0.1818 - val_mse: 0.1818\n",
      "Epoch 29/30\n",
      "36/36 [==============================] - 37s 1s/step - loss: 0.0487 - mse: 0.0487 - val_loss: 0.2074 - val_mse: 0.2074\n",
      "Epoch 30/30\n",
      "36/36 [==============================] - 38s 1s/step - loss: 0.0582 - mse: 0.0582 - val_loss: 0.2183 - val_mse: 0.2183\n"
     ]
    }
   ],
   "source": [
    "history = model.fit(train_dataloader,\n",
    "                    validation_data=test_dataloader,\n",
    "                    epochs=EPOCHS,\n",
    "                    callbacks=[cp_callback])"
   ]
  },
  {
   "cell_type": "code",
   "execution_count": 24,
   "id": "dcc22a09",
   "metadata": {
    "execution": {
     "iopub.execute_input": "2024-11-12T07:05:09.894744Z",
     "iopub.status.busy": "2024-11-12T07:05:09.893954Z",
     "iopub.status.idle": "2024-11-12T07:05:09.900065Z",
     "shell.execute_reply": "2024-11-12T07:05:09.899048Z"
    },
    "papermill": {
     "duration": 0.130001,
     "end_time": "2024-11-12T07:05:09.902385",
     "exception": false,
     "start_time": "2024-11-12T07:05:09.772384",
     "status": "completed"
    },
    "tags": []
   },
   "outputs": [],
   "source": [
    "with open(\"history.pkl\", \"wb\") as f:\n",
    "    pickle.dump(history.history, f)"
   ]
  },
  {
   "cell_type": "code",
   "execution_count": 25,
   "id": "53aba532",
   "metadata": {
    "execution": {
     "iopub.execute_input": "2024-11-12T07:05:10.137464Z",
     "iopub.status.busy": "2024-11-12T07:05:10.137087Z",
     "iopub.status.idle": "2024-11-12T07:05:10.142913Z",
     "shell.execute_reply": "2024-11-12T07:05:10.141952Z"
    },
    "papermill": {
     "duration": 0.125629,
     "end_time": "2024-11-12T07:05:10.145159",
     "exception": false,
     "start_time": "2024-11-12T07:05:10.019530",
     "status": "completed"
    },
    "tags": []
   },
   "outputs": [],
   "source": [
    "def plot_history(history):\n",
    "    plt.plot(history.history[\"loss\"])\n",
    "    plt.plot(history.history[\"val_loss\"])\n",
    "    plt.xlabel(\"Epochs\")\n",
    "    plt.ylabel(\"log Loss\")\n",
    "    plt.legend([\"train\", \"validation\"], loc=\"upper right\")\n",
    "    plt.show()"
   ]
  },
  {
   "cell_type": "code",
   "execution_count": 26,
   "id": "d38b3ba9",
   "metadata": {
    "execution": {
     "iopub.execute_input": "2024-11-12T07:05:10.386454Z",
     "iopub.status.busy": "2024-11-12T07:05:10.385590Z",
     "iopub.status.idle": "2024-11-12T07:05:10.627850Z",
     "shell.execute_reply": "2024-11-12T07:05:10.626891Z"
    },
    "papermill": {
     "duration": 0.3656,
     "end_time": "2024-11-12T07:05:10.630304",
     "exception": false,
     "start_time": "2024-11-12T07:05:10.264704",
     "status": "completed"
    },
    "tags": []
   },
   "outputs": [
    {
     "data": {
      "image/png": "[encoded data removed]",
      "text/plain": [
       "<Figure size 640x480 with 1 Axes>"
      ]
     },
     "metadata": {},
     "output_type": "display_data"
    }
   ],
   "source": [
    "plot_history(history)"
   ]
  },
  {
   "cell_type": "code",
   "execution_count": 27,
   "id": "c55cf8de",
   "metadata": {
    "execution": {
     "iopub.execute_input": "2024-11-12T07:05:10.864894Z",
     "iopub.status.busy": "2024-11-12T07:05:10.864096Z",
     "iopub.status.idle": "2024-11-12T07:05:10.902866Z",
     "shell.execute_reply": "2024-11-12T07:05:10.901792Z"
    },
    "papermill": {
     "duration": 0.1586,
     "end_time": "2024-11-12T07:05:10.905413",
     "exception": false,
     "start_time": "2024-11-12T07:05:10.746813",
     "status": "completed"
    },
    "tags": []
   },
   "outputs": [],
   "source": [
    "model.load_weights(MODEL_NAME)"
   ]
  },
  {
   "cell_type": "code",
   "execution_count": 28,
   "id": "e6f0cfab",
   "metadata": {
    "execution": {
     "iopub.execute_input": "2024-11-12T07:05:11.142970Z",
     "iopub.status.busy": "2024-11-12T07:05:11.141895Z",
     "iopub.status.idle": "2024-11-12T07:05:24.330885Z",
     "shell.execute_reply": "2024-11-12T07:05:24.329572Z"
    },
    "papermill": {
     "duration": 13.312058,
     "end_time": "2024-11-12T07:05:24.333892",
     "exception": false,
     "start_time": "2024-11-12T07:05:11.021834",
     "status": "completed"
    },
    "tags": []
   },
   "outputs": [
    {
     "name": "stderr",
     "output_type": "stream",
     "text": [
      "100%|██████████| 12/12 [00:13<00:00,  1.10s/it]\n"
     ]
    }
   ],
   "source": [
    "y_preds = []\n",
    "y_tests = []\n",
    "n_test = test_dataloader.__len__()\n",
    "for i in tqdm(range(n_test)):\n",
    "    X_test, y_test = test_dataloader.__getitem__(i)\n",
    "    y_tests.extend(y_test.flatten())\n",
    "    y_pred = model.predict(X_test, verbose=0).flatten()\n",
    "    y_preds.extend(y_pred)\n",
    "result_df = pd.DataFrame()\n",
    "result_df[\"y_tests\"] = y_tests\n",
    "result_df[\"y_preds\"] = y_preds"
   ]
  },
  {
   "cell_type": "code",
   "execution_count": 29,
   "id": "a89e4cbb",
   "metadata": {
    "execution": {
     "iopub.execute_input": "2024-11-12T07:05:24.589037Z",
     "iopub.status.busy": "2024-11-12T07:05:24.588638Z",
     "iopub.status.idle": "2024-11-12T07:05:24.593289Z",
     "shell.execute_reply": "2024-11-12T07:05:24.592241Z"
    },
    "papermill": {
     "duration": 0.129479,
     "end_time": "2024-11-12T07:05:24.595640",
     "exception": false,
     "start_time": "2024-11-12T07:05:24.466161",
     "status": "completed"
    },
    "tags": []
   },
   "outputs": [],
   "source": [
    "# outliers =  [1, 11, 25, 39]\n",
    "# result_df = result_df.loc[~result_df.index.isin(outliers)]\n",
    "# result_df = result_df[result_df[\"y_tests\"]!=0]"
   ]
  },
  {
   "cell_type": "code",
   "execution_count": 30,
   "id": "05e7c7b2",
   "metadata": {
    "execution": {
     "iopub.execute_input": "2024-11-12T07:05:24.838383Z",
     "iopub.status.busy": "2024-11-12T07:05:24.837470Z",
     "iopub.status.idle": "2024-11-12T07:05:25.167332Z",
     "shell.execute_reply": "2024-11-12T07:05:25.165897Z"
    },
    "papermill": {
     "duration": 0.454446,
     "end_time": "2024-11-12T07:05:25.169771",
     "exception": false,
     "start_time": "2024-11-12T07:05:24.715325",
     "status": "completed"
    },
    "tags": []
   },
   "outputs": [
    {
     "data": {
      "text/plain": [
       "Text(0, 0.5, 'Rainfall acoustic (mm) (estimated)')"
      ]
     },
     "execution_count": 30,
     "metadata": {},
     "output_type": "execute_result"
    },
    {
     "data": {
      "image/png": "[encoded data removed]",
      "text/plain": [
       "<Figure size 640x480 with 1 Axes>"
      ]
     },
     "metadata": {},
     "output_type": "display_data"
    }
   ],
   "source": [
    "plt.scatter(result_df[\"y_tests\"], result_df[\"y_preds\"])\n",
    "plt.xlabel(\"Rainfall mechanical (mm)\")\n",
    "plt.ylabel(\"Rainfall acoustic (mm) (estimated)\")"
   ]
  },
  {
   "cell_type": "code",
   "execution_count": 31,
   "id": "756cea9e",
   "metadata": {
    "execution": {
     "iopub.execute_input": "2024-11-12T07:05:25.415885Z",
     "iopub.status.busy": "2024-11-12T07:05:25.415433Z",
     "iopub.status.idle": "2024-11-12T07:05:25.430299Z",
     "shell.execute_reply": "2024-11-12T07:05:25.429219Z"
    },
    "papermill": {
     "duration": 0.142083,
     "end_time": "2024-11-12T07:05:25.432751",
     "exception": false,
     "start_time": "2024-11-12T07:05:25.290668",
     "status": "completed"
    },
    "tags": []
   },
   "outputs": [
    {
     "data": {
      "text/html": [
       "<div>\n",
       "<style scoped>\n",
       "    .dataframe tbody tr th:only-of-type {\n",
       "        vertical-align: middle;\n",
       "    }\n",
       "\n",
       "    .dataframe tbody tr th {\n",
       "        vertical-align: top;\n",
       "    }\n",
       "\n",
       "    .dataframe thead th {\n",
       "        text-align: right;\n",
       "    }\n",
       "</style>\n",
       "<table border=\"1\" class=\"dataframe\">\n",
       "  <thead>\n",
       "    <tr style=\"text-align: right;\">\n",
       "      <th></th>\n",
       "      <th>y_tests</th>\n",
       "      <th>y_preds</th>\n",
       "    </tr>\n",
       "  </thead>\n",
       "  <tbody>\n",
       "    <tr>\n",
       "      <th>0</th>\n",
       "      <td>0.6</td>\n",
       "      <td>0.599899</td>\n",
       "    </tr>\n",
       "    <tr>\n",
       "      <th>1</th>\n",
       "      <td>0.6</td>\n",
       "      <td>0.481624</td>\n",
       "    </tr>\n",
       "    <tr>\n",
       "      <th>2</th>\n",
       "      <td>5.6</td>\n",
       "      <td>3.905408</td>\n",
       "    </tr>\n",
       "    <tr>\n",
       "      <th>3</th>\n",
       "      <td>0.4</td>\n",
       "      <td>0.540999</td>\n",
       "    </tr>\n",
       "    <tr>\n",
       "      <th>4</th>\n",
       "      <td>6.4</td>\n",
       "      <td>6.446773</td>\n",
       "    </tr>\n",
       "    <tr>\n",
       "      <th>...</th>\n",
       "      <td>...</td>\n",
       "      <td>...</td>\n",
       "    </tr>\n",
       "    <tr>\n",
       "      <th>91</th>\n",
       "      <td>1.8</td>\n",
       "      <td>1.814436</td>\n",
       "    </tr>\n",
       "    <tr>\n",
       "      <th>92</th>\n",
       "      <td>0.6</td>\n",
       "      <td>0.727931</td>\n",
       "    </tr>\n",
       "    <tr>\n",
       "      <th>93</th>\n",
       "      <td>3.2</td>\n",
       "      <td>3.402553</td>\n",
       "    </tr>\n",
       "    <tr>\n",
       "      <th>94</th>\n",
       "      <td>0.6</td>\n",
       "      <td>0.600056</td>\n",
       "    </tr>\n",
       "    <tr>\n",
       "      <th>95</th>\n",
       "      <td>0.6</td>\n",
       "      <td>0.337609</td>\n",
       "    </tr>\n",
       "  </tbody>\n",
       "</table>\n",
       "<p>96 rows × 2 columns</p>\n",
       "</div>"
      ],
      "text/plain": [
       "    y_tests   y_preds\n",
       "0       0.6  0.599899\n",
       "1       0.6  0.481624\n",
       "2       5.6  3.905408\n",
       "3       0.4  0.540999\n",
       "4       6.4  6.446773\n",
       "..      ...       ...\n",
       "91      1.8  1.814436\n",
       "92      0.6  0.727931\n",
       "93      3.2  3.402553\n",
       "94      0.6  0.600056\n",
       "95      0.6  0.337609\n",
       "\n",
       "[96 rows x 2 columns]"
      ]
     },
     "execution_count": 31,
     "metadata": {},
     "output_type": "execute_result"
    }
   ],
   "source": [
    "result_df"
   ]
  },
  {
   "cell_type": "code",
   "execution_count": 32,
   "id": "29a8a8aa",
   "metadata": {
    "execution": {
     "iopub.execute_input": "2024-11-12T07:05:25.674521Z",
     "iopub.status.busy": "2024-11-12T07:05:25.674113Z",
     "iopub.status.idle": "2024-11-12T07:05:25.683284Z",
     "shell.execute_reply": "2024-11-12T07:05:25.682297Z"
    },
    "papermill": {
     "duration": 0.133597,
     "end_time": "2024-11-12T07:05:25.686022",
     "exception": false,
     "start_time": "2024-11-12T07:05:25.552425",
     "status": "completed"
    },
    "tags": []
   },
   "outputs": [
    {
     "name": "stdout",
     "output_type": "stream",
     "text": [
      "Mean Absolute Percentage Error: 14.069%\n"
     ]
    }
   ],
   "source": [
    "result = result_df[(result_df[\"y_tests\"]!=0.0)]\n",
    "A = result[\"y_tests\"]\n",
    "F = result[\"y_preds\"]\n",
    "N = result.shape[0]\n",
    "MAPE = np.sum(abs((A-F)/(A+0.00001)))*100/N\n",
    "print(\"Mean Absolute Percentage Error: {}%\".format(np.round(MAPE, 3)))"
   ]
  },
  {
   "cell_type": "code",
   "execution_count": 33,
   "id": "d9129f9c",
   "metadata": {
    "execution": {
     "iopub.execute_input": "2024-11-12T07:05:25.935046Z",
     "iopub.status.busy": "2024-11-12T07:05:25.934649Z",
     "iopub.status.idle": "2024-11-12T07:05:25.951970Z",
     "shell.execute_reply": "2024-11-12T07:05:25.950841Z"
    },
    "papermill": {
     "duration": 0.144919,
     "end_time": "2024-11-12T07:05:25.954385",
     "exception": false,
     "start_time": "2024-11-12T07:05:25.809466",
     "status": "completed"
    },
    "tags": []
   },
   "outputs": [
    {
     "data": {
      "text/html": [
       "<div>\n",
       "<style scoped>\n",
       "    .dataframe tbody tr th:only-of-type {\n",
       "        vertical-align: middle;\n",
       "    }\n",
       "\n",
       "    .dataframe tbody tr th {\n",
       "        vertical-align: top;\n",
       "    }\n",
       "\n",
       "    .dataframe thead th {\n",
       "        text-align: right;\n",
       "    }\n",
       "</style>\n",
       "<table border=\"1\" class=\"dataframe\">\n",
       "  <thead>\n",
       "    <tr style=\"text-align: right;\">\n",
       "      <th></th>\n",
       "      <th>y_tests</th>\n",
       "      <th>y_preds</th>\n",
       "    </tr>\n",
       "  </thead>\n",
       "  <tbody>\n",
       "    <tr>\n",
       "      <th>y_tests</th>\n",
       "      <td>1.000000</td>\n",
       "      <td>0.901169</td>\n",
       "    </tr>\n",
       "    <tr>\n",
       "      <th>y_preds</th>\n",
       "      <td>0.901169</td>\n",
       "      <td>1.000000</td>\n",
       "    </tr>\n",
       "  </tbody>\n",
       "</table>\n",
       "</div>"
      ],
      "text/plain": [
       "          y_tests   y_preds\n",
       "y_tests  1.000000  0.901169\n",
       "y_preds  0.901169  1.000000"
      ]
     },
     "execution_count": 33,
     "metadata": {},
     "output_type": "execute_result"
    }
   ],
   "source": [
    "result_df.corr(method='spearman')"
   ]
  },
  {
   "cell_type": "code",
   "execution_count": 34,
   "id": "52ac1d3a",
   "metadata": {
    "execution": {
     "iopub.execute_input": "2024-11-12T07:05:26.202373Z",
     "iopub.status.busy": "2024-11-12T07:05:26.201971Z",
     "iopub.status.idle": "2024-11-12T07:05:26.213056Z",
     "shell.execute_reply": "2024-11-12T07:05:26.211562Z"
    },
    "papermill": {
     "duration": 0.13934,
     "end_time": "2024-11-12T07:05:26.215709",
     "exception": false,
     "start_time": "2024-11-12T07:05:26.076369",
     "status": "completed"
    },
    "tags": []
   },
   "outputs": [
    {
     "name": "stdout",
     "output_type": "stream",
     "text": [
      "R2 score:  0.9719678426478278\n"
     ]
    },
    {
     "name": "stderr",
     "output_type": "stream",
     "text": [
      "/opt/conda/lib/python3.10/site-packages/sklearn/utils/validation.py:605: FutureWarning: is_sparse is deprecated and will be removed in a future version. Check `isinstance(dtype, pd.SparseDtype)` instead.\n",
      "  if is_sparse(pd_dtype):\n",
      "/opt/conda/lib/python3.10/site-packages/sklearn/utils/validation.py:614: FutureWarning: is_sparse is deprecated and will be removed in a future version. Check `isinstance(dtype, pd.SparseDtype)` instead.\n",
      "  if is_sparse(pd_dtype) or not is_extension_array_dtype(pd_dtype):\n",
      "/opt/conda/lib/python3.10/site-packages/sklearn/utils/validation.py:605: FutureWarning: is_sparse is deprecated and will be removed in a future version. Check `isinstance(dtype, pd.SparseDtype)` instead.\n",
      "  if is_sparse(pd_dtype):\n",
      "/opt/conda/lib/python3.10/site-packages/sklearn/utils/validation.py:614: FutureWarning: is_sparse is deprecated and will be removed in a future version. Check `isinstance(dtype, pd.SparseDtype)` instead.\n",
      "  if is_sparse(pd_dtype) or not is_extension_array_dtype(pd_dtype):\n"
     ]
    }
   ],
   "source": [
    "print(\"R2 score: \", r2_score(result_df[\"y_tests\"], result_df[\"y_preds\"]))"
   ]
  },
  {
   "cell_type": "code",
   "execution_count": 35,
   "id": "d3b20152",
   "metadata": {
    "execution": {
     "iopub.execute_input": "2024-11-12T07:05:26.470404Z",
     "iopub.status.busy": "2024-11-12T07:05:26.469532Z",
     "iopub.status.idle": "2024-11-12T07:05:26.477922Z",
     "shell.execute_reply": "2024-11-12T07:05:26.476980Z"
    },
    "papermill": {
     "duration": 0.135131,
     "end_time": "2024-11-12T07:05:26.480064",
     "exception": false,
     "start_time": "2024-11-12T07:05:26.344933",
     "status": "completed"
    },
    "tags": []
   },
   "outputs": [],
   "source": [
    "result_df.to_csv(\"result_df.csv\")"
   ]
  },
  {
   "cell_type": "code",
   "execution_count": 36,
   "id": "3208393c",
   "metadata": {
    "execution": {
     "iopub.execute_input": "2024-11-12T07:05:26.725516Z",
     "iopub.status.busy": "2024-11-12T07:05:26.725122Z",
     "iopub.status.idle": "2024-11-12T07:05:26.755430Z",
     "shell.execute_reply": "2024-11-12T07:05:26.754545Z"
    },
    "papermill": {
     "duration": 0.15721,
     "end_time": "2024-11-12T07:05:26.758106",
     "exception": false,
     "start_time": "2024-11-12T07:05:26.600896",
     "status": "completed"
    },
    "tags": []
   },
   "outputs": [],
   "source": [
    "model.save_weights(MODEL_WEIGHTS_NAME)"
   ]
  },
  {
   "cell_type": "code",
   "execution_count": 37,
   "id": "f0c87f70",
   "metadata": {
    "execution": {
     "iopub.execute_input": "2024-11-12T07:05:27.007436Z",
     "iopub.status.busy": "2024-11-12T07:05:27.006733Z",
     "iopub.status.idle": "2024-11-12T07:05:27.014010Z",
     "shell.execute_reply": "2024-11-12T07:05:27.012944Z"
    },
    "papermill": {
     "duration": 0.134692,
     "end_time": "2024-11-12T07:05:27.016382",
     "exception": false,
     "start_time": "2024-11-12T07:05:26.881690",
     "status": "completed"
    },
    "tags": []
   },
   "outputs": [],
   "source": [
    "def create_tflite_model():\n",
    "    converter = tf.lite.TFLiteConverter.from_keras_model(model)\n",
    "    converter.target_spec.supported_ops = [\n",
    "        tf.lite.OpsSet.TFLITE_BUILTINS,\n",
    "        tf.lite.OpsSet.SELECT_TF_OPS]\n",
    "    converter.optimizations = [tf.lite.Optimize.OPTIMIZE_FOR_LATENCY]\n",
    "    try:\n",
    "        tflite_model = converter.convert()\n",
    "        with open(TFLITE_MODEL_NAME, 'wb') as f:\n",
    "            f.write(tflite_model)\n",
    "    except Exception as e:\n",
    "        print(\"Error during conversion:\", e)"
   ]
  },
  {
   "cell_type": "code",
   "execution_count": 38,
   "id": "0dd76f2e",
   "metadata": {
    "execution": {
     "iopub.execute_input": "2024-11-12T07:05:27.268143Z",
     "iopub.status.busy": "2024-11-12T07:05:27.267292Z",
     "iopub.status.idle": "2024-11-12T07:05:27.275666Z",
     "shell.execute_reply": "2024-11-12T07:05:27.274462Z"
    },
    "papermill": {
     "duration": 0.138825,
     "end_time": "2024-11-12T07:05:27.278008",
     "exception": false,
     "start_time": "2024-11-12T07:05:27.139183",
     "status": "completed"
    },
    "tags": []
   },
   "outputs": [],
   "source": [
    "def create_tflite_model2():\n",
    "    run_model = tf.function(lambda x: model(x))\n",
    "    BATCH_SIZE = 1\n",
    "    concrete_func = run_model.get_concrete_function(\n",
    "        tf.TensorSpec([BATCH_SIZE, 1025, 2672, 1], model.inputs[0].dtype))\n",
    "    MODEL_DIR = \"keras_lstm\"\n",
    "    model.save(MODEL_DIR, save_format=\"tf\", signatures=concrete_func)\n",
    "    converter = tf.lite.TFLiteConverter.from_saved_model(MODEL_DIR)\n",
    "    tflite_model = converter.convert()\n",
    "    try:\n",
    "        tflite_model = converter.convert()\n",
    "        with open(TFLITE_MODEL_NAME_2, 'wb') as f:\n",
    "            f.write(tflite_model)\n",
    "    except Exception as e:\n",
    "        print(\"Error during conversion:\", e)"
   ]
  },
  {
   "cell_type": "code",
   "execution_count": 39,
   "id": "2adaa3a2",
   "metadata": {
    "execution": {
     "iopub.execute_input": "2024-11-12T07:05:27.528406Z",
     "iopub.status.busy": "2024-11-12T07:05:27.527601Z",
     "iopub.status.idle": "2024-11-12T07:05:37.505697Z",
     "shell.execute_reply": "2024-11-12T07:05:37.504568Z"
    },
    "papermill": {
     "duration": 10.104516,
     "end_time": "2024-11-12T07:05:37.508364",
     "exception": false,
     "start_time": "2024-11-12T07:05:27.403848",
     "status": "completed"
    },
    "tags": []
   },
   "outputs": [],
   "source": [
    "create_tflite_model()"
   ]
  },
  {
   "cell_type": "code",
   "execution_count": 40,
   "id": "7f83d55c",
   "metadata": {
    "execution": {
     "iopub.execute_input": "2024-11-12T07:05:37.804381Z",
     "iopub.status.busy": "2024-11-12T07:05:37.803968Z",
     "iopub.status.idle": "2024-11-12T07:05:46.444491Z",
     "shell.execute_reply": "2024-11-12T07:05:46.443319Z"
    },
    "papermill": {
     "duration": 8.762469,
     "end_time": "2024-11-12T07:05:46.447298",
     "exception": false,
     "start_time": "2024-11-12T07:05:37.684829",
     "status": "completed"
    },
    "tags": []
   },
   "outputs": [],
   "source": [
    "create_tflite_model2()"
   ]
  },
  {
   "cell_type": "code",
   "execution_count": 41,
   "id": "6f547bc0",
   "metadata": {
    "execution": {
     "iopub.execute_input": "2024-11-12T07:05:46.694162Z",
     "iopub.status.busy": "2024-11-12T07:05:46.693233Z",
     "iopub.status.idle": "2024-11-12T07:05:50.534497Z",
     "shell.execute_reply": "2024-11-12T07:05:50.533098Z"
    },
    "papermill": {
     "duration": 3.967897,
     "end_time": "2024-11-12T07:05:50.537222",
     "exception": false,
     "start_time": "2024-11-12T07:05:46.569325",
     "status": "completed"
    },
    "tags": []
   },
   "outputs": [],
   "source": [
    "!pip freeze>requirements.txt"
   ]
  }
 ],
 "metadata": {
  "kaggle": {
   "accelerator": "gpu",
   "dataSources": [
    {
     "datasetId": 5969510,
     "sourceId": 9750398,
     "sourceType": "datasetVersion"
    }
   ],
   "dockerImageVersionId": 30588,
   "isGpuEnabled": true,
   "isInternetEnabled": true,
   "language": "python",
   "sourceType": "notebook"
  },
  "kernelspec": {
   "display_name": "Python 3",
   "language": "python",
   "name": "python3"
  },
  "language_info": {
   "codemirror_mode": {
    "name": "ipython",
    "version": 3
   },
   "file_extension": ".py",
   "mimetype": "text/x-python",
   "name": "python",
   "nbconvert_exporter": "python",
   "pygments_lexer": "ipython3",
   "version": "3.10.12"
  },
  "papermill": {
   "default_parameters": {},
   "duration": 1207.430993,
   "end_time": "2024-11-12T07:05:54.277790",
   "environment_variables": {},
   "exception": null,
   "input_path": "__notebook__.ipynb",
   "output_path": "__notebook__.ipynb",
   "parameters": {},
   "start_time": "2024-11-12T06:45:46.846797",
   "version": "2.4.0"
  }
 },
 "nbformat": 4,
 "nbformat_minor": 5
}
