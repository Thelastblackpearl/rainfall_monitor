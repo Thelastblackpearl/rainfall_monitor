{
 "cells": [
  {
   "cell_type": "code",
   "execution_count": 1,
   "id": "64674d1f",
   "metadata": {
    "execution": {
     "iopub.execute_input": "2024-04-20T09:43:25.367700Z",
     "iopub.status.busy": "2024-04-20T09:43:25.366900Z",
     "iopub.status.idle": "2024-04-20T09:43:49.141160Z",
     "shell.execute_reply": "2024-04-20T09:43:49.140022Z"
    },
    "papermill": {
     "duration": 23.792938,
     "end_time": "2024-04-20T09:43:49.143850",
     "exception": false,
     "start_time": "2024-04-20T09:43:25.350912",
     "status": "completed"
    },
    "tags": []
   },
   "outputs": [
    {
     "name": "stdout",
     "output_type": "stream",
     "text": [
      "Collecting cmsisdsp\r\n",
      "  Obtaining dependency information for cmsisdsp from https://files.pythonhosted.org/packages/70/03/f4fe2acec947350b68cbc95f08b5c0ef507ac1f839092c93f2c46d507da0/cmsisdsp-1.9.7-cp310-cp310-manylinux_2_17_x86_64.manylinux2014_x86_64.whl.metadata\r\n",
      "  Downloading cmsisdsp-1.9.7-cp310-cp310-manylinux_2_17_x86_64.manylinux2014_x86_64.whl.metadata (13 kB)\r\n",
      "Collecting numpy<1.23,>=1.22 (from cmsisdsp)\r\n",
      "  Obtaining dependency information for numpy<1.23,>=1.22 from https://files.pythonhosted.org/packages/b0/f4/d67c8c39efe3c45dfd32bb2a3fc49cbbe5496e575cc42b8bac60fe7b6701/numpy-1.22.4-cp310-cp310-manylinux_2_17_x86_64.manylinux2014_x86_64.whl.metadata\r\n",
      "  Downloading numpy-1.22.4-cp310-cp310-manylinux_2_17_x86_64.manylinux2014_x86_64.whl.metadata (2.0 kB)\r\n",
      "Requirement already satisfied: networkx>=3.0 in /opt/conda/lib/python3.10/site-packages (from cmsisdsp) (3.1)\r\n",
      "Requirement already satisfied: jinja2<4.0,>=3.1.2 in /opt/conda/lib/python3.10/site-packages (from cmsisdsp) (3.1.2)\r\n",
      "Requirement already satisfied: sympy>=1.7.1 in /opt/conda/lib/python3.10/site-packages (from cmsisdsp) (1.12)\r\n",
      "Requirement already satisfied: MarkupSafe<3.0,>=2.1.2 in /opt/conda/lib/python3.10/site-packages (from cmsisdsp) (2.1.3)\r\n",
      "Requirement already satisfied: mpmath>=0.19 in /opt/conda/lib/python3.10/site-packages (from sympy>=1.7.1->cmsisdsp) (1.3.0)\r\n",
      "Downloading cmsisdsp-1.9.7-cp310-cp310-manylinux_2_17_x86_64.manylinux2014_x86_64.whl (4.7 MB)\r\n",
      "\u001b[2K   \u001b[90m━━━━━━━━━━━━━━━━━━━━━━━━━━━━━━━━━━━━━━━━\u001b[0m \u001b[32m4.7/4.7 MB\u001b[0m \u001b[31m9.1 MB/s\u001b[0m eta \u001b[36m0:00:00\u001b[0m\r\n",
      "\u001b[?25hDownloading numpy-1.22.4-cp310-cp310-manylinux_2_17_x86_64.manylinux2014_x86_64.whl (16.8 MB)\r\n",
      "\u001b[2K   \u001b[90m━━━━━━━━━━━━━━━━━━━━━━━━━━━━━━━━━━━━━━━━\u001b[0m \u001b[32m16.8/16.8 MB\u001b[0m \u001b[31m12.2 MB/s\u001b[0m eta \u001b[36m0:00:00\u001b[0m\r\n",
      "\u001b[?25hInstalling collected packages: numpy, cmsisdsp\r\n",
      "  Attempting uninstall: numpy\r\n",
      "    Found existing installation: numpy 1.24.3\r\n",
      "    Uninstalling numpy-1.24.3:\r\n",
      "      Successfully uninstalled numpy-1.24.3\r\n",
      "\u001b[31mERROR: pip's dependency resolver does not currently take into account all the packages that are installed. This behaviour is the source of the following dependency conflicts.\r\n",
      "apache-beam 2.46.0 requires dill<0.3.2,>=0.3.1.1, but you have dill 0.3.7 which is incompatible.\r\n",
      "apache-beam 2.46.0 requires pyarrow<10.0.0,>=3.0.0, but you have pyarrow 14.0.1 which is incompatible.\r\n",
      "chex 0.1.84 requires numpy>=1.24.1, but you have numpy 1.22.4 which is incompatible.\r\n",
      "inequality 1.0.1 requires numpy>=1.23, but you have numpy 1.22.4 which is incompatible.\r\n",
      "libpysal 4.9.2 requires packaging>=22, but you have packaging 21.3 which is incompatible.\r\n",
      "libpysal 4.9.2 requires shapely>=2.0.1, but you have shapely 1.8.5.post1 which is incompatible.\r\n",
      "momepy 0.6.0 requires shapely>=2, but you have shapely 1.8.5.post1 which is incompatible.\r\n",
      "pymc3 3.11.5 requires numpy<1.22.2,>=1.15.0, but you have numpy 1.22.4 which is incompatible.\r\n",
      "pymc3 3.11.5 requires scipy<1.8.0,>=1.7.3, but you have scipy 1.11.3 which is incompatible.\r\n",
      "spglm 1.1.0 requires numpy>=1.23, but you have numpy 1.22.4 which is incompatible.\r\n",
      "spreg 1.4.2 requires numpy>=1.23, but you have numpy 1.22.4 which is incompatible.\r\n",
      "tensorflowjs 4.13.0 requires packaging~=23.1, but you have packaging 21.3 which is incompatible.\u001b[0m\u001b[31m\r\n",
      "\u001b[0mSuccessfully installed cmsisdsp-1.9.7 numpy-1.22.4\r\n"
     ]
    }
   ],
   "source": [
    "!pip install cmsisdsp"
   ]
  },
  {
   "cell_type": "code",
   "execution_count": 2,
   "id": "35d30a56",
   "metadata": {
    "_cell_guid": "b1076dfc-b9ad-4769-8c92-a6c4dae69d19",
    "_uuid": "8f2839f25d086af736a60e9eeb907d3b93b6e0e5",
    "execution": {
     "iopub.execute_input": "2024-04-20T09:43:49.182530Z",
     "iopub.status.busy": "2024-04-20T09:43:49.182108Z",
     "iopub.status.idle": "2024-04-20T09:44:03.955242Z",
     "shell.execute_reply": "2024-04-20T09:44:03.954334Z"
    },
    "papermill": {
     "duration": 14.795313,
     "end_time": "2024-04-20T09:44:03.957672",
     "exception": false,
     "start_time": "2024-04-20T09:43:49.162359",
     "status": "completed"
    },
    "tags": []
   },
   "outputs": [],
   "source": [
    "import pickle\n",
    "import librosa\n",
    "import pathlib\n",
    "import numpy as np\n",
    "import pandas as pd\n",
    "from tqdm import tqdm\n",
    "import tensorflow as tf\n",
    "from os.path import join\n",
    "from numpy import pi as PI\n",
    "import matplotlib.pyplot as plt\n",
    "from keras.utils import Sequence\n",
    "from keras.models import Sequential\n",
    "from sklearn.metrics import r2_score\n",
    "from tensorflow.saved_model import save\n",
    "from tensorflow.keras.optimizers import Adam\n",
    "from keras.layers import Dense, LSTM, Reshape\n",
    "from keras.layers import Conv2D, MaxPooling2D\n",
    "from sklearn.model_selection import train_test_split\n",
    "from tensorflow.keras.callbacks import ModelCheckpoint\n",
    "from cmsisdsp import arm_float_to_q15, arm_mult_q15, arm_rfft_q15\n",
    "from cmsisdsp import arm_cmplx_mag_q15, arm_rfft_instance_q15,arm_cos_f32, arm_rfft_init_q15"
   ]
  },
  {
   "cell_type": "code",
   "execution_count": 3,
   "id": "5a1df0ad",
   "metadata": {
    "execution": {
     "iopub.execute_input": "2024-04-20T09:44:03.996026Z",
     "iopub.status.busy": "2024-04-20T09:44:03.995020Z",
     "iopub.status.idle": "2024-04-20T09:44:04.000129Z",
     "shell.execute_reply": "2024-04-20T09:44:03.999362Z"
    },
    "papermill": {
     "duration": 0.026446,
     "end_time": "2024-04-20T09:44:04.002246",
     "exception": false,
     "start_time": "2024-04-20T09:44:03.975800",
     "status": "completed"
    },
    "tags": []
   },
   "outputs": [],
   "source": [
    "DATA_PATH = \"/kaggle/input/rain-seq-master\"\n",
    "BASIC_DATA_PATH = join(DATA_PATH, \"data_basic.csv\")\n",
    "model_name = \"seq_stft.weights.h5\"\n",
    "\n",
    "Fs = 8000\n",
    "LEARNING_RATE = 0.001\n",
    "WINDOW_SIZE = 512\n",
    "STEP_SIZE = 256\n",
    "SEQ_LEN = 8000"
   ]
  },
  {
   "cell_type": "code",
   "execution_count": 4,
   "id": "5c32cee3",
   "metadata": {
    "execution": {
     "iopub.execute_input": "2024-04-20T09:44:04.040008Z",
     "iopub.status.busy": "2024-04-20T09:44:04.039343Z",
     "iopub.status.idle": "2024-04-20T09:44:06.218476Z",
     "shell.execute_reply": "2024-04-20T09:44:06.217045Z"
    },
    "papermill": {
     "duration": 2.200422,
     "end_time": "2024-04-20T09:44:06.220888",
     "exception": false,
     "start_time": "2024-04-20T09:44:04.020466",
     "status": "completed"
    },
    "tags": []
   },
   "outputs": [],
   "source": [
    "!mkdir saved_TF_model\n",
    "!mkdir model"
   ]
  },
  {
   "cell_type": "code",
   "execution_count": 5,
   "id": "64f5bbe4",
   "metadata": {
    "execution": {
     "iopub.execute_input": "2024-04-20T09:44:06.258759Z",
     "iopub.status.busy": "2024-04-20T09:44:06.258348Z",
     "iopub.status.idle": "2024-04-20T09:44:06.265332Z",
     "shell.execute_reply": "2024-04-20T09:44:06.264041Z"
    },
    "papermill": {
     "duration": 0.028758,
     "end_time": "2024-04-20T09:44:06.267748",
     "exception": false,
     "start_time": "2024-04-20T09:44:06.238990",
     "status": "completed"
    },
    "tags": []
   },
   "outputs": [],
   "source": [
    "def find_zero_point_percentage(df):\n",
    "    df_non_zero = df[df[\"target\"] != 0]\n",
    "    df_zero = df[df[\"target\"] == 0]\n",
    "    T = df.shape[0]\n",
    "    non_zeros = df_non_zero.shape[0]\n",
    "    zeros = df_zero.shape[0]\n",
    "    print(\"Percentage of Zero datapoints: \", zeros * 100 / T, \"%\")"
   ]
  },
  {
   "cell_type": "code",
   "execution_count": 6,
   "id": "a3856c36",
   "metadata": {
    "execution": {
     "iopub.execute_input": "2024-04-20T09:44:06.305172Z",
     "iopub.status.busy": "2024-04-20T09:44:06.304769Z",
     "iopub.status.idle": "2024-04-20T09:44:06.351950Z",
     "shell.execute_reply": "2024-04-20T09:44:06.351099Z"
    },
    "papermill": {
     "duration": 0.068998,
     "end_time": "2024-04-20T09:44:06.354515",
     "exception": false,
     "start_time": "2024-04-20T09:44:06.285517",
     "status": "completed"
    },
    "tags": []
   },
   "outputs": [],
   "source": [
    "basic_data = pd.read_csv(BASIC_DATA_PATH)\n",
    "basic_data = basic_data[basic_data[\"target\"] != 0.4]\n",
    "basic_data = basic_data[[\"checkpoint\", \"fname\", \"target\"]]\n",
    "basic_data[\"checkpoint\"] = pd.to_datetime(basic_data[\"checkpoint\"])"
   ]
  },
  {
   "cell_type": "code",
   "execution_count": 7,
   "id": "9ba68ace",
   "metadata": {
    "execution": {
     "iopub.execute_input": "2024-04-20T09:44:06.392262Z",
     "iopub.status.busy": "2024-04-20T09:44:06.391847Z",
     "iopub.status.idle": "2024-04-20T09:44:06.398756Z",
     "shell.execute_reply": "2024-04-20T09:44:06.397638Z"
    },
    "papermill": {
     "duration": 0.028606,
     "end_time": "2024-04-20T09:44:06.401222",
     "exception": false,
     "start_time": "2024-04-20T09:44:06.372616",
     "status": "completed"
    },
    "tags": []
   },
   "outputs": [
    {
     "name": "stdout",
     "output_type": "stream",
     "text": [
      "Percentage of Zero datapoints:  68.14814814814815 %\n"
     ]
    }
   ],
   "source": [
    "find_zero_point_percentage(basic_data)"
   ]
  },
  {
   "cell_type": "code",
   "execution_count": 8,
   "id": "a6cfd128",
   "metadata": {
    "execution": {
     "iopub.execute_input": "2024-04-20T09:44:06.438788Z",
     "iopub.status.busy": "2024-04-20T09:44:06.438353Z",
     "iopub.status.idle": "2024-04-20T09:44:06.450925Z",
     "shell.execute_reply": "2024-04-20T09:44:06.449852Z"
    },
    "papermill": {
     "duration": 0.034252,
     "end_time": "2024-04-20T09:44:06.453083",
     "exception": false,
     "start_time": "2024-04-20T09:44:06.418831",
     "status": "completed"
    },
    "tags": []
   },
   "outputs": [
    {
     "data": {
      "text/plain": [
       "target\n",
       "0.0    184\n",
       "0.2     86\n",
       "Name: count, dtype: int64"
      ]
     },
     "execution_count": 8,
     "metadata": {},
     "output_type": "execute_result"
    }
   ],
   "source": [
    "basic_data[\"target\"].value_counts()"
   ]
  },
  {
   "cell_type": "code",
   "execution_count": 9,
   "id": "13e5677f",
   "metadata": {
    "execution": {
     "iopub.execute_input": "2024-04-20T09:44:06.490269Z",
     "iopub.status.busy": "2024-04-20T09:44:06.489844Z",
     "iopub.status.idle": "2024-04-20T09:44:06.516463Z",
     "shell.execute_reply": "2024-04-20T09:44:06.515325Z"
    },
    "papermill": {
     "duration": 0.047792,
     "end_time": "2024-04-20T09:44:06.518658",
     "exception": false,
     "start_time": "2024-04-20T09:44:06.470866",
     "status": "completed"
    },
    "tags": []
   },
   "outputs": [
    {
     "data": {
      "text/html": [
       "<div>\n",
       "<style scoped>\n",
       "    .dataframe tbody tr th:only-of-type {\n",
       "        vertical-align: middle;\n",
       "    }\n",
       "\n",
       "    .dataframe tbody tr th {\n",
       "        vertical-align: top;\n",
       "    }\n",
       "\n",
       "    .dataframe thead th {\n",
       "        text-align: right;\n",
       "    }\n",
       "</style>\n",
       "<table border=\"1\" class=\"dataframe\">\n",
       "  <thead>\n",
       "    <tr style=\"text-align: right;\">\n",
       "      <th></th>\n",
       "      <th>checkpoint</th>\n",
       "      <th>fname</th>\n",
       "      <th>target</th>\n",
       "    </tr>\n",
       "  </thead>\n",
       "  <tbody>\n",
       "    <tr>\n",
       "      <th>115</th>\n",
       "      <td>2024-04-11 22:20:59.757439</td>\n",
       "      <td>audio_0.npy</td>\n",
       "      <td>0.0</td>\n",
       "    </tr>\n",
       "    <tr>\n",
       "      <th>129</th>\n",
       "      <td>2024-04-11 22:21:09.757439</td>\n",
       "      <td>audio_1.npy</td>\n",
       "      <td>0.0</td>\n",
       "    </tr>\n",
       "    <tr>\n",
       "      <th>157</th>\n",
       "      <td>2024-04-11 22:21:19.757438</td>\n",
       "      <td>audio_2.npy</td>\n",
       "      <td>0.0</td>\n",
       "    </tr>\n",
       "    <tr>\n",
       "      <th>117</th>\n",
       "      <td>2024-04-11 22:21:39.757440</td>\n",
       "      <td>audio_4.npy</td>\n",
       "      <td>0.0</td>\n",
       "    </tr>\n",
       "    <tr>\n",
       "      <th>0</th>\n",
       "      <td>2024-04-11 22:21:49.757439</td>\n",
       "      <td>audio_5.npy</td>\n",
       "      <td>0.2</td>\n",
       "    </tr>\n",
       "    <tr>\n",
       "      <th>...</th>\n",
       "      <td>...</td>\n",
       "      <td>...</td>\n",
       "      <td>...</td>\n",
       "    </tr>\n",
       "    <tr>\n",
       "      <th>142</th>\n",
       "      <td>2024-04-14 06:01:29.757440</td>\n",
       "      <td>audio_272.npy</td>\n",
       "      <td>0.0</td>\n",
       "    </tr>\n",
       "    <tr>\n",
       "      <th>85</th>\n",
       "      <td>2024-04-14 06:01:59.757438</td>\n",
       "      <td>audio_275.npy</td>\n",
       "      <td>0.2</td>\n",
       "    </tr>\n",
       "    <tr>\n",
       "      <th>107</th>\n",
       "      <td>2024-04-15 06:00:29.757440</td>\n",
       "      <td>audio_283.npy</td>\n",
       "      <td>0.0</td>\n",
       "    </tr>\n",
       "    <tr>\n",
       "      <th>172</th>\n",
       "      <td>2024-04-15 06:00:49.757439</td>\n",
       "      <td>audio_285.npy</td>\n",
       "      <td>0.0</td>\n",
       "    </tr>\n",
       "    <tr>\n",
       "      <th>118</th>\n",
       "      <td>2024-04-15 06:00:59.757438</td>\n",
       "      <td>audio_286.npy</td>\n",
       "      <td>0.0</td>\n",
       "    </tr>\n",
       "  </tbody>\n",
       "</table>\n",
       "<p>176 rows × 3 columns</p>\n",
       "</div>"
      ],
      "text/plain": [
       "                    checkpoint          fname  target\n",
       "115 2024-04-11 22:20:59.757439    audio_0.npy     0.0\n",
       "129 2024-04-11 22:21:09.757439    audio_1.npy     0.0\n",
       "157 2024-04-11 22:21:19.757438    audio_2.npy     0.0\n",
       "117 2024-04-11 22:21:39.757440    audio_4.npy     0.0\n",
       "0   2024-04-11 22:21:49.757439    audio_5.npy     0.2\n",
       "..                         ...            ...     ...\n",
       "142 2024-04-14 06:01:29.757440  audio_272.npy     0.0\n",
       "85  2024-04-14 06:01:59.757438  audio_275.npy     0.2\n",
       "107 2024-04-15 06:00:29.757440  audio_283.npy     0.0\n",
       "172 2024-04-15 06:00:49.757439  audio_285.npy     0.0\n",
       "118 2024-04-15 06:00:59.757438  audio_286.npy     0.0\n",
       "\n",
       "[176 rows x 3 columns]"
      ]
     },
     "execution_count": 9,
     "metadata": {},
     "output_type": "execute_result"
    }
   ],
   "source": [
    "basic_data_non_zero = basic_data[basic_data[\"target\"] != 0]\n",
    "basic_data_zero = basic_data[basic_data[\"target\"] == 0]\n",
    "basic_data_zero = basic_data_zero.sample(n=90)\n",
    "basic_data_merged = pd.concat([basic_data_non_zero, basic_data_zero], ignore_index=True)\n",
    "basic_data = basic_data_merged.sample(frac=1)\n",
    "basic_data.sort_values(by=\"checkpoint\")"
   ]
  },
  {
   "cell_type": "code",
   "execution_count": 10,
   "id": "88070387",
   "metadata": {
    "execution": {
     "iopub.execute_input": "2024-04-20T09:44:06.557487Z",
     "iopub.status.busy": "2024-04-20T09:44:06.557061Z",
     "iopub.status.idle": "2024-04-20T09:44:06.565945Z",
     "shell.execute_reply": "2024-04-20T09:44:06.564012Z"
    },
    "papermill": {
     "duration": 0.030824,
     "end_time": "2024-04-20T09:44:06.568264",
     "exception": false,
     "start_time": "2024-04-20T09:44:06.537440",
     "status": "completed"
    },
    "tags": []
   },
   "outputs": [
    {
     "name": "stdout",
     "output_type": "stream",
     "text": [
      "Percentage of Zero datapoints:  51.13636363636363 %\n"
     ]
    }
   ],
   "source": [
    "find_zero_point_percentage(basic_data)"
   ]
  },
  {
   "cell_type": "code",
   "execution_count": 11,
   "id": "296a72b3",
   "metadata": {
    "execution": {
     "iopub.execute_input": "2024-04-20T09:44:06.608232Z",
     "iopub.status.busy": "2024-04-20T09:44:06.607769Z",
     "iopub.status.idle": "2024-04-20T09:44:06.616128Z",
     "shell.execute_reply": "2024-04-20T09:44:06.614925Z"
    },
    "papermill": {
     "duration": 0.031769,
     "end_time": "2024-04-20T09:44:06.618791",
     "exception": false,
     "start_time": "2024-04-20T09:44:06.587022",
     "status": "completed"
    },
    "tags": []
   },
   "outputs": [
    {
     "data": {
      "text/plain": [
       "Index([0.0, 0.2], dtype='float64', name='target')"
      ]
     },
     "execution_count": 11,
     "metadata": {},
     "output_type": "execute_result"
    }
   ],
   "source": [
    "basic_data[\"target\"].value_counts().keys()"
   ]
  },
  {
   "cell_type": "markdown",
   "id": "76760308",
   "metadata": {
    "papermill": {
     "duration": 0.018913,
     "end_time": "2024-04-20T09:44:06.657616",
     "exception": false,
     "start_time": "2024-04-20T09:44:06.638703",
     "status": "completed"
    },
    "tags": []
   },
   "source": [
    "### Classification of rainfall events and respective rainfallintensity ranges as defined by India Meteorological Department (IMD)\n",
    "- 0.1 - 2.4 Very Light Rain (VLR)\n",
    "- 2.5 - 7.5 Light Rain (LR)\n",
    "- 7.6 - 35.5 Moderate Rain (MR)\n",
    "- 35.6 - 64.4 Rather Heavy Rain (RHR)\n",
    "- 64.5 - 124.4 Heavy Rain (HR)\n",
    "- 124.5 - 244.4 Very Heavy Rain (VHR)\n",
    "- greater than 244.5 Extremly Heavy Rain"
   ]
  },
  {
   "cell_type": "code",
   "execution_count": 12,
   "id": "6e251ee4",
   "metadata": {
    "execution": {
     "iopub.execute_input": "2024-04-20T09:44:06.754381Z",
     "iopub.status.busy": "2024-04-20T09:44:06.753903Z",
     "iopub.status.idle": "2024-04-20T09:44:06.761319Z",
     "shell.execute_reply": "2024-04-20T09:44:06.760224Z"
    },
    "papermill": {
     "duration": 0.087587,
     "end_time": "2024-04-20T09:44:06.764472",
     "exception": false,
     "start_time": "2024-04-20T09:44:06.676885",
     "status": "completed"
    },
    "tags": []
   },
   "outputs": [
    {
     "name": "stdout",
     "output_type": "stream",
     "text": [
      "Percentage of Zero datapoints:  51.13636363636363 %\n"
     ]
    }
   ],
   "source": [
    "find_zero_point_percentage(basic_data)"
   ]
  },
  {
   "cell_type": "code",
   "execution_count": 13,
   "id": "6865be10",
   "metadata": {
    "execution": {
     "iopub.execute_input": "2024-04-20T09:44:06.806016Z",
     "iopub.status.busy": "2024-04-20T09:44:06.805213Z",
     "iopub.status.idle": "2024-04-20T09:44:06.812249Z",
     "shell.execute_reply": "2024-04-20T09:44:06.811145Z"
    },
    "papermill": {
     "duration": 0.030639,
     "end_time": "2024-04-20T09:44:06.814676",
     "exception": false,
     "start_time": "2024-04-20T09:44:06.784037",
     "status": "completed"
    },
    "tags": []
   },
   "outputs": [],
   "source": [
    "hanning_window_f32 = np.zeros(WINDOW_SIZE)\n",
    "for i in range(WINDOW_SIZE):\n",
    "    hanning_window_f32[i] = 0.5 * (1 - arm_cos_f32(2 * PI * i / WINDOW_SIZE))\n",
    "hanning_window_q15 = arm_float_to_q15(hanning_window_f32)\n",
    "rfft_instance_q15 = arm_rfft_instance_q15()\n",
    "status = arm_rfft_init_q15(rfft_instance_q15, WINDOW_SIZE, 0, 1)"
   ]
  },
  {
   "cell_type": "code",
   "execution_count": 14,
   "id": "782df574",
   "metadata": {
    "execution": {
     "iopub.execute_input": "2024-04-20T09:44:06.857530Z",
     "iopub.status.busy": "2024-04-20T09:44:06.857140Z",
     "iopub.status.idle": "2024-04-20T09:44:07.133144Z",
     "shell.execute_reply": "2024-04-20T09:44:07.132268Z"
    },
    "papermill": {
     "duration": 0.299952,
     "end_time": "2024-04-20T09:44:07.135398",
     "exception": false,
     "start_time": "2024-04-20T09:44:06.835446",
     "status": "completed"
    },
    "tags": []
   },
   "outputs": [],
   "source": [
    "class Dataset:\n",
    "    def __init__(self, basic_data, data_path, output_shape, validation=False):\n",
    "        self.basic_data = basic_data\n",
    "        self.y = self.basic_data[\"target\"].values\n",
    "        self.X = self.basic_data[\"fname\"].values\n",
    "        self.data_path = data_path\n",
    "        self.validation = validation\n",
    "        self.output_shape = output_shape\n",
    "        self.X_train, self.X_test, self.y_train, self.y_test = train_test_split(\n",
    "            self.X, self.y, test_size=0.25\n",
    "        )\n",
    "        \n",
    "    def compute_fft_CMSIS(self, audio_samples, window_size=WINDOW_SIZE, step_size=STEP_SIZE):\n",
    "        audio_samples_q15 = arm_float_to_q15(audio_samples)\n",
    "        number_of_windows = int(1 + (SEQ_LEN - window_size) // step_size)\n",
    "        fft_size = int(window_size // 2 + 1)\n",
    "        spectrogram_q15 = np.empty((fft_size,))\n",
    "        start_index = 0\n",
    "\n",
    "        for index in range(number_of_windows):\n",
    "            audio_window_q15 = audio_samples_q15[start_index : start_index + window_size]\n",
    "            processed_audio_q15 = arm_mult_q15(audio_window_q15, hanning_window_q15)\n",
    "            rfft_q15 = arm_rfft_q15(rfft_instance_q15, processed_audio_q15)\n",
    "            rfft_mag_q15 = arm_cmplx_mag_q15(rfft_q15)[:fft_size]\n",
    "            spectrogram_q15 = rfft_mag_q15\n",
    "            start_index += step_size\n",
    "        return spectrogram_q15\n",
    "\n",
    "    def compute_stft_CMSIS(self, audio_samples, window_size=WINDOW_SIZE, step_size=STEP_SIZE):\n",
    "        audio_samples_q15 = arm_float_to_q15(audio_samples)\n",
    "        number_of_windows = int(1 + (SEQ_LEN - window_size) // step_size)\n",
    "        fft_size = int(window_size // 2 + 1)\n",
    "        spectrogram_q15 = np.empty((number_of_windows, fft_size))\n",
    "        start_index = 0\n",
    "\n",
    "        for index in range(number_of_windows):\n",
    "            audio_window_q15 = audio_samples_q15[start_index : start_index + window_size]\n",
    "            processed_audio_q15 = arm_mult_q15(audio_window_q15, hanning_window_q15)\n",
    "            rfft_q15 = arm_rfft_q15(rfft_instance_q15, processed_audio_q15)\n",
    "            rfft_mag_q15 = arm_cmplx_mag_q15(rfft_q15)[:fft_size]\n",
    "            spectrogram_q15[index] = rfft_mag_q15\n",
    "            start_index += step_size\n",
    "        return spectrogram_q15\n",
    "\n",
    "    def __len__(self):\n",
    "        if self.validation:\n",
    "            data_len = int(np.ceil(len(self.y_test)))\n",
    "        else:\n",
    "            data_len = int(np.ceil(len(self.y_train)))\n",
    "        return int(np.ceil(data_len))\n",
    "\n",
    "    def create_cnn_data(self, raw_data):\n",
    "        Zxx = librosa.stft(raw_data)\n",
    "        stft_sample = np.abs(Zxx)\n",
    "        return stft_sample\n",
    "\n",
    "    def create_mfcc_data(self, raw_data):\n",
    "        mfcc = librosa.feature.mfcc(y=raw_data, sr=Fs, n_mfcc=13)\n",
    "        return mfcc\n",
    "\n",
    "    def create_chroma_stft_data(self, raw_data):\n",
    "        chroma = librosa.feature.chroma_stft(y=raw_data, sr=Fs)\n",
    "        return chroma\n",
    "\n",
    "    def __getitem__(self, index):\n",
    "        if self.validation:\n",
    "            audio_file = self.X_test[index]\n",
    "            batch_target = self.y_test[index]\n",
    "        else:\n",
    "            audio_file = self.X_train[index]\n",
    "            batch_target = self.y_train[index]\n",
    "\n",
    "        audio_data = np.load(join(self.data_path, audio_file))\n",
    "        audio_data = audio_data[:SEQ_LEN]\n",
    "        features = self.compute_fft_CMSIS(audio_data)\n",
    "#         print(features.shape)\n",
    "\n",
    "        batch_target = batch_target.reshape(self.output_shape)\n",
    "\n",
    "        return features, batch_target"
   ]
  },
  {
   "cell_type": "code",
   "execution_count": 15,
   "id": "c13ab176",
   "metadata": {
    "execution": {
     "iopub.execute_input": "2024-04-20T09:44:07.175191Z",
     "iopub.status.busy": "2024-04-20T09:44:07.174767Z",
     "iopub.status.idle": "2024-04-20T09:44:07.183290Z",
     "shell.execute_reply": "2024-04-20T09:44:07.182391Z"
    },
    "papermill": {
     "duration": 0.031382,
     "end_time": "2024-04-20T09:44:07.185656",
     "exception": false,
     "start_time": "2024-04-20T09:44:07.154274",
     "status": "completed"
    },
    "tags": []
   },
   "outputs": [],
   "source": [
    "class Dataloder(Sequence):\n",
    "    def __init__(self, dataset, batch_size=1, shuffle=False):\n",
    "        self.dataset = dataset\n",
    "        self.batch_size = batch_size\n",
    "        self.shuffle = shuffle\n",
    "        self.indexes = np.arange(len(dataset))\n",
    "\n",
    "    def __getitem__(self, i):\n",
    "        start = i * self.batch_size\n",
    "        stop = (i + 1) * self.batch_size\n",
    "        data = []\n",
    "\n",
    "        for j in range(start, stop):\n",
    "            data.append(self.dataset[j])\n",
    "        batch = [np.stack(samples, axis=0) for samples in zip(*data)]\n",
    "        return tuple(batch)\n",
    "\n",
    "    def __len__(self):\n",
    "        return len(self.indexes) // self.batch_size\n",
    "\n",
    "    def on_epoch_end(self):\n",
    "        if self.shuffle:\n",
    "            self.indexes = np.random.permutation(self.indexes)"
   ]
  },
  {
   "cell_type": "code",
   "execution_count": 16,
   "id": "008607d6",
   "metadata": {
    "execution": {
     "iopub.execute_input": "2024-04-20T09:44:07.226275Z",
     "iopub.status.busy": "2024-04-20T09:44:07.225550Z",
     "iopub.status.idle": "2024-04-20T09:44:07.230813Z",
     "shell.execute_reply": "2024-04-20T09:44:07.229768Z"
    },
    "papermill": {
     "duration": 0.027725,
     "end_time": "2024-04-20T09:44:07.232868",
     "exception": false,
     "start_time": "2024-04-20T09:44:07.205143",
     "status": "completed"
    },
    "tags": []
   },
   "outputs": [],
   "source": [
    "EPOCHS = 20\n",
    "BATCH_SIZE = 1\n",
    "output_shape = (1, 1)"
   ]
  },
  {
   "cell_type": "code",
   "execution_count": 17,
   "id": "ffbb5175",
   "metadata": {
    "execution": {
     "iopub.execute_input": "2024-04-20T09:44:07.273349Z",
     "iopub.status.busy": "2024-04-20T09:44:07.272581Z",
     "iopub.status.idle": "2024-04-20T09:44:07.279483Z",
     "shell.execute_reply": "2024-04-20T09:44:07.278251Z"
    },
    "papermill": {
     "duration": 0.030329,
     "end_time": "2024-04-20T09:44:07.282066",
     "exception": false,
     "start_time": "2024-04-20T09:44:07.251737",
     "status": "completed"
    },
    "tags": []
   },
   "outputs": [],
   "source": [
    "train_dataset = Dataset(basic_data,\n",
    "                        DATA_PATH,\n",
    "                        output_shape)\n",
    "\n",
    "train_dataloader = Dataloder(train_dataset, \n",
    "                             batch_size=BATCH_SIZE)\n",
    "\n",
    "test_dataset = Dataset(basic_data,\n",
    "                       DATA_PATH,\n",
    "                       output_shape,\n",
    "                       validation=True)\n",
    "\n",
    "test_dataloader = Dataloder(test_dataset, \n",
    "                            batch_size=BATCH_SIZE)"
   ]
  },
  {
   "cell_type": "code",
   "execution_count": 18,
   "id": "1f534fde",
   "metadata": {
    "execution": {
     "iopub.execute_input": "2024-04-20T09:44:07.322565Z",
     "iopub.status.busy": "2024-04-20T09:44:07.321877Z",
     "iopub.status.idle": "2024-04-20T09:44:07.403252Z",
     "shell.execute_reply": "2024-04-20T09:44:07.402024Z"
    },
    "papermill": {
     "duration": 0.104798,
     "end_time": "2024-04-20T09:44:07.405946",
     "exception": false,
     "start_time": "2024-04-20T09:44:07.301148",
     "status": "completed"
    },
    "tags": []
   },
   "outputs": [],
   "source": [
    "adamopt = Adam(learning_rate=LEARNING_RATE, beta_1=0.9, beta_2=0.999, epsilon=1e-8)"
   ]
  },
  {
   "cell_type": "code",
   "execution_count": 19,
   "id": "f38de225",
   "metadata": {
    "execution": {
     "iopub.execute_input": "2024-04-20T09:44:07.445397Z",
     "iopub.status.busy": "2024-04-20T09:44:07.444992Z",
     "iopub.status.idle": "2024-04-20T09:44:07.450925Z",
     "shell.execute_reply": "2024-04-20T09:44:07.449920Z"
    },
    "papermill": {
     "duration": 0.028245,
     "end_time": "2024-04-20T09:44:07.453156",
     "exception": false,
     "start_time": "2024-04-20T09:44:07.424911",
     "status": "completed"
    },
    "tags": []
   },
   "outputs": [],
   "source": [
    "def create_functional_model():\n",
    "    model = Sequential()\n",
    "    model.add(Dense(4, input_shape=(257, )))\n",
    "#     model.add(Conv2D(1, kernel_size=(2, 2), activation='relu', input_shape=(28, 513, 1)))\n",
    "#     model.add(MaxPooling2D(pool_size=(2, 2)))\n",
    "#     model.add(Conv2D(6, kernel_size=(2, 2), activation='relu'))\n",
    "#     model.add(MaxPooling2D(pool_size=(2, 2)))\n",
    "#     model.add(Reshape((1, -1)))\n",
    "#     model.add(LSTM(5))\n",
    "#     model.add(Dense(2))\n",
    "    model.add(Dense(1))\n",
    "    return model"
   ]
  },
  {
   "cell_type": "code",
   "execution_count": 20,
   "id": "5c63ec80",
   "metadata": {
    "execution": {
     "iopub.execute_input": "2024-04-20T09:44:07.492355Z",
     "iopub.status.busy": "2024-04-20T09:44:07.491938Z",
     "iopub.status.idle": "2024-04-20T09:44:07.576372Z",
     "shell.execute_reply": "2024-04-20T09:44:07.575229Z"
    },
    "papermill": {
     "duration": 0.106708,
     "end_time": "2024-04-20T09:44:07.578848",
     "exception": false,
     "start_time": "2024-04-20T09:44:07.472140",
     "status": "completed"
    },
    "tags": []
   },
   "outputs": [],
   "source": [
    "model = create_functional_model()"
   ]
  },
  {
   "cell_type": "code",
   "execution_count": 21,
   "id": "e7ea6481",
   "metadata": {
    "execution": {
     "iopub.execute_input": "2024-04-20T09:44:07.618013Z",
     "iopub.status.busy": "2024-04-20T09:44:07.617588Z",
     "iopub.status.idle": "2024-04-20T09:44:07.622934Z",
     "shell.execute_reply": "2024-04-20T09:44:07.622099Z"
    },
    "papermill": {
     "duration": 0.027338,
     "end_time": "2024-04-20T09:44:07.625074",
     "exception": false,
     "start_time": "2024-04-20T09:44:07.597736",
     "status": "completed"
    },
    "tags": []
   },
   "outputs": [],
   "source": [
    "cp_callback = ModelCheckpoint(filepath=model_name,\n",
    "                              monitor=\"val_loss\",\n",
    "                              verbose=0,\n",
    "                              save_best_only=True,\n",
    "                              save_weights_only=True,\n",
    "                              mode=\"min\")"
   ]
  },
  {
   "cell_type": "code",
   "execution_count": 22,
   "id": "bfd90b20",
   "metadata": {
    "execution": {
     "iopub.execute_input": "2024-04-20T09:44:07.664785Z",
     "iopub.status.busy": "2024-04-20T09:44:07.664378Z",
     "iopub.status.idle": "2024-04-20T09:44:07.680266Z",
     "shell.execute_reply": "2024-04-20T09:44:07.679353Z"
    },
    "papermill": {
     "duration": 0.038458,
     "end_time": "2024-04-20T09:44:07.682402",
     "exception": false,
     "start_time": "2024-04-20T09:44:07.643944",
     "status": "completed"
    },
    "tags": []
   },
   "outputs": [],
   "source": [
    "model.compile(optimizer=adamopt, loss=\"mean_squared_error\", metrics=[\"mse\"])"
   ]
  },
  {
   "cell_type": "code",
   "execution_count": 23,
   "id": "b85bb405",
   "metadata": {
    "execution": {
     "iopub.execute_input": "2024-04-20T09:44:07.722148Z",
     "iopub.status.busy": "2024-04-20T09:44:07.721201Z",
     "iopub.status.idle": "2024-04-20T09:44:07.740340Z",
     "shell.execute_reply": "2024-04-20T09:44:07.739218Z"
    },
    "papermill": {
     "duration": 0.043665,
     "end_time": "2024-04-20T09:44:07.744911",
     "exception": false,
     "start_time": "2024-04-20T09:44:07.701246",
     "status": "completed"
    },
    "tags": []
   },
   "outputs": [
    {
     "name": "stdout",
     "output_type": "stream",
     "text": [
      "Model: \"sequential\"\n",
      "_________________________________________________________________\n",
      " Layer (type)                Output Shape              Param #   \n",
      "=================================================================\n",
      " dense (Dense)               (None, 4)                 1032      \n",
      "                                                                 \n",
      " dense_1 (Dense)             (None, 1)                 5         \n",
      "                                                                 \n",
      "=================================================================\n",
      "Total params: 1037 (4.05 KB)\n",
      "Trainable params: 1037 (4.05 KB)\n",
      "Non-trainable params: 0 (0.00 Byte)\n",
      "_________________________________________________________________\n"
     ]
    }
   ],
   "source": [
    "model.summary()"
   ]
  },
  {
   "cell_type": "code",
   "execution_count": 24,
   "id": "8dcc4fbf",
   "metadata": {
    "execution": {
     "iopub.execute_input": "2024-04-20T09:44:07.786279Z",
     "iopub.status.busy": "2024-04-20T09:44:07.785873Z",
     "iopub.status.idle": "2024-04-20T09:44:36.767217Z",
     "shell.execute_reply": "2024-04-20T09:44:36.766096Z"
    },
    "papermill": {
     "duration": 29.005329,
     "end_time": "2024-04-20T09:44:36.769865",
     "exception": false,
     "start_time": "2024-04-20T09:44:07.764536",
     "status": "completed"
    },
    "tags": []
   },
   "outputs": [
    {
     "name": "stdout",
     "output_type": "stream",
     "text": [
      "Epoch 1/20\n",
      "132/132 [==============================] - 3s 20ms/step - loss: 3.9939 - mse: 3.9939 - val_loss: 2.2636 - val_mse: 2.2636\n",
      "Epoch 2/20\n",
      "132/132 [==============================] - 1s 8ms/step - loss: 1.5664 - mse: 1.5664 - val_loss: 1.4952 - val_mse: 1.4952\n",
      "Epoch 3/20\n",
      "132/132 [==============================] - 1s 7ms/step - loss: 0.8812 - mse: 0.8812 - val_loss: 1.8164 - val_mse: 1.8164\n",
      "Epoch 4/20\n",
      "132/132 [==============================] - 1s 7ms/step - loss: 0.7246 - mse: 0.7246 - val_loss: 0.7875 - val_mse: 0.7875\n",
      "Epoch 5/20\n",
      "132/132 [==============================] - 1s 7ms/step - loss: 0.4550 - mse: 0.4550 - val_loss: 0.6397 - val_mse: 0.6397\n",
      "Epoch 6/20\n",
      "132/132 [==============================] - 1s 7ms/step - loss: 0.3827 - mse: 0.3827 - val_loss: 0.6480 - val_mse: 0.6480\n",
      "Epoch 7/20\n",
      "132/132 [==============================] - 1s 7ms/step - loss: 0.2658 - mse: 0.2658 - val_loss: 0.4487 - val_mse: 0.4487\n",
      "Epoch 8/20\n",
      "132/132 [==============================] - 1s 6ms/step - loss: 0.2305 - mse: 0.2305 - val_loss: 0.3541 - val_mse: 0.3541\n",
      "Epoch 9/20\n",
      "132/132 [==============================] - 1s 7ms/step - loss: 0.1718 - mse: 0.1718 - val_loss: 0.4124 - val_mse: 0.4124\n",
      "Epoch 10/20\n",
      "132/132 [==============================] - 1s 7ms/step - loss: 0.2044 - mse: 0.2044 - val_loss: 0.2690 - val_mse: 0.2690\n",
      "Epoch 11/20\n",
      "132/132 [==============================] - 1s 7ms/step - loss: 0.2038 - mse: 0.2038 - val_loss: 0.3421 - val_mse: 0.3421\n",
      "Epoch 12/20\n",
      "132/132 [==============================] - 1s 6ms/step - loss: 0.1217 - mse: 0.1217 - val_loss: 0.2218 - val_mse: 0.2218\n",
      "Epoch 13/20\n",
      "132/132 [==============================] - 1s 7ms/step - loss: 0.1613 - mse: 0.1613 - val_loss: 0.1518 - val_mse: 0.1518\n",
      "Epoch 14/20\n",
      "132/132 [==============================] - 1s 6ms/step - loss: 0.1640 - mse: 0.1640 - val_loss: 0.2473 - val_mse: 0.2473\n",
      "Epoch 15/20\n",
      "132/132 [==============================] - 1s 6ms/step - loss: 0.1232 - mse: 0.1232 - val_loss: 0.1419 - val_mse: 0.1419\n",
      "Epoch 16/20\n",
      "132/132 [==============================] - 1s 7ms/step - loss: 0.1413 - mse: 0.1413 - val_loss: 0.2105 - val_mse: 0.2105\n",
      "Epoch 17/20\n",
      "132/132 [==============================] - 1s 7ms/step - loss: 0.1521 - mse: 0.1521 - val_loss: 0.2421 - val_mse: 0.2421\n",
      "Epoch 18/20\n",
      "132/132 [==============================] - 1s 6ms/step - loss: 0.2418 - mse: 0.2418 - val_loss: 0.5354 - val_mse: 0.5354\n",
      "Epoch 19/20\n",
      "132/132 [==============================] - 1s 7ms/step - loss: 0.2210 - mse: 0.2210 - val_loss: 0.1681 - val_mse: 0.1681\n",
      "Epoch 20/20\n",
      "132/132 [==============================] - 1s 7ms/step - loss: 0.0604 - mse: 0.0604 - val_loss: 0.1452 - val_mse: 0.1452\n"
     ]
    }
   ],
   "source": [
    "history = model.fit(train_dataloader,\n",
    "                    validation_data=test_dataloader,\n",
    "                    epochs=EPOCHS,\n",
    "                    callbacks=[cp_callback])"
   ]
  },
  {
   "cell_type": "code",
   "execution_count": 25,
   "id": "d673c3ce",
   "metadata": {
    "execution": {
     "iopub.execute_input": "2024-04-20T09:44:36.870256Z",
     "iopub.status.busy": "2024-04-20T09:44:36.869153Z",
     "iopub.status.idle": "2024-04-20T09:44:36.874022Z",
     "shell.execute_reply": "2024-04-20T09:44:36.873283Z"
    },
    "papermill": {
     "duration": 0.057302,
     "end_time": "2024-04-20T09:44:36.876076",
     "exception": false,
     "start_time": "2024-04-20T09:44:36.818774",
     "status": "completed"
    },
    "tags": []
   },
   "outputs": [],
   "source": [
    "with open(\"history.pkl\", \"wb\") as f:\n",
    "    pickle.dump(history.history, f)"
   ]
  },
  {
   "cell_type": "code",
   "execution_count": 26,
   "id": "aed1ff55",
   "metadata": {
    "execution": {
     "iopub.execute_input": "2024-04-20T09:44:36.977047Z",
     "iopub.status.busy": "2024-04-20T09:44:36.975952Z",
     "iopub.status.idle": "2024-04-20T09:44:36.981763Z",
     "shell.execute_reply": "2024-04-20T09:44:36.981034Z"
    },
    "papermill": {
     "duration": 0.05859,
     "end_time": "2024-04-20T09:44:36.983817",
     "exception": false,
     "start_time": "2024-04-20T09:44:36.925227",
     "status": "completed"
    },
    "tags": []
   },
   "outputs": [],
   "source": [
    "def plot_history(history):\n",
    "    plt.plot(history.history[\"loss\"])\n",
    "    plt.plot(history.history[\"val_loss\"])\n",
    "    plt.xlabel(\"Epochs\")\n",
    "    plt.ylabel(\"log Loss\")\n",
    "    plt.legend([\"train\", \"validation\"], loc=\"upper right\")\n",
    "    plt.show()"
   ]
  },
  {
   "cell_type": "code",
   "execution_count": 27,
   "id": "0de2071b",
   "metadata": {
    "execution": {
     "iopub.execute_input": "2024-04-20T09:44:37.083189Z",
     "iopub.status.busy": "2024-04-20T09:44:37.082570Z",
     "iopub.status.idle": "2024-04-20T09:44:37.402079Z",
     "shell.execute_reply": "2024-04-20T09:44:37.401021Z"
    },
    "papermill": {
     "duration": 0.372379,
     "end_time": "2024-04-20T09:44:37.404708",
     "exception": false,
     "start_time": "2024-04-20T09:44:37.032329",
     "status": "completed"
    },
    "tags": []
   },
   "outputs": [
    {
     "data": {
      "image/png": "[encoded data removed]",
      "text/plain": [
       "<Figure size 640x480 with 1 Axes>"
      ]
     },
     "metadata": {},
     "output_type": "display_data"
    }
   ],
   "source": [
    "plot_history(history)"
   ]
  },
  {
   "cell_type": "code",
   "execution_count": 28,
   "id": "78bb2426",
   "metadata": {
    "execution": {
     "iopub.execute_input": "2024-04-20T09:44:37.505682Z",
     "iopub.status.busy": "2024-04-20T09:44:37.505290Z",
     "iopub.status.idle": "2024-04-20T09:44:38.197421Z",
     "shell.execute_reply": "2024-04-20T09:44:38.196373Z"
    },
    "papermill": {
     "duration": 0.745944,
     "end_time": "2024-04-20T09:44:38.200189",
     "exception": false,
     "start_time": "2024-04-20T09:44:37.454245",
     "status": "completed"
    },
    "tags": []
   },
   "outputs": [],
   "source": [
    "export_dir = \"saved_TF_model\"\n",
    "save(model, export_dir)"
   ]
  },
  {
   "cell_type": "code",
   "execution_count": 29,
   "id": "444cb6e6",
   "metadata": {
    "execution": {
     "iopub.execute_input": "2024-04-20T09:44:38.302248Z",
     "iopub.status.busy": "2024-04-20T09:44:38.301819Z",
     "iopub.status.idle": "2024-04-20T09:44:38.335999Z",
     "shell.execute_reply": "2024-04-20T09:44:38.334973Z"
    },
    "papermill": {
     "duration": 0.088175,
     "end_time": "2024-04-20T09:44:38.338645",
     "exception": false,
     "start_time": "2024-04-20T09:44:38.250470",
     "status": "completed"
    },
    "tags": []
   },
   "outputs": [],
   "source": [
    "model.load_weights(model_name)"
   ]
  },
  {
   "cell_type": "code",
   "execution_count": 30,
   "id": "78f13c34",
   "metadata": {
    "execution": {
     "iopub.execute_input": "2024-04-20T09:44:38.438906Z",
     "iopub.status.busy": "2024-04-20T09:44:38.438511Z",
     "iopub.status.idle": "2024-04-20T09:44:41.398651Z",
     "shell.execute_reply": "2024-04-20T09:44:41.397428Z"
    },
    "papermill": {
     "duration": 3.012915,
     "end_time": "2024-04-20T09:44:41.401060",
     "exception": false,
     "start_time": "2024-04-20T09:44:38.388145",
     "status": "completed"
    },
    "tags": []
   },
   "outputs": [
    {
     "name": "stderr",
     "output_type": "stream",
     "text": [
      "100%|██████████| 44/44 [00:02<00:00, 14.94it/s]\n"
     ]
    }
   ],
   "source": [
    "y_preds = []\n",
    "y_tests = []\n",
    "n_test = test_dataloader.__len__()\n",
    "for i in tqdm(range(n_test)):\n",
    "    X_test, y_test = test_dataloader.__getitem__(i)\n",
    "    y_tests.append(y_test[0][0][0])\n",
    "    y_pred = model.predict(X_test, verbose=0)[0][0]\n",
    "    y_preds.append(y_pred)\n",
    "result_df = pd.DataFrame()\n",
    "result_df[\"y_tests\"] = y_tests\n",
    "result_df[\"y_preds\"] = y_preds"
   ]
  },
  {
   "cell_type": "code",
   "execution_count": 31,
   "id": "bbfc1813",
   "metadata": {
    "execution": {
     "iopub.execute_input": "2024-04-20T09:44:41.507099Z",
     "iopub.status.busy": "2024-04-20T09:44:41.506303Z",
     "iopub.status.idle": "2024-04-20T09:44:41.827831Z",
     "shell.execute_reply": "2024-04-20T09:44:41.826459Z"
    },
    "papermill": {
     "duration": 0.377361,
     "end_time": "2024-04-20T09:44:41.830409",
     "exception": false,
     "start_time": "2024-04-20T09:44:41.453048",
     "status": "completed"
    },
    "tags": []
   },
   "outputs": [
    {
     "data": {
      "text/plain": [
       "Text(0, 0.5, 'Rainfall acoustic (mm) (estimated)')"
      ]
     },
     "execution_count": 31,
     "metadata": {},
     "output_type": "execute_result"
    },
    {
     "data": {
      "image/png": "[encoded data removed]",
      "text/plain": [
       "<Figure size 640x480 with 1 Axes>"
      ]
     },
     "metadata": {},
     "output_type": "display_data"
    }
   ],
   "source": [
    "plt.scatter(result_df[\"y_tests\"], result_df[\"y_preds\"])\n",
    "plt.xlabel(\"Rainfall mechanical (mm)\")\n",
    "plt.ylabel(\"Rainfall acoustic (mm) (estimated)\")"
   ]
  },
  {
   "cell_type": "code",
   "execution_count": 32,
   "id": "4ad39694",
   "metadata": {
    "execution": {
     "iopub.execute_input": "2024-04-20T09:44:41.938200Z",
     "iopub.status.busy": "2024-04-20T09:44:41.937793Z",
     "iopub.status.idle": "2024-04-20T09:44:41.955464Z",
     "shell.execute_reply": "2024-04-20T09:44:41.954406Z"
    },
    "papermill": {
     "duration": 0.075099,
     "end_time": "2024-04-20T09:44:41.957903",
     "exception": false,
     "start_time": "2024-04-20T09:44:41.882804",
     "status": "completed"
    },
    "tags": []
   },
   "outputs": [
    {
     "data": {
      "text/html": [
       "<div>\n",
       "<style scoped>\n",
       "    .dataframe tbody tr th:only-of-type {\n",
       "        vertical-align: middle;\n",
       "    }\n",
       "\n",
       "    .dataframe tbody tr th {\n",
       "        vertical-align: top;\n",
       "    }\n",
       "\n",
       "    .dataframe thead th {\n",
       "        text-align: right;\n",
       "    }\n",
       "</style>\n",
       "<table border=\"1\" class=\"dataframe\">\n",
       "  <thead>\n",
       "    <tr style=\"text-align: right;\">\n",
       "      <th></th>\n",
       "      <th>y_tests</th>\n",
       "      <th>y_preds</th>\n",
       "    </tr>\n",
       "  </thead>\n",
       "  <tbody>\n",
       "    <tr>\n",
       "      <th>0</th>\n",
       "      <td>0.0</td>\n",
       "      <td>-0.398816</td>\n",
       "    </tr>\n",
       "    <tr>\n",
       "      <th>1</th>\n",
       "      <td>0.2</td>\n",
       "      <td>-0.042005</td>\n",
       "    </tr>\n",
       "    <tr>\n",
       "      <th>2</th>\n",
       "      <td>0.0</td>\n",
       "      <td>0.200900</td>\n",
       "    </tr>\n",
       "    <tr>\n",
       "      <th>3</th>\n",
       "      <td>0.2</td>\n",
       "      <td>0.160282</td>\n",
       "    </tr>\n",
       "    <tr>\n",
       "      <th>4</th>\n",
       "      <td>0.0</td>\n",
       "      <td>0.052275</td>\n",
       "    </tr>\n",
       "    <tr>\n",
       "      <th>5</th>\n",
       "      <td>0.0</td>\n",
       "      <td>-0.211361</td>\n",
       "    </tr>\n",
       "    <tr>\n",
       "      <th>6</th>\n",
       "      <td>0.2</td>\n",
       "      <td>-1.503297</td>\n",
       "    </tr>\n",
       "    <tr>\n",
       "      <th>7</th>\n",
       "      <td>0.0</td>\n",
       "      <td>0.345216</td>\n",
       "    </tr>\n",
       "    <tr>\n",
       "      <th>8</th>\n",
       "      <td>0.0</td>\n",
       "      <td>-0.062250</td>\n",
       "    </tr>\n",
       "    <tr>\n",
       "      <th>9</th>\n",
       "      <td>0.0</td>\n",
       "      <td>-0.398437</td>\n",
       "    </tr>\n",
       "    <tr>\n",
       "      <th>10</th>\n",
       "      <td>0.0</td>\n",
       "      <td>0.052275</td>\n",
       "    </tr>\n",
       "    <tr>\n",
       "      <th>11</th>\n",
       "      <td>0.0</td>\n",
       "      <td>-0.393088</td>\n",
       "    </tr>\n",
       "    <tr>\n",
       "      <th>12</th>\n",
       "      <td>0.2</td>\n",
       "      <td>0.052275</td>\n",
       "    </tr>\n",
       "    <tr>\n",
       "      <th>13</th>\n",
       "      <td>0.2</td>\n",
       "      <td>-0.336998</td>\n",
       "    </tr>\n",
       "    <tr>\n",
       "      <th>14</th>\n",
       "      <td>0.0</td>\n",
       "      <td>0.049623</td>\n",
       "    </tr>\n",
       "    <tr>\n",
       "      <th>15</th>\n",
       "      <td>0.0</td>\n",
       "      <td>-0.186885</td>\n",
       "    </tr>\n",
       "    <tr>\n",
       "      <th>16</th>\n",
       "      <td>0.2</td>\n",
       "      <td>0.114649</td>\n",
       "    </tr>\n",
       "    <tr>\n",
       "      <th>17</th>\n",
       "      <td>0.2</td>\n",
       "      <td>0.930623</td>\n",
       "    </tr>\n",
       "    <tr>\n",
       "      <th>18</th>\n",
       "      <td>0.0</td>\n",
       "      <td>-0.040828</td>\n",
       "    </tr>\n",
       "    <tr>\n",
       "      <th>19</th>\n",
       "      <td>0.2</td>\n",
       "      <td>-0.165105</td>\n",
       "    </tr>\n",
       "    <tr>\n",
       "      <th>20</th>\n",
       "      <td>0.0</td>\n",
       "      <td>0.417273</td>\n",
       "    </tr>\n",
       "    <tr>\n",
       "      <th>21</th>\n",
       "      <td>0.2</td>\n",
       "      <td>0.013877</td>\n",
       "    </tr>\n",
       "    <tr>\n",
       "      <th>22</th>\n",
       "      <td>0.2</td>\n",
       "      <td>0.186622</td>\n",
       "    </tr>\n",
       "    <tr>\n",
       "      <th>23</th>\n",
       "      <td>0.2</td>\n",
       "      <td>-0.296731</td>\n",
       "    </tr>\n",
       "    <tr>\n",
       "      <th>24</th>\n",
       "      <td>0.2</td>\n",
       "      <td>0.112538</td>\n",
       "    </tr>\n",
       "    <tr>\n",
       "      <th>25</th>\n",
       "      <td>0.2</td>\n",
       "      <td>0.112573</td>\n",
       "    </tr>\n",
       "    <tr>\n",
       "      <th>26</th>\n",
       "      <td>0.2</td>\n",
       "      <td>0.026840</td>\n",
       "    </tr>\n",
       "    <tr>\n",
       "      <th>27</th>\n",
       "      <td>0.2</td>\n",
       "      <td>-0.268248</td>\n",
       "    </tr>\n",
       "    <tr>\n",
       "      <th>28</th>\n",
       "      <td>0.2</td>\n",
       "      <td>-0.376863</td>\n",
       "    </tr>\n",
       "    <tr>\n",
       "      <th>29</th>\n",
       "      <td>0.0</td>\n",
       "      <td>0.212558</td>\n",
       "    </tr>\n",
       "    <tr>\n",
       "      <th>30</th>\n",
       "      <td>0.2</td>\n",
       "      <td>0.264595</td>\n",
       "    </tr>\n",
       "    <tr>\n",
       "      <th>31</th>\n",
       "      <td>0.2</td>\n",
       "      <td>0.072198</td>\n",
       "    </tr>\n",
       "    <tr>\n",
       "      <th>32</th>\n",
       "      <td>0.2</td>\n",
       "      <td>0.019825</td>\n",
       "    </tr>\n",
       "    <tr>\n",
       "      <th>33</th>\n",
       "      <td>0.0</td>\n",
       "      <td>-0.138859</td>\n",
       "    </tr>\n",
       "    <tr>\n",
       "      <th>34</th>\n",
       "      <td>0.2</td>\n",
       "      <td>0.041174</td>\n",
       "    </tr>\n",
       "    <tr>\n",
       "      <th>35</th>\n",
       "      <td>0.0</td>\n",
       "      <td>-0.075877</td>\n",
       "    </tr>\n",
       "    <tr>\n",
       "      <th>36</th>\n",
       "      <td>0.0</td>\n",
       "      <td>0.052275</td>\n",
       "    </tr>\n",
       "    <tr>\n",
       "      <th>37</th>\n",
       "      <td>0.2</td>\n",
       "      <td>-0.234003</td>\n",
       "    </tr>\n",
       "    <tr>\n",
       "      <th>38</th>\n",
       "      <td>0.2</td>\n",
       "      <td>0.052275</td>\n",
       "    </tr>\n",
       "    <tr>\n",
       "      <th>39</th>\n",
       "      <td>0.0</td>\n",
       "      <td>-0.242655</td>\n",
       "    </tr>\n",
       "    <tr>\n",
       "      <th>40</th>\n",
       "      <td>0.0</td>\n",
       "      <td>-0.103150</td>\n",
       "    </tr>\n",
       "    <tr>\n",
       "      <th>41</th>\n",
       "      <td>0.0</td>\n",
       "      <td>0.052275</td>\n",
       "    </tr>\n",
       "    <tr>\n",
       "      <th>42</th>\n",
       "      <td>0.2</td>\n",
       "      <td>0.367970</td>\n",
       "    </tr>\n",
       "    <tr>\n",
       "      <th>43</th>\n",
       "      <td>0.2</td>\n",
       "      <td>-0.038516</td>\n",
       "    </tr>\n",
       "  </tbody>\n",
       "</table>\n",
       "</div>"
      ],
      "text/plain": [
       "    y_tests   y_preds\n",
       "0       0.0 -0.398816\n",
       "1       0.2 -0.042005\n",
       "2       0.0  0.200900\n",
       "3       0.2  0.160282\n",
       "4       0.0  0.052275\n",
       "5       0.0 -0.211361\n",
       "6       0.2 -1.503297\n",
       "7       0.0  0.345216\n",
       "8       0.0 -0.062250\n",
       "9       0.0 -0.398437\n",
       "10      0.0  0.052275\n",
       "11      0.0 -0.393088\n",
       "12      0.2  0.052275\n",
       "13      0.2 -0.336998\n",
       "14      0.0  0.049623\n",
       "15      0.0 -0.186885\n",
       "16      0.2  0.114649\n",
       "17      0.2  0.930623\n",
       "18      0.0 -0.040828\n",
       "19      0.2 -0.165105\n",
       "20      0.0  0.417273\n",
       "21      0.2  0.013877\n",
       "22      0.2  0.186622\n",
       "23      0.2 -0.296731\n",
       "24      0.2  0.112538\n",
       "25      0.2  0.112573\n",
       "26      0.2  0.026840\n",
       "27      0.2 -0.268248\n",
       "28      0.2 -0.376863\n",
       "29      0.0  0.212558\n",
       "30      0.2  0.264595\n",
       "31      0.2  0.072198\n",
       "32      0.2  0.019825\n",
       "33      0.0 -0.138859\n",
       "34      0.2  0.041174\n",
       "35      0.0 -0.075877\n",
       "36      0.0  0.052275\n",
       "37      0.2 -0.234003\n",
       "38      0.2  0.052275\n",
       "39      0.0 -0.242655\n",
       "40      0.0 -0.103150\n",
       "41      0.0  0.052275\n",
       "42      0.2  0.367970\n",
       "43      0.2 -0.038516"
      ]
     },
     "execution_count": 32,
     "metadata": {},
     "output_type": "execute_result"
    }
   ],
   "source": [
    "result_df"
   ]
  },
  {
   "cell_type": "code",
   "execution_count": 33,
   "id": "ddd9e116",
   "metadata": {
    "execution": {
     "iopub.execute_input": "2024-04-20T09:44:42.066627Z",
     "iopub.status.busy": "2024-04-20T09:44:42.065280Z",
     "iopub.status.idle": "2024-04-20T09:44:42.075593Z",
     "shell.execute_reply": "2024-04-20T09:44:42.074194Z"
    },
    "papermill": {
     "duration": 0.066522,
     "end_time": "2024-04-20T09:44:42.077785",
     "exception": false,
     "start_time": "2024-04-20T09:44:42.011263",
     "status": "completed"
    },
    "tags": []
   },
   "outputs": [
    {
     "name": "stdout",
     "output_type": "stream",
     "text": [
      "Mean Absolute Percentage Error: 155.405%\n"
     ]
    }
   ],
   "source": [
    "result = result_df[(result_df[\"y_tests\"]!=0.0)]\n",
    "A = result[\"y_tests\"]\n",
    "F = result[\"y_preds\"]\n",
    "N = result.shape[0]\n",
    "MAPE = np.sum(abs((A-F)/(A+0.00001)))*100/N\n",
    "print(\"Mean Absolute Percentage Error: {}%\".format(np.round(MAPE, 3)))"
   ]
  },
  {
   "cell_type": "code",
   "execution_count": 34,
   "id": "60c70d17",
   "metadata": {
    "execution": {
     "iopub.execute_input": "2024-04-20T09:44:42.185228Z",
     "iopub.status.busy": "2024-04-20T09:44:42.184812Z",
     "iopub.status.idle": "2024-04-20T09:44:42.198226Z",
     "shell.execute_reply": "2024-04-20T09:44:42.197460Z"
    },
    "papermill": {
     "duration": 0.070074,
     "end_time": "2024-04-20T09:44:42.200280",
     "exception": false,
     "start_time": "2024-04-20T09:44:42.130206",
     "status": "completed"
    },
    "tags": []
   },
   "outputs": [
    {
     "data": {
      "text/html": [
       "<div>\n",
       "<style scoped>\n",
       "    .dataframe tbody tr th:only-of-type {\n",
       "        vertical-align: middle;\n",
       "    }\n",
       "\n",
       "    .dataframe tbody tr th {\n",
       "        vertical-align: top;\n",
       "    }\n",
       "\n",
       "    .dataframe thead th {\n",
       "        text-align: right;\n",
       "    }\n",
       "</style>\n",
       "<table border=\"1\" class=\"dataframe\">\n",
       "  <thead>\n",
       "    <tr style=\"text-align: right;\">\n",
       "      <th></th>\n",
       "      <th>y_tests</th>\n",
       "      <th>y_preds</th>\n",
       "    </tr>\n",
       "  </thead>\n",
       "  <tbody>\n",
       "    <tr>\n",
       "      <th>y_tests</th>\n",
       "      <td>1.000000</td>\n",
       "      <td>0.100768</td>\n",
       "    </tr>\n",
       "    <tr>\n",
       "      <th>y_preds</th>\n",
       "      <td>0.100768</td>\n",
       "      <td>1.000000</td>\n",
       "    </tr>\n",
       "  </tbody>\n",
       "</table>\n",
       "</div>"
      ],
      "text/plain": [
       "          y_tests   y_preds\n",
       "y_tests  1.000000  0.100768\n",
       "y_preds  0.100768  1.000000"
      ]
     },
     "execution_count": 34,
     "metadata": {},
     "output_type": "execute_result"
    }
   ],
   "source": [
    "result_df.corr(method='spearman')"
   ]
  },
  {
   "cell_type": "code",
   "execution_count": 35,
   "id": "d3093551",
   "metadata": {
    "execution": {
     "iopub.execute_input": "2024-04-20T09:44:42.309737Z",
     "iopub.status.busy": "2024-04-20T09:44:42.309133Z",
     "iopub.status.idle": "2024-04-20T09:44:42.315568Z",
     "shell.execute_reply": "2024-04-20T09:44:42.314539Z"
    },
    "papermill": {
     "duration": 0.063656,
     "end_time": "2024-04-20T09:44:42.317812",
     "exception": false,
     "start_time": "2024-04-20T09:44:42.254156",
     "status": "completed"
    },
    "tags": []
   },
   "outputs": [
    {
     "name": "stdout",
     "output_type": "stream",
     "text": [
      "R2 score:  -13.30583905715366\n"
     ]
    }
   ],
   "source": [
    "print(\"R2 score: \", r2_score(result_df[\"y_tests\"], result_df[\"y_preds\"]))"
   ]
  },
  {
   "cell_type": "code",
   "execution_count": 36,
   "id": "de0bf763",
   "metadata": {
    "execution": {
     "iopub.execute_input": "2024-04-20T09:44:42.427654Z",
     "iopub.status.busy": "2024-04-20T09:44:42.426597Z",
     "iopub.status.idle": "2024-04-20T09:44:42.435147Z",
     "shell.execute_reply": "2024-04-20T09:44:42.433903Z"
    },
    "papermill": {
     "duration": 0.06639,
     "end_time": "2024-04-20T09:44:42.437688",
     "exception": false,
     "start_time": "2024-04-20T09:44:42.371298",
     "status": "completed"
    },
    "tags": []
   },
   "outputs": [],
   "source": [
    "result_df.to_csv(\"result_df.csv\")"
   ]
  },
  {
   "cell_type": "code",
   "execution_count": 37,
   "id": "765c13b7",
   "metadata": {
    "execution": {
     "iopub.execute_input": "2024-04-20T09:44:42.546243Z",
     "iopub.status.busy": "2024-04-20T09:44:42.545799Z",
     "iopub.status.idle": "2024-04-20T09:44:43.035777Z",
     "shell.execute_reply": "2024-04-20T09:44:43.034494Z"
    },
    "papermill": {
     "duration": 0.547398,
     "end_time": "2024-04-20T09:44:43.038290",
     "exception": false,
     "start_time": "2024-04-20T09:44:42.490892",
     "status": "completed"
    },
    "tags": []
   },
   "outputs": [
    {
     "name": "stdout",
     "output_type": "stream",
     "text": [
      "Size of TensorFlow Lite Model: 5.3359375 KB:\n"
     ]
    }
   ],
   "source": [
    "converter = tf.lite.TFLiteConverter.from_saved_model(export_dir)\n",
    "tflite_model = converter.convert()\n",
    "\n",
    "tflite_model_file = pathlib.Path(\"./model/model.tflite\")\n",
    "model_size_kb = tflite_model_file.write_bytes(tflite_model) / 1024\n",
    "print(\"Size of TensorFlow Lite Model: {} KB:\".format(model_size_kb))"
   ]
  },
  {
   "cell_type": "code",
   "execution_count": 38,
   "id": "c5c8db41",
   "metadata": {
    "execution": {
     "iopub.execute_input": "2024-04-20T09:44:43.148031Z",
     "iopub.status.busy": "2024-04-20T09:44:43.147572Z",
     "iopub.status.idle": "2024-04-20T09:44:43.187514Z",
     "shell.execute_reply": "2024-04-20T09:44:43.186032Z"
    },
    "papermill": {
     "duration": 0.097909,
     "end_time": "2024-04-20T09:44:43.190198",
     "exception": false,
     "start_time": "2024-04-20T09:44:43.092289",
     "status": "completed"
    },
    "tags": []
   },
   "outputs": [
    {
     "name": "stdout",
     "output_type": "stream",
     "text": [
      "Prediction on random test input:  nan\n"
     ]
    },
    {
     "name": "stderr",
     "output_type": "stream",
     "text": [
      "INFO: Created TensorFlow Lite XNNPACK delegate for CPU.\n"
     ]
    }
   ],
   "source": [
    "interpreter = tf.lite.Interpreter(model_content=tflite_model)\n",
    "interpreter.allocate_tensors()\n",
    "\n",
    "input_tensor = interpreter.get_input_details()[0]['index']\n",
    "output_tensor = interpreter.get_output_details()[0]['index']\n",
    "\n",
    "test_input = tf.random.uniform([1, 28, 513, 1], dtype=tf.float32)\n",
    "interpreter.invoke()\n",
    "\n",
    "output_data = interpreter.get_tensor(output_tensor)[0][0]\n",
    "print(\"Prediction on random test input: \", output_data)"
   ]
  },
  {
   "cell_type": "markdown",
   "id": "eedeac8c",
   "metadata": {
    "papermill": {
     "duration": 0.053059,
     "end_time": "2024-04-20T09:44:43.297920",
     "exception": false,
     "start_time": "2024-04-20T09:44:43.244861",
     "status": "completed"
    },
    "tags": []
   },
   "source": [
    "### Generate a TensorFlow Lite for Microcontrollers Model"
   ]
  },
  {
   "cell_type": "code",
   "execution_count": 39,
   "id": "5c776439",
   "metadata": {
    "execution": {
     "iopub.execute_input": "2024-04-20T09:44:43.407312Z",
     "iopub.status.busy": "2024-04-20T09:44:43.406833Z",
     "iopub.status.idle": "2024-04-20T09:44:48.606776Z",
     "shell.execute_reply": "2024-04-20T09:44:48.605515Z"
    },
    "papermill": {
     "duration": 5.257917,
     "end_time": "2024-04-20T09:44:48.609632",
     "exception": false,
     "start_time": "2024-04-20T09:44:43.351715",
     "status": "completed"
    },
    "tags": []
   },
   "outputs": [
    {
     "name": "stdout",
     "output_type": "stream",
     "text": [
      "Get:1 http://packages.cloud.google.com/apt gcsfuse-focal InRelease [1225 B]\r\n",
      "Get:2 https://packages.cloud.google.com/apt cloud-sdk InRelease [6361 B]\r\n",
      "Get:3 http://security.ubuntu.com/ubuntu focal-security InRelease [114 kB]\r\n",
      "Hit:4 http://archive.ubuntu.com/ubuntu focal InRelease\r\n",
      "Get:5 https://packages.cloud.google.com/apt cloud-sdk/main amd64 Packages [627 kB]\r\n",
      "Get:6 http://archive.ubuntu.com/ubuntu focal-updates InRelease [114 kB]\r\n",
      "Get:7 http://security.ubuntu.com/ubuntu focal-security/main amd64 Packages [3592 kB]\r\n",
      "Get:8 http://security.ubuntu.com/ubuntu focal-security/multiverse amd64 Packages [29.8 kB]\r\n",
      "Get:9 http://security.ubuntu.com/ubuntu focal-security/restricted amd64 Packages [3536 kB]\r\n",
      "Get:10 http://security.ubuntu.com/ubuntu focal-security/universe amd64 Packages [1199 kB]\r\n",
      "Get:11 http://archive.ubuntu.com/ubuntu focal-backports InRelease [108 kB]\r\n",
      "Get:12 http://archive.ubuntu.com/ubuntu focal-updates/restricted amd64 Packages [3686 kB]\r\n",
      "Get:13 http://archive.ubuntu.com/ubuntu focal-updates/universe amd64 Packages [1495 kB]\r\n",
      "Get:14 http://archive.ubuntu.com/ubuntu focal-updates/main amd64 Packages [4066 kB]\r\n",
      "Get:15 http://archive.ubuntu.com/ubuntu focal-updates/multiverse amd64 Packages [32.5 kB]\r\n",
      "\r\n",
      "E: Repository 'http://packages.cloud.google.com/apt gcsfuse-focal InRelease' changed its 'Origin' value from 'namespaces/gcs-fuse-prod/repositories/gcsfuse-focal' to 'gcsfuse-focal'\r\n",
      "E: Repository 'http://packages.cloud.google.com/apt gcsfuse-focal InRelease' changed its 'Label' value from 'namespaces/gcs-fuse-prod/repositories/gcsfuse-focal' to 'gcsfuse-focal'\r\n",
      "N: This must be accepted explicitly before updates for this repository can be applied. See apt-secure(8) manpage for details.\r\n"
     ]
    }
   ],
   "source": [
    "!apt-get update && apt-get -qq install xxd"
   ]
  },
  {
   "cell_type": "code",
   "execution_count": 40,
   "id": "125eca55",
   "metadata": {
    "execution": {
     "iopub.execute_input": "2024-04-20T09:44:48.725619Z",
     "iopub.status.busy": "2024-04-20T09:44:48.725180Z",
     "iopub.status.idle": "2024-04-20T09:44:50.931740Z",
     "shell.execute_reply": "2024-04-20T09:44:50.930012Z"
    },
    "papermill": {
     "duration": 2.26869,
     "end_time": "2024-04-20T09:44:50.935001",
     "exception": false,
     "start_time": "2024-04-20T09:44:48.666311",
     "status": "completed"
    },
    "tags": []
   },
   "outputs": [],
   "source": [
    "MODEL_TFLITE = \"./model/model.tflite\" \n",
    "MODEL_TFLITE_MICRO = \"./model/model.cc\" \n",
    "!xxd -i {MODEL_TFLITE} > {MODEL_TFLITE_MICRO}\n",
    "REPLACE_TEXT = MODEL_TFLITE.replace('/', '_').replace('.', '_')\n",
    "!sed -i 's/'{REPLACE_TEXT}'/g_model/g' {MODEL_TFLITE_MICRO}"
   ]
  },
  {
   "cell_type": "code",
   "execution_count": null,
   "id": "daf97ab7",
   "metadata": {
    "papermill": {
     "duration": 0.057313,
     "end_time": "2024-04-20T09:44:51.049198",
     "exception": false,
     "start_time": "2024-04-20T09:44:50.991885",
     "status": "completed"
    },
    "tags": []
   },
   "outputs": [],
   "source": []
  },
  {
   "cell_type": "code",
   "execution_count": null,
   "id": "70a3bb9a",
   "metadata": {
    "papermill": {
     "duration": 0.055902,
     "end_time": "2024-04-20T09:44:51.160612",
     "exception": false,
     "start_time": "2024-04-20T09:44:51.104710",
     "status": "completed"
    },
    "tags": []
   },
   "outputs": [],
   "source": []
  }
 ],
 "metadata": {
  "kaggle": {
   "accelerator": "none",
   "dataSources": [
    {
     "datasetId": 4105473,
     "isSourceIdPinned": true,
     "sourceId": 8132109,
     "sourceType": "datasetVersion"
    }
   ],
   "dockerImageVersionId": 30587,
   "isGpuEnabled": false,
   "isInternetEnabled": true,
   "language": "python",
   "sourceType": "notebook"
  },
  "kernelspec": {
   "display_name": "Python 3",
   "language": "python",
   "name": "python3"
  },
  "language_info": {
   "codemirror_mode": {
    "name": "ipython",
    "version": 3
   },
   "file_extension": ".py",
   "mimetype": "text/x-python",
   "name": "python",
   "nbconvert_exporter": "python",
   "pygments_lexer": "ipython3",
   "version": "3.10.12"
  },
  "papermill": {
   "default_parameters": {},
   "duration": 91.638519,
   "end_time": "2024-04-20T09:44:52.943218",
   "environment_variables": {},
   "exception": null,
   "input_path": "__notebook__.ipynb",
   "output_path": "__notebook__.ipynb",
   "parameters": {},
   "start_time": "2024-04-20T09:43:21.304699",
   "version": "2.4.0"
  }
 },
 "nbformat": 4,
 "nbformat_minor": 5
}
