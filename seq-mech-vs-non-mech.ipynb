{
 "cells": [
  {
   "cell_type": "code",
   "execution_count": 1,
   "id": "43f99a28",
   "metadata": {
    "execution": {
     "iopub.execute_input": "2024-04-23T04:10:54.026522Z",
     "iopub.status.busy": "2024-04-23T04:10:54.025659Z",
     "iopub.status.idle": "2024-04-23T04:11:19.922478Z",
     "shell.execute_reply": "2024-04-23T04:11:19.920851Z"
    },
    "papermill": {
     "duration": 25.920583,
     "end_time": "2024-04-23T04:11:19.925571",
     "exception": false,
     "start_time": "2024-04-23T04:10:54.004988",
     "status": "completed"
    },
    "tags": []
   },
   "outputs": [
    {
     "name": "stdout",
     "output_type": "stream",
     "text": [
      "Collecting cmsisdsp\r\n",
      "  Obtaining dependency information for cmsisdsp from https://files.pythonhosted.org/packages/70/03/f4fe2acec947350b68cbc95f08b5c0ef507ac1f839092c93f2c46d507da0/cmsisdsp-1.9.7-cp310-cp310-manylinux_2_17_x86_64.manylinux2014_x86_64.whl.metadata\r\n",
      "  Downloading cmsisdsp-1.9.7-cp310-cp310-manylinux_2_17_x86_64.manylinux2014_x86_64.whl.metadata (13 kB)\r\n",
      "Collecting numpy<1.23,>=1.22 (from cmsisdsp)\r\n",
      "  Obtaining dependency information for numpy<1.23,>=1.22 from https://files.pythonhosted.org/packages/b0/f4/d67c8c39efe3c45dfd32bb2a3fc49cbbe5496e575cc42b8bac60fe7b6701/numpy-1.22.4-cp310-cp310-manylinux_2_17_x86_64.manylinux2014_x86_64.whl.metadata\r\n",
      "  Downloading numpy-1.22.4-cp310-cp310-manylinux_2_17_x86_64.manylinux2014_x86_64.whl.metadata (2.0 kB)\r\n",
      "Requirement already satisfied: networkx>=3.0 in /opt/conda/lib/python3.10/site-packages (from cmsisdsp) (3.1)\r\n",
      "Requirement already satisfied: jinja2<4.0,>=3.1.2 in /opt/conda/lib/python3.10/site-packages (from cmsisdsp) (3.1.2)\r\n",
      "Requirement already satisfied: sympy>=1.7.1 in /opt/conda/lib/python3.10/site-packages (from cmsisdsp) (1.12)\r\n",
      "Requirement already satisfied: MarkupSafe<3.0,>=2.1.2 in /opt/conda/lib/python3.10/site-packages (from cmsisdsp) (2.1.3)\r\n",
      "Requirement already satisfied: mpmath>=0.19 in /opt/conda/lib/python3.10/site-packages (from sympy>=1.7.1->cmsisdsp) (1.3.0)\r\n",
      "Downloading cmsisdsp-1.9.7-cp310-cp310-manylinux_2_17_x86_64.manylinux2014_x86_64.whl (4.7 MB)\r\n",
      "\u001b[2K   \u001b[90m━━━━━━━━━━━━━━━━━━━━━━━━━━━━━━━━━━━━━━━━\u001b[0m \u001b[32m4.7/4.7 MB\u001b[0m \u001b[31m15.6 MB/s\u001b[0m eta \u001b[36m0:00:00\u001b[0m\r\n",
      "\u001b[?25hDownloading numpy-1.22.4-cp310-cp310-manylinux_2_17_x86_64.manylinux2014_x86_64.whl (16.8 MB)\r\n",
      "\u001b[2K   \u001b[90m━━━━━━━━━━━━━━━━━━━━━━━━━━━━━━━━━━━━━━━━\u001b[0m \u001b[32m16.8/16.8 MB\u001b[0m \u001b[31m41.6 MB/s\u001b[0m eta \u001b[36m0:00:00\u001b[0m\r\n",
      "\u001b[?25hInstalling collected packages: numpy, cmsisdsp\r\n",
      "  Attempting uninstall: numpy\r\n",
      "    Found existing installation: numpy 1.24.3\r\n",
      "    Uninstalling numpy-1.24.3:\r\n",
      "      Successfully uninstalled numpy-1.24.3\r\n",
      "\u001b[31mERROR: pip's dependency resolver does not currently take into account all the packages that are installed. This behaviour is the source of the following dependency conflicts.\r\n",
      "apache-beam 2.46.0 requires dill<0.3.2,>=0.3.1.1, but you have dill 0.3.7 which is incompatible.\r\n",
      "apache-beam 2.46.0 requires pyarrow<10.0.0,>=3.0.0, but you have pyarrow 14.0.1 which is incompatible.\r\n",
      "chex 0.1.84 requires numpy>=1.24.1, but you have numpy 1.22.4 which is incompatible.\r\n",
      "inequality 1.0.1 requires numpy>=1.23, but you have numpy 1.22.4 which is incompatible.\r\n",
      "libpysal 4.9.2 requires packaging>=22, but you have packaging 21.3 which is incompatible.\r\n",
      "libpysal 4.9.2 requires shapely>=2.0.1, but you have shapely 1.8.5.post1 which is incompatible.\r\n",
      "momepy 0.6.0 requires shapely>=2, but you have shapely 1.8.5.post1 which is incompatible.\r\n",
      "pymc3 3.11.5 requires numpy<1.22.2,>=1.15.0, but you have numpy 1.22.4 which is incompatible.\r\n",
      "pymc3 3.11.5 requires scipy<1.8.0,>=1.7.3, but you have scipy 1.11.3 which is incompatible.\r\n",
      "spglm 1.1.0 requires numpy>=1.23, but you have numpy 1.22.4 which is incompatible.\r\n",
      "spreg 1.4.2 requires numpy>=1.23, but you have numpy 1.22.4 which is incompatible.\r\n",
      "tensorflowjs 4.13.0 requires packaging~=23.1, but you have packaging 21.3 which is incompatible.\u001b[0m\u001b[31m\r\n",
      "\u001b[0mSuccessfully installed cmsisdsp-1.9.7 numpy-1.22.4\r\n"
     ]
    }
   ],
   "source": [
    "!pip install cmsisdsp"
   ]
  },
  {
   "cell_type": "code",
   "execution_count": 2,
   "id": "c558b8d9",
   "metadata": {
    "_cell_guid": "b1076dfc-b9ad-4769-8c92-a6c4dae69d19",
    "_uuid": "8f2839f25d086af736a60e9eeb907d3b93b6e0e5",
    "execution": {
     "iopub.execute_input": "2024-04-23T04:11:19.963186Z",
     "iopub.status.busy": "2024-04-23T04:11:19.962704Z",
     "iopub.status.idle": "2024-04-23T04:11:38.488169Z",
     "shell.execute_reply": "2024-04-23T04:11:38.486466Z"
    },
    "papermill": {
     "duration": 18.549163,
     "end_time": "2024-04-23T04:11:38.491243",
     "exception": false,
     "start_time": "2024-04-23T04:11:19.942080",
     "status": "completed"
    },
    "tags": []
   },
   "outputs": [],
   "source": [
    "import pickle\n",
    "import librosa\n",
    "import pathlib\n",
    "import numpy as np\n",
    "import pandas as pd\n",
    "from tqdm import tqdm\n",
    "import tensorflow as tf\n",
    "from os.path import join\n",
    "from numpy import pi as PI\n",
    "import matplotlib.pyplot as plt\n",
    "from keras.utils import Sequence\n",
    "from keras.models import Sequential\n",
    "from sklearn.metrics import r2_score\n",
    "from tensorflow.saved_model import save\n",
    "from tensorflow.keras.optimizers import Adam\n",
    "from keras.layers import Dense, LSTM, Reshape\n",
    "from keras.layers import Conv2D, MaxPooling2D\n",
    "from sklearn.model_selection import train_test_split\n",
    "from tensorflow.keras.callbacks import ModelCheckpoint\n",
    "from cmsisdsp import arm_float_to_q15, arm_mult_q15, arm_rfft_q15\n",
    "from cmsisdsp import arm_cmplx_mag_q15, arm_rfft_instance_q15,arm_cos_f32, arm_rfft_init_q15"
   ]
  },
  {
   "cell_type": "code",
   "execution_count": 3,
   "id": "b64411aa",
   "metadata": {
    "execution": {
     "iopub.execute_input": "2024-04-23T04:11:38.526361Z",
     "iopub.status.busy": "2024-04-23T04:11:38.525474Z",
     "iopub.status.idle": "2024-04-23T04:11:38.532199Z",
     "shell.execute_reply": "2024-04-23T04:11:38.531033Z"
    },
    "papermill": {
     "duration": 0.027137,
     "end_time": "2024-04-23T04:11:38.534885",
     "exception": false,
     "start_time": "2024-04-23T04:11:38.507748",
     "status": "completed"
    },
    "tags": []
   },
   "outputs": [],
   "source": [
    "DATA_PATH = \"/kaggle/input/rain-seq-master\"\n",
    "BASIC_DATA_PATH = join(DATA_PATH, \"data_basic.csv\")\n",
    "model_name = \"seq_stft.weights.h5\"\n",
    "\n",
    "Fs = 16000\n",
    "LEARNING_RATE = 0.001\n",
    "WINDOW_SIZE = 512\n",
    "STEP_SIZE = 256\n",
    "SEQ_LEN = 32000"
   ]
  },
  {
   "cell_type": "code",
   "execution_count": 4,
   "id": "6daa7f7f",
   "metadata": {
    "execution": {
     "iopub.execute_input": "2024-04-23T04:11:38.569451Z",
     "iopub.status.busy": "2024-04-23T04:11:38.568991Z",
     "iopub.status.idle": "2024-04-23T04:11:40.785184Z",
     "shell.execute_reply": "2024-04-23T04:11:40.783742Z"
    },
    "papermill": {
     "duration": 2.237168,
     "end_time": "2024-04-23T04:11:40.788441",
     "exception": false,
     "start_time": "2024-04-23T04:11:38.551273",
     "status": "completed"
    },
    "tags": []
   },
   "outputs": [],
   "source": [
    "!mkdir saved_TF_model\n",
    "!mkdir model"
   ]
  },
  {
   "cell_type": "code",
   "execution_count": 5,
   "id": "44782b0f",
   "metadata": {
    "execution": {
     "iopub.execute_input": "2024-04-23T04:11:40.824981Z",
     "iopub.status.busy": "2024-04-23T04:11:40.824208Z",
     "iopub.status.idle": "2024-04-23T04:11:40.832044Z",
     "shell.execute_reply": "2024-04-23T04:11:40.830785Z"
    },
    "papermill": {
     "duration": 0.02964,
     "end_time": "2024-04-23T04:11:40.835011",
     "exception": false,
     "start_time": "2024-04-23T04:11:40.805371",
     "status": "completed"
    },
    "tags": []
   },
   "outputs": [],
   "source": [
    "def find_zero_point_percentage(df):\n",
    "    df_non_zero = df[df[\"target\"] != 0]\n",
    "    df_zero = df[df[\"target\"] == 0]\n",
    "    T = df.shape[0]\n",
    "    non_zeros = df_non_zero.shape[0]\n",
    "    zeros = df_zero.shape[0]\n",
    "    print(\"Percentage of Zero datapoints: \", zeros * 100 / T, \"%\")"
   ]
  },
  {
   "cell_type": "code",
   "execution_count": 6,
   "id": "9ac8eef0",
   "metadata": {
    "execution": {
     "iopub.execute_input": "2024-04-23T04:11:40.870642Z",
     "iopub.status.busy": "2024-04-23T04:11:40.869821Z",
     "iopub.status.idle": "2024-04-23T04:11:40.932435Z",
     "shell.execute_reply": "2024-04-23T04:11:40.931096Z"
    },
    "papermill": {
     "duration": 0.084101,
     "end_time": "2024-04-23T04:11:40.935443",
     "exception": false,
     "start_time": "2024-04-23T04:11:40.851342",
     "status": "completed"
    },
    "tags": []
   },
   "outputs": [],
   "source": [
    "basic_data = pd.read_csv(BASIC_DATA_PATH)\n",
    "basic_data = basic_data[basic_data[\"target\"] != 0.4]\n",
    "basic_data = basic_data[[\"checkpoint\", \"fname\", \"target\"]]\n",
    "basic_data[\"checkpoint\"] = pd.to_datetime(basic_data[\"checkpoint\"])"
   ]
  },
  {
   "cell_type": "code",
   "execution_count": 7,
   "id": "8cf07261",
   "metadata": {
    "execution": {
     "iopub.execute_input": "2024-04-23T04:11:40.974260Z",
     "iopub.status.busy": "2024-04-23T04:11:40.973579Z",
     "iopub.status.idle": "2024-04-23T04:11:40.983019Z",
     "shell.execute_reply": "2024-04-23T04:11:40.981297Z"
    },
    "papermill": {
     "duration": 0.032907,
     "end_time": "2024-04-23T04:11:40.986645",
     "exception": false,
     "start_time": "2024-04-23T04:11:40.953738",
     "status": "completed"
    },
    "tags": []
   },
   "outputs": [
    {
     "name": "stdout",
     "output_type": "stream",
     "text": [
      "Percentage of Zero datapoints:  68.14814814814815 %\n"
     ]
    }
   ],
   "source": [
    "find_zero_point_percentage(basic_data)"
   ]
  },
  {
   "cell_type": "code",
   "execution_count": 8,
   "id": "2db35342",
   "metadata": {
    "execution": {
     "iopub.execute_input": "2024-04-23T04:11:41.024795Z",
     "iopub.status.busy": "2024-04-23T04:11:41.023705Z",
     "iopub.status.idle": "2024-04-23T04:11:41.038481Z",
     "shell.execute_reply": "2024-04-23T04:11:41.037570Z"
    },
    "papermill": {
     "duration": 0.036568,
     "end_time": "2024-04-23T04:11:41.040760",
     "exception": false,
     "start_time": "2024-04-23T04:11:41.004192",
     "status": "completed"
    },
    "tags": []
   },
   "outputs": [
    {
     "data": {
      "text/plain": [
       "target\n",
       "0.0    184\n",
       "0.2     86\n",
       "Name: count, dtype: int64"
      ]
     },
     "execution_count": 8,
     "metadata": {},
     "output_type": "execute_result"
    }
   ],
   "source": [
    "basic_data[\"target\"].value_counts()"
   ]
  },
  {
   "cell_type": "code",
   "execution_count": 9,
   "id": "495671ba",
   "metadata": {
    "execution": {
     "iopub.execute_input": "2024-04-23T04:11:41.077198Z",
     "iopub.status.busy": "2024-04-23T04:11:41.076146Z",
     "iopub.status.idle": "2024-04-23T04:11:41.106463Z",
     "shell.execute_reply": "2024-04-23T04:11:41.105197Z"
    },
    "papermill": {
     "duration": 0.051157,
     "end_time": "2024-04-23T04:11:41.109437",
     "exception": false,
     "start_time": "2024-04-23T04:11:41.058280",
     "status": "completed"
    },
    "tags": []
   },
   "outputs": [
    {
     "data": {
      "text/html": [
       "<div>\n",
       "<style scoped>\n",
       "    .dataframe tbody tr th:only-of-type {\n",
       "        vertical-align: middle;\n",
       "    }\n",
       "\n",
       "    .dataframe tbody tr th {\n",
       "        vertical-align: top;\n",
       "    }\n",
       "\n",
       "    .dataframe thead th {\n",
       "        text-align: right;\n",
       "    }\n",
       "</style>\n",
       "<table border=\"1\" class=\"dataframe\">\n",
       "  <thead>\n",
       "    <tr style=\"text-align: right;\">\n",
       "      <th></th>\n",
       "      <th>checkpoint</th>\n",
       "      <th>fname</th>\n",
       "      <th>target</th>\n",
       "    </tr>\n",
       "  </thead>\n",
       "  <tbody>\n",
       "    <tr>\n",
       "      <th>152</th>\n",
       "      <td>2024-04-11 22:21:09.757439</td>\n",
       "      <td>audio_1.npy</td>\n",
       "      <td>0.0</td>\n",
       "    </tr>\n",
       "    <tr>\n",
       "      <th>92</th>\n",
       "      <td>2024-04-11 22:21:19.757438</td>\n",
       "      <td>audio_2.npy</td>\n",
       "      <td>0.0</td>\n",
       "    </tr>\n",
       "    <tr>\n",
       "      <th>0</th>\n",
       "      <td>2024-04-11 22:21:49.757439</td>\n",
       "      <td>audio_5.npy</td>\n",
       "      <td>0.2</td>\n",
       "    </tr>\n",
       "    <tr>\n",
       "      <th>116</th>\n",
       "      <td>2024-04-11 22:22:09.757439</td>\n",
       "      <td>audio_7.npy</td>\n",
       "      <td>0.0</td>\n",
       "    </tr>\n",
       "    <tr>\n",
       "      <th>103</th>\n",
       "      <td>2024-04-11 22:22:19.757439</td>\n",
       "      <td>audio_8.npy</td>\n",
       "      <td>0.0</td>\n",
       "    </tr>\n",
       "    <tr>\n",
       "      <th>...</th>\n",
       "      <td>...</td>\n",
       "      <td>...</td>\n",
       "      <td>...</td>\n",
       "    </tr>\n",
       "    <tr>\n",
       "      <th>128</th>\n",
       "      <td>2024-04-13 15:29:09.757441</td>\n",
       "      <td>audio_264.npy</td>\n",
       "      <td>0.0</td>\n",
       "    </tr>\n",
       "    <tr>\n",
       "      <th>84</th>\n",
       "      <td>2024-04-13 15:29:49.757439</td>\n",
       "      <td>audio_268.npy</td>\n",
       "      <td>0.2</td>\n",
       "    </tr>\n",
       "    <tr>\n",
       "      <th>88</th>\n",
       "      <td>2024-04-14 06:01:09.757440</td>\n",
       "      <td>audio_270.npy</td>\n",
       "      <td>0.0</td>\n",
       "    </tr>\n",
       "    <tr>\n",
       "      <th>85</th>\n",
       "      <td>2024-04-14 06:01:59.757438</td>\n",
       "      <td>audio_275.npy</td>\n",
       "      <td>0.2</td>\n",
       "    </tr>\n",
       "    <tr>\n",
       "      <th>158</th>\n",
       "      <td>2024-04-15 06:00:59.757438</td>\n",
       "      <td>audio_286.npy</td>\n",
       "      <td>0.0</td>\n",
       "    </tr>\n",
       "  </tbody>\n",
       "</table>\n",
       "<p>176 rows × 3 columns</p>\n",
       "</div>"
      ],
      "text/plain": [
       "                    checkpoint          fname  target\n",
       "152 2024-04-11 22:21:09.757439    audio_1.npy     0.0\n",
       "92  2024-04-11 22:21:19.757438    audio_2.npy     0.0\n",
       "0   2024-04-11 22:21:49.757439    audio_5.npy     0.2\n",
       "116 2024-04-11 22:22:09.757439    audio_7.npy     0.0\n",
       "103 2024-04-11 22:22:19.757439    audio_8.npy     0.0\n",
       "..                         ...            ...     ...\n",
       "128 2024-04-13 15:29:09.757441  audio_264.npy     0.0\n",
       "84  2024-04-13 15:29:49.757439  audio_268.npy     0.2\n",
       "88  2024-04-14 06:01:09.757440  audio_270.npy     0.0\n",
       "85  2024-04-14 06:01:59.757438  audio_275.npy     0.2\n",
       "158 2024-04-15 06:00:59.757438  audio_286.npy     0.0\n",
       "\n",
       "[176 rows x 3 columns]"
      ]
     },
     "execution_count": 9,
     "metadata": {},
     "output_type": "execute_result"
    }
   ],
   "source": [
    "basic_data_non_zero = basic_data[basic_data[\"target\"] != 0]\n",
    "basic_data_zero = basic_data[basic_data[\"target\"] == 0]\n",
    "basic_data_zero = basic_data_zero.sample(n=90)\n",
    "basic_data_merged = pd.concat([basic_data_non_zero, basic_data_zero], ignore_index=True)\n",
    "basic_data = basic_data_merged.sample(frac=1)\n",
    "basic_data.sort_values(by=\"checkpoint\")"
   ]
  },
  {
   "cell_type": "code",
   "execution_count": 10,
   "id": "6f528723",
   "metadata": {
    "execution": {
     "iopub.execute_input": "2024-04-23T04:11:41.145310Z",
     "iopub.status.busy": "2024-04-23T04:11:41.144860Z",
     "iopub.status.idle": "2024-04-23T04:11:41.153138Z",
     "shell.execute_reply": "2024-04-23T04:11:41.151828Z"
    },
    "papermill": {
     "duration": 0.030256,
     "end_time": "2024-04-23T04:11:41.156509",
     "exception": false,
     "start_time": "2024-04-23T04:11:41.126253",
     "status": "completed"
    },
    "tags": []
   },
   "outputs": [
    {
     "name": "stdout",
     "output_type": "stream",
     "text": [
      "Percentage of Zero datapoints:  51.13636363636363 %\n"
     ]
    }
   ],
   "source": [
    "find_zero_point_percentage(basic_data)"
   ]
  },
  {
   "cell_type": "code",
   "execution_count": 11,
   "id": "ab32ce27",
   "metadata": {
    "execution": {
     "iopub.execute_input": "2024-04-23T04:11:41.193455Z",
     "iopub.status.busy": "2024-04-23T04:11:41.192993Z",
     "iopub.status.idle": "2024-04-23T04:11:41.202873Z",
     "shell.execute_reply": "2024-04-23T04:11:41.201580Z"
    },
    "papermill": {
     "duration": 0.032108,
     "end_time": "2024-04-23T04:11:41.205549",
     "exception": false,
     "start_time": "2024-04-23T04:11:41.173441",
     "status": "completed"
    },
    "tags": []
   },
   "outputs": [
    {
     "data": {
      "text/plain": [
       "Index([0.0, 0.2], dtype='float64', name='target')"
      ]
     },
     "execution_count": 11,
     "metadata": {},
     "output_type": "execute_result"
    }
   ],
   "source": [
    "basic_data[\"target\"].value_counts().keys()"
   ]
  },
  {
   "cell_type": "markdown",
   "id": "bc43eeca",
   "metadata": {
    "papermill": {
     "duration": 0.019763,
     "end_time": "2024-04-23T04:11:41.242497",
     "exception": false,
     "start_time": "2024-04-23T04:11:41.222734",
     "status": "completed"
    },
    "tags": []
   },
   "source": [
    "### Classification of rainfall events and respective rainfallintensity ranges as defined by India Meteorological Department (IMD)\n",
    "- 0.1 - 2.4 Very Light Rain (VLR)\n",
    "- 2.5 - 7.5 Light Rain (LR)\n",
    "- 7.6 - 35.5 Moderate Rain (MR)\n",
    "- 35.6 - 64.4 Rather Heavy Rain (RHR)\n",
    "- 64.5 - 124.4 Heavy Rain (HR)\n",
    "- 124.5 - 244.4 Very Heavy Rain (VHR)\n",
    "- greater than 244.5 Extremly Heavy Rain"
   ]
  },
  {
   "cell_type": "code",
   "execution_count": 12,
   "id": "3d89139f",
   "metadata": {
    "execution": {
     "iopub.execute_input": "2024-04-23T04:11:41.355937Z",
     "iopub.status.busy": "2024-04-23T04:11:41.355501Z",
     "iopub.status.idle": "2024-04-23T04:11:41.363534Z",
     "shell.execute_reply": "2024-04-23T04:11:41.362329Z"
    },
    "papermill": {
     "duration": 0.104447,
     "end_time": "2024-04-23T04:11:41.365854",
     "exception": false,
     "start_time": "2024-04-23T04:11:41.261407",
     "status": "completed"
    },
    "tags": []
   },
   "outputs": [
    {
     "name": "stdout",
     "output_type": "stream",
     "text": [
      "Percentage of Zero datapoints:  51.13636363636363 %\n"
     ]
    }
   ],
   "source": [
    "find_zero_point_percentage(basic_data)"
   ]
  },
  {
   "cell_type": "code",
   "execution_count": 13,
   "id": "72b76e2e",
   "metadata": {
    "execution": {
     "iopub.execute_input": "2024-04-23T04:11:41.403743Z",
     "iopub.status.busy": "2024-04-23T04:11:41.403337Z",
     "iopub.status.idle": "2024-04-23T04:11:41.411312Z",
     "shell.execute_reply": "2024-04-23T04:11:41.410047Z"
    },
    "papermill": {
     "duration": 0.030118,
     "end_time": "2024-04-23T04:11:41.413848",
     "exception": false,
     "start_time": "2024-04-23T04:11:41.383730",
     "status": "completed"
    },
    "tags": []
   },
   "outputs": [],
   "source": [
    "hanning_window_f32 = np.zeros(WINDOW_SIZE)\n",
    "for i in range(WINDOW_SIZE):\n",
    "    hanning_window_f32[i] = 0.5 * (1 - arm_cos_f32(2 * PI * i / WINDOW_SIZE))\n",
    "hanning_window_q15 = arm_float_to_q15(hanning_window_f32)\n",
    "rfft_instance_q15 = arm_rfft_instance_q15()\n",
    "status = arm_rfft_init_q15(rfft_instance_q15, WINDOW_SIZE, 0, 1)"
   ]
  },
  {
   "cell_type": "code",
   "execution_count": 14,
   "id": "d9d09769",
   "metadata": {
    "execution": {
     "iopub.execute_input": "2024-04-23T04:11:41.451010Z",
     "iopub.status.busy": "2024-04-23T04:11:41.450558Z",
     "iopub.status.idle": "2024-04-23T04:11:41.774301Z",
     "shell.execute_reply": "2024-04-23T04:11:41.773093Z"
    },
    "papermill": {
     "duration": 0.345834,
     "end_time": "2024-04-23T04:11:41.777308",
     "exception": false,
     "start_time": "2024-04-23T04:11:41.431474",
     "status": "completed"
    },
    "tags": []
   },
   "outputs": [],
   "source": [
    "class Dataset:\n",
    "    def __init__(self, basic_data, data_path, output_shape, validation=False):\n",
    "        self.basic_data = basic_data\n",
    "        self.y = self.basic_data[\"target\"].values\n",
    "        self.X = self.basic_data[\"fname\"].values\n",
    "        self.data_path = data_path\n",
    "        self.validation = validation\n",
    "        self.output_shape = output_shape\n",
    "        self.X_train, self.X_test, self.y_train, self.y_test = train_test_split(\n",
    "            self.X, self.y, test_size=0.25\n",
    "        )\n",
    "        \n",
    "    def compute_fft_CMSIS(self, audio_samples, window_size=WINDOW_SIZE, step_size=STEP_SIZE):\n",
    "        audio_samples_q15 = arm_float_to_q15(audio_samples)\n",
    "        number_of_windows = int(1 + (SEQ_LEN - window_size) // step_size)\n",
    "        fft_size = int(window_size // 2 + 1)\n",
    "        spectrogram_q15 = np.empty((fft_size,))\n",
    "        start_index = 0\n",
    "\n",
    "        for index in range(number_of_windows):\n",
    "            audio_window_q15 = audio_samples_q15[start_index : start_index + window_size]\n",
    "            processed_audio_q15 = arm_mult_q15(audio_window_q15, hanning_window_q15)\n",
    "            rfft_q15 = arm_rfft_q15(rfft_instance_q15, processed_audio_q15)\n",
    "            rfft_mag_q15 = arm_cmplx_mag_q15(rfft_q15)[:fft_size]\n",
    "            spectrogram_q15 = rfft_mag_q15\n",
    "            start_index += step_size\n",
    "        return spectrogram_q15\n",
    "\n",
    "    def compute_stft_CMSIS(self, audio_samples, window_size=WINDOW_SIZE, step_size=STEP_SIZE):\n",
    "        audio_samples_q15 = arm_float_to_q15(audio_samples)\n",
    "        number_of_windows = int(1 + (SEQ_LEN - window_size) // step_size)\n",
    "        fft_size = int(window_size // 2 + 1)\n",
    "        spectrogram_q15 = np.empty((number_of_windows, fft_size))\n",
    "        start_index = 0\n",
    "\n",
    "        for index in range(number_of_windows):\n",
    "            audio_window_q15 = audio_samples_q15[start_index : start_index + window_size]\n",
    "            processed_audio_q15 = arm_mult_q15(audio_window_q15, hanning_window_q15)\n",
    "            rfft_q15 = arm_rfft_q15(rfft_instance_q15, processed_audio_q15)\n",
    "            rfft_mag_q15 = arm_cmplx_mag_q15(rfft_q15)[:fft_size]\n",
    "            spectrogram_q15[index] = rfft_mag_q15\n",
    "            start_index += step_size\n",
    "        return spectrogram_q15\n",
    "\n",
    "    def __len__(self):\n",
    "        if self.validation:\n",
    "            data_len = int(np.ceil(len(self.y_test)))\n",
    "        else:\n",
    "            data_len = int(np.ceil(len(self.y_train)))\n",
    "        return int(np.ceil(data_len))\n",
    "\n",
    "    def create_cnn_data(self, raw_data):\n",
    "        Zxx = librosa.stft(raw_data)\n",
    "        stft_sample = np.abs(Zxx)\n",
    "        return stft_sample\n",
    "\n",
    "    def create_mfcc_data(self, raw_data):\n",
    "        mfcc = librosa.feature.mfcc(y=raw_data, sr=Fs, n_mfcc=13)\n",
    "        return mfcc\n",
    "\n",
    "    def create_chroma_stft_data(self, raw_data):\n",
    "        chroma = librosa.feature.chroma_stft(y=raw_data, sr=Fs)\n",
    "        return chroma\n",
    "\n",
    "    def __getitem__(self, index):\n",
    "        if self.validation:\n",
    "            audio_file = self.X_test[index]\n",
    "            batch_target = self.y_test[index]\n",
    "        else:\n",
    "            audio_file = self.X_train[index]\n",
    "            batch_target = self.y_train[index]\n",
    "\n",
    "        audio_data = np.load(join(self.data_path, audio_file))\n",
    "        audio_data = audio_data[:SEQ_LEN]\n",
    "        features = self.compute_fft_CMSIS(audio_data)\n",
    "#         print(features.shape)\n",
    "\n",
    "        batch_target = batch_target.reshape(self.output_shape)\n",
    "\n",
    "        return features, batch_target"
   ]
  },
  {
   "cell_type": "code",
   "execution_count": 15,
   "id": "f8936529",
   "metadata": {
    "execution": {
     "iopub.execute_input": "2024-04-23T04:11:41.814784Z",
     "iopub.status.busy": "2024-04-23T04:11:41.814327Z",
     "iopub.status.idle": "2024-04-23T04:11:41.824662Z",
     "shell.execute_reply": "2024-04-23T04:11:41.823190Z"
    },
    "papermill": {
     "duration": 0.032907,
     "end_time": "2024-04-23T04:11:41.827858",
     "exception": false,
     "start_time": "2024-04-23T04:11:41.794951",
     "status": "completed"
    },
    "tags": []
   },
   "outputs": [],
   "source": [
    "class Dataloder(Sequence):\n",
    "    def __init__(self, dataset, batch_size=1, shuffle=False):\n",
    "        self.dataset = dataset\n",
    "        self.batch_size = batch_size\n",
    "        self.shuffle = shuffle\n",
    "        self.indexes = np.arange(len(dataset))\n",
    "\n",
    "    def __getitem__(self, i):\n",
    "        start = i * self.batch_size\n",
    "        stop = (i + 1) * self.batch_size\n",
    "        data = []\n",
    "\n",
    "        for j in range(start, stop):\n",
    "            data.append(self.dataset[j])\n",
    "        batch = [np.stack(samples, axis=0) for samples in zip(*data)]\n",
    "        return tuple(batch)\n",
    "\n",
    "    def __len__(self):\n",
    "        return len(self.indexes) // self.batch_size\n",
    "\n",
    "    def on_epoch_end(self):\n",
    "        if self.shuffle:\n",
    "            self.indexes = np.random.permutation(self.indexes)"
   ]
  },
  {
   "cell_type": "code",
   "execution_count": 16,
   "id": "4996990c",
   "metadata": {
    "execution": {
     "iopub.execute_input": "2024-04-23T04:11:41.865917Z",
     "iopub.status.busy": "2024-04-23T04:11:41.865513Z",
     "iopub.status.idle": "2024-04-23T04:11:41.871770Z",
     "shell.execute_reply": "2024-04-23T04:11:41.869942Z"
    },
    "papermill": {
     "duration": 0.029864,
     "end_time": "2024-04-23T04:11:41.875195",
     "exception": false,
     "start_time": "2024-04-23T04:11:41.845331",
     "status": "completed"
    },
    "tags": []
   },
   "outputs": [],
   "source": [
    "EPOCHS = 20\n",
    "BATCH_SIZE = 1\n",
    "output_shape = (1, 1)"
   ]
  },
  {
   "cell_type": "code",
   "execution_count": 17,
   "id": "ac5be405",
   "metadata": {
    "execution": {
     "iopub.execute_input": "2024-04-23T04:11:41.914793Z",
     "iopub.status.busy": "2024-04-23T04:11:41.914345Z",
     "iopub.status.idle": "2024-04-23T04:11:41.923755Z",
     "shell.execute_reply": "2024-04-23T04:11:41.922030Z"
    },
    "papermill": {
     "duration": 0.033421,
     "end_time": "2024-04-23T04:11:41.926926",
     "exception": false,
     "start_time": "2024-04-23T04:11:41.893505",
     "status": "completed"
    },
    "tags": []
   },
   "outputs": [],
   "source": [
    "train_dataset = Dataset(basic_data,\n",
    "                        DATA_PATH,\n",
    "                        output_shape)\n",
    "\n",
    "train_dataloader = Dataloder(train_dataset, \n",
    "                             batch_size=BATCH_SIZE)\n",
    "\n",
    "test_dataset = Dataset(basic_data,\n",
    "                       DATA_PATH,\n",
    "                       output_shape,\n",
    "                       validation=True)\n",
    "\n",
    "test_dataloader = Dataloder(test_dataset, \n",
    "                            batch_size=BATCH_SIZE)"
   ]
  },
  {
   "cell_type": "code",
   "execution_count": 18,
   "id": "78a5ea3a",
   "metadata": {
    "execution": {
     "iopub.execute_input": "2024-04-23T04:11:41.970123Z",
     "iopub.status.busy": "2024-04-23T04:11:41.969594Z",
     "iopub.status.idle": "2024-04-23T04:11:42.083411Z",
     "shell.execute_reply": "2024-04-23T04:11:42.082440Z"
    },
    "papermill": {
     "duration": 0.139094,
     "end_time": "2024-04-23T04:11:42.086090",
     "exception": false,
     "start_time": "2024-04-23T04:11:41.946996",
     "status": "completed"
    },
    "tags": []
   },
   "outputs": [],
   "source": [
    "adamopt = Adam(learning_rate=LEARNING_RATE, beta_1=0.9, beta_2=0.999, epsilon=1e-8)"
   ]
  },
  {
   "cell_type": "code",
   "execution_count": 19,
   "id": "22379275",
   "metadata": {
    "execution": {
     "iopub.execute_input": "2024-04-23T04:11:42.123521Z",
     "iopub.status.busy": "2024-04-23T04:11:42.122752Z",
     "iopub.status.idle": "2024-04-23T04:11:42.128889Z",
     "shell.execute_reply": "2024-04-23T04:11:42.127959Z"
    },
    "papermill": {
     "duration": 0.027769,
     "end_time": "2024-04-23T04:11:42.131419",
     "exception": false,
     "start_time": "2024-04-23T04:11:42.103650",
     "status": "completed"
    },
    "tags": []
   },
   "outputs": [],
   "source": [
    "def create_functional_model():\n",
    "    model = Sequential()\n",
    "    model.add(Dense(32, input_shape=(257, )))\n",
    "    model.add(Dense(16))\n",
    "    model.add(Dense(8))\n",
    "#     model.add(Conv2D(1, kernel_size=(2, 2), activation='relu', input_shape=(28, 513, 1)))\n",
    "#     model.add(MaxPooling2D(pool_size=(2, 2)))\n",
    "#     model.add(Conv2D(6, kernel_size=(2, 2), activation='relu'))\n",
    "#     model.add(MaxPooling2D(pool_size=(2, 2)))\n",
    "#     model.add(Reshape((1, -1)))\n",
    "#     model.add(LSTM(5))\n",
    "#     model.add(Dense(2))\n",
    "    model.add(Dense(1))\n",
    "    return model"
   ]
  },
  {
   "cell_type": "code",
   "execution_count": 20,
   "id": "8b0dc074",
   "metadata": {
    "execution": {
     "iopub.execute_input": "2024-04-23T04:11:42.168948Z",
     "iopub.status.busy": "2024-04-23T04:11:42.168491Z",
     "iopub.status.idle": "2024-04-23T04:11:42.312624Z",
     "shell.execute_reply": "2024-04-23T04:11:42.311538Z"
    },
    "papermill": {
     "duration": 0.16668,
     "end_time": "2024-04-23T04:11:42.315353",
     "exception": false,
     "start_time": "2024-04-23T04:11:42.148673",
     "status": "completed"
    },
    "tags": []
   },
   "outputs": [],
   "source": [
    "model = create_functional_model()"
   ]
  },
  {
   "cell_type": "code",
   "execution_count": 21,
   "id": "e4c16708",
   "metadata": {
    "execution": {
     "iopub.execute_input": "2024-04-23T04:11:42.353456Z",
     "iopub.status.busy": "2024-04-23T04:11:42.352657Z",
     "iopub.status.idle": "2024-04-23T04:11:42.359347Z",
     "shell.execute_reply": "2024-04-23T04:11:42.358385Z"
    },
    "papermill": {
     "duration": 0.028289,
     "end_time": "2024-04-23T04:11:42.361936",
     "exception": false,
     "start_time": "2024-04-23T04:11:42.333647",
     "status": "completed"
    },
    "tags": []
   },
   "outputs": [],
   "source": [
    "cp_callback = ModelCheckpoint(filepath=model_name,\n",
    "                              monitor=\"val_loss\",\n",
    "                              verbose=0,\n",
    "                              save_best_only=True,\n",
    "                              save_weights_only=True,\n",
    "                              mode=\"min\")"
   ]
  },
  {
   "cell_type": "code",
   "execution_count": 22,
   "id": "e17d6f16",
   "metadata": {
    "execution": {
     "iopub.execute_input": "2024-04-23T04:11:42.398301Z",
     "iopub.status.busy": "2024-04-23T04:11:42.397849Z",
     "iopub.status.idle": "2024-04-23T04:11:42.414138Z",
     "shell.execute_reply": "2024-04-23T04:11:42.413237Z"
    },
    "papermill": {
     "duration": 0.037596,
     "end_time": "2024-04-23T04:11:42.416728",
     "exception": false,
     "start_time": "2024-04-23T04:11:42.379132",
     "status": "completed"
    },
    "tags": []
   },
   "outputs": [],
   "source": [
    "model.compile(optimizer=adamopt, loss=\"mean_squared_error\", metrics=[\"mse\"])"
   ]
  },
  {
   "cell_type": "code",
   "execution_count": 23,
   "id": "337dbb68",
   "metadata": {
    "execution": {
     "iopub.execute_input": "2024-04-23T04:11:42.454354Z",
     "iopub.status.busy": "2024-04-23T04:11:42.452847Z",
     "iopub.status.idle": "2024-04-23T04:11:42.477359Z",
     "shell.execute_reply": "2024-04-23T04:11:42.475809Z"
    },
    "papermill": {
     "duration": 0.049843,
     "end_time": "2024-04-23T04:11:42.484036",
     "exception": false,
     "start_time": "2024-04-23T04:11:42.434193",
     "status": "completed"
    },
    "tags": []
   },
   "outputs": [
    {
     "name": "stdout",
     "output_type": "stream",
     "text": [
      "Model: \"sequential\"\n",
      "_________________________________________________________________\n",
      " Layer (type)                Output Shape              Param #   \n",
      "=================================================================\n",
      " dense (Dense)               (None, 32)                8256      \n",
      "                                                                 \n",
      " dense_1 (Dense)             (None, 16)                528       \n",
      "                                                                 \n",
      " dense_2 (Dense)             (None, 8)                 136       \n",
      "                                                                 \n",
      " dense_3 (Dense)             (None, 1)                 9         \n",
      "                                                                 \n",
      "=================================================================\n",
      "Total params: 8929 (34.88 KB)\n",
      "Trainable params: 8929 (34.88 KB)\n",
      "Non-trainable params: 0 (0.00 Byte)\n",
      "_________________________________________________________________\n"
     ]
    }
   ],
   "source": [
    "model.summary()"
   ]
  },
  {
   "cell_type": "code",
   "execution_count": 24,
   "id": "296f1de0",
   "metadata": {
    "execution": {
     "iopub.execute_input": "2024-04-23T04:11:42.524803Z",
     "iopub.status.busy": "2024-04-23T04:11:42.524361Z",
     "iopub.status.idle": "2024-04-23T04:12:42.010381Z",
     "shell.execute_reply": "2024-04-23T04:12:42.008904Z"
    },
    "papermill": {
     "duration": 59.510175,
     "end_time": "2024-04-23T04:12:42.013566",
     "exception": false,
     "start_time": "2024-04-23T04:11:42.503391",
     "status": "completed"
    },
    "tags": []
   },
   "outputs": [
    {
     "name": "stdout",
     "output_type": "stream",
     "text": [
      "Epoch 1/20\n",
      "132/132 [==============================] - 5s 33ms/step - loss: 31.1605 - mse: 31.1605 - val_loss: 5.1740 - val_mse: 5.1740\n",
      "Epoch 2/20\n",
      "132/132 [==============================] - 2s 19ms/step - loss: 178.9881 - mse: 178.9881 - val_loss: 6.1520 - val_mse: 6.1520\n",
      "Epoch 3/20\n",
      "132/132 [==============================] - 2s 18ms/step - loss: 138.0238 - mse: 138.0238 - val_loss: 5.2823 - val_mse: 5.2823\n",
      "Epoch 4/20\n",
      "132/132 [==============================] - 2s 18ms/step - loss: 22.8050 - mse: 22.8050 - val_loss: 0.9632 - val_mse: 0.9632\n",
      "Epoch 5/20\n",
      "132/132 [==============================] - 2s 18ms/step - loss: 3.8752 - mse: 3.8752 - val_loss: 0.7559 - val_mse: 0.7559\n",
      "Epoch 6/20\n",
      "132/132 [==============================] - 2s 18ms/step - loss: 1.3939 - mse: 1.3939 - val_loss: 0.3470 - val_mse: 0.3470\n",
      "Epoch 7/20\n",
      "132/132 [==============================] - 3s 19ms/step - loss: 0.8466 - mse: 0.8466 - val_loss: 0.2280 - val_mse: 0.2280\n",
      "Epoch 8/20\n",
      "132/132 [==============================] - 2s 18ms/step - loss: 0.7628 - mse: 0.7628 - val_loss: 0.2388 - val_mse: 0.2388\n",
      "Epoch 9/20\n",
      "132/132 [==============================] - 2s 18ms/step - loss: 0.5551 - mse: 0.5551 - val_loss: 0.1750 - val_mse: 0.1750\n",
      "Epoch 10/20\n",
      "132/132 [==============================] - 2s 18ms/step - loss: 0.4650 - mse: 0.4650 - val_loss: 0.2198 - val_mse: 0.2198\n",
      "Epoch 11/20\n",
      "132/132 [==============================] - 2s 18ms/step - loss: 0.3975 - mse: 0.3975 - val_loss: 0.1746 - val_mse: 0.1746\n",
      "Epoch 12/20\n",
      "132/132 [==============================] - 2s 17ms/step - loss: 0.4074 - mse: 0.4074 - val_loss: 0.2292 - val_mse: 0.2292\n",
      "Epoch 13/20\n",
      "132/132 [==============================] - 2s 18ms/step - loss: 0.6331 - mse: 0.6331 - val_loss: 0.1595 - val_mse: 0.1595\n",
      "Epoch 14/20\n",
      "132/132 [==============================] - 2s 17ms/step - loss: 0.8749 - mse: 0.8749 - val_loss: 0.5780 - val_mse: 0.5780\n",
      "Epoch 15/20\n",
      "132/132 [==============================] - 2s 18ms/step - loss: 1.7789 - mse: 1.7789 - val_loss: 0.2649 - val_mse: 0.2649\n",
      "Epoch 16/20\n",
      "132/132 [==============================] - 3s 19ms/step - loss: 10.0640 - mse: 10.0640 - val_loss: 1.0911 - val_mse: 1.0911\n",
      "Epoch 17/20\n",
      "132/132 [==============================] - 2s 17ms/step - loss: 15.7549 - mse: 15.7549 - val_loss: 0.7628 - val_mse: 0.7628\n",
      "Epoch 18/20\n",
      "132/132 [==============================] - 2s 19ms/step - loss: 3.1750 - mse: 3.1750 - val_loss: 0.3877 - val_mse: 0.3877\n",
      "Epoch 19/20\n",
      "132/132 [==============================] - 2s 18ms/step - loss: 0.3956 - mse: 0.3956 - val_loss: 0.1242 - val_mse: 0.1242\n",
      "Epoch 20/20\n",
      "132/132 [==============================] - 2s 19ms/step - loss: 0.2167 - mse: 0.2167 - val_loss: 0.1049 - val_mse: 0.1049\n"
     ]
    }
   ],
   "source": [
    "history = model.fit(train_dataloader,\n",
    "                    validation_data=test_dataloader,\n",
    "                    epochs=EPOCHS,\n",
    "                    callbacks=[cp_callback])"
   ]
  },
  {
   "cell_type": "code",
   "execution_count": 25,
   "id": "4dfb238e",
   "metadata": {
    "execution": {
     "iopub.execute_input": "2024-04-23T04:12:42.187553Z",
     "iopub.status.busy": "2024-04-23T04:12:42.187040Z",
     "iopub.status.idle": "2024-04-23T04:12:42.194430Z",
     "shell.execute_reply": "2024-04-23T04:12:42.192771Z"
    },
    "papermill": {
     "duration": 0.098712,
     "end_time": "2024-04-23T04:12:42.197369",
     "exception": false,
     "start_time": "2024-04-23T04:12:42.098657",
     "status": "completed"
    },
    "tags": []
   },
   "outputs": [],
   "source": [
    "with open(\"history.pkl\", \"wb\") as f:\n",
    "    pickle.dump(history.history, f)"
   ]
  },
  {
   "cell_type": "code",
   "execution_count": 26,
   "id": "ae9ba2a8",
   "metadata": {
    "execution": {
     "iopub.execute_input": "2024-04-23T04:12:42.368331Z",
     "iopub.status.busy": "2024-04-23T04:12:42.367888Z",
     "iopub.status.idle": "2024-04-23T04:12:42.374389Z",
     "shell.execute_reply": "2024-04-23T04:12:42.373430Z"
    },
    "papermill": {
     "duration": 0.094694,
     "end_time": "2024-04-23T04:12:42.376629",
     "exception": false,
     "start_time": "2024-04-23T04:12:42.281935",
     "status": "completed"
    },
    "tags": []
   },
   "outputs": [],
   "source": [
    "def plot_history(history):\n",
    "    plt.plot(history.history[\"loss\"])\n",
    "    plt.plot(history.history[\"val_loss\"])\n",
    "    plt.xlabel(\"Epochs\")\n",
    "    plt.ylabel(\"log Loss\")\n",
    "    plt.legend([\"train\", \"validation\"], loc=\"upper right\")\n",
    "    plt.show()"
   ]
  },
  {
   "cell_type": "code",
   "execution_count": 27,
   "id": "3f7166f8",
   "metadata": {
    "execution": {
     "iopub.execute_input": "2024-04-23T04:12:42.546058Z",
     "iopub.status.busy": "2024-04-23T04:12:42.545566Z",
     "iopub.status.idle": "2024-04-23T04:12:42.893055Z",
     "shell.execute_reply": "2024-04-23T04:12:42.891707Z"
    },
    "papermill": {
     "duration": 0.435784,
     "end_time": "2024-04-23T04:12:42.895966",
     "exception": false,
     "start_time": "2024-04-23T04:12:42.460182",
     "status": "completed"
    },
    "tags": []
   },
   "outputs": [
    {
     "data": {
      "image/png": "[encoded data removed]",
      "text/plain": [
       "<Figure size 640x480 with 1 Axes>"
      ]
     },
     "metadata": {},
     "output_type": "display_data"
    }
   ],
   "source": [
    "plot_history(history)"
   ]
  },
  {
   "cell_type": "code",
   "execution_count": 28,
   "id": "bf7ca383",
   "metadata": {
    "execution": {
     "iopub.execute_input": "2024-04-23T04:12:43.069415Z",
     "iopub.status.busy": "2024-04-23T04:12:43.068119Z",
     "iopub.status.idle": "2024-04-23T04:12:44.080542Z",
     "shell.execute_reply": "2024-04-23T04:12:44.079236Z"
    },
    "papermill": {
     "duration": 1.104271,
     "end_time": "2024-04-23T04:12:44.083692",
     "exception": false,
     "start_time": "2024-04-23T04:12:42.979421",
     "status": "completed"
    },
    "tags": []
   },
   "outputs": [],
   "source": [
    "export_dir = \"saved_TF_model\"\n",
    "save(model, export_dir)"
   ]
  },
  {
   "cell_type": "code",
   "execution_count": 29,
   "id": "3001f467",
   "metadata": {
    "execution": {
     "iopub.execute_input": "2024-04-23T04:12:44.254027Z",
     "iopub.status.busy": "2024-04-23T04:12:44.252901Z",
     "iopub.status.idle": "2024-04-23T04:12:44.311523Z",
     "shell.execute_reply": "2024-04-23T04:12:44.310352Z"
    },
    "papermill": {
     "duration": 0.147353,
     "end_time": "2024-04-23T04:12:44.314794",
     "exception": false,
     "start_time": "2024-04-23T04:12:44.167441",
     "status": "completed"
    },
    "tags": []
   },
   "outputs": [],
   "source": [
    "model.load_weights(model_name)"
   ]
  },
  {
   "cell_type": "code",
   "execution_count": 30,
   "id": "75fa4524",
   "metadata": {
    "execution": {
     "iopub.execute_input": "2024-04-23T04:12:44.490127Z",
     "iopub.status.busy": "2024-04-23T04:12:44.489613Z",
     "iopub.status.idle": "2024-04-23T04:12:48.324173Z",
     "shell.execute_reply": "2024-04-23T04:12:48.322922Z"
    },
    "papermill": {
     "duration": 3.923608,
     "end_time": "2024-04-23T04:12:48.327018",
     "exception": false,
     "start_time": "2024-04-23T04:12:44.403410",
     "status": "completed"
    },
    "tags": []
   },
   "outputs": [
    {
     "name": "stderr",
     "output_type": "stream",
     "text": [
      "100%|██████████| 44/44 [00:03<00:00, 11.53it/s]\n"
     ]
    }
   ],
   "source": [
    "y_preds = []\n",
    "y_tests = []\n",
    "n_test = test_dataloader.__len__()\n",
    "for i in tqdm(range(n_test)):\n",
    "    X_test, y_test = test_dataloader.__getitem__(i)\n",
    "    y_tests.append(y_test[0][0][0])\n",
    "    y_pred = model.predict(X_test, verbose=0)[0][0]\n",
    "    y_preds.append(y_pred)\n",
    "result_df = pd.DataFrame()\n",
    "result_df[\"y_tests\"] = y_tests\n",
    "result_df[\"y_preds\"] = y_preds"
   ]
  },
  {
   "cell_type": "code",
   "execution_count": 31,
   "id": "3970ab85",
   "metadata": {
    "execution": {
     "iopub.execute_input": "2024-04-23T04:12:48.504760Z",
     "iopub.status.busy": "2024-04-23T04:12:48.504327Z",
     "iopub.status.idle": "2024-04-23T04:12:48.868203Z",
     "shell.execute_reply": "2024-04-23T04:12:48.866849Z"
    },
    "papermill": {
     "duration": 0.455957,
     "end_time": "2024-04-23T04:12:48.870984",
     "exception": false,
     "start_time": "2024-04-23T04:12:48.415027",
     "status": "completed"
    },
    "tags": []
   },
   "outputs": [
    {
     "data": {
      "text/plain": [
       "Text(0, 0.5, 'Rainfall acoustic (mm) (estimated)')"
      ]
     },
     "execution_count": 31,
     "metadata": {},
     "output_type": "execute_result"
    },
    {
     "data": {
      "image/png": "[encoded data removed]",
      "text/plain": [
       "<Figure size 640x480 with 1 Axes>"
      ]
     },
     "metadata": {},
     "output_type": "display_data"
    }
   ],
   "source": [
    "plt.scatter(result_df[\"y_tests\"], result_df[\"y_preds\"])\n",
    "plt.xlabel(\"Rainfall mechanical (mm)\")\n",
    "plt.ylabel(\"Rainfall acoustic (mm) (estimated)\")"
   ]
  },
  {
   "cell_type": "code",
   "execution_count": 32,
   "id": "48ba0c1b",
   "metadata": {
    "execution": {
     "iopub.execute_input": "2024-04-23T04:12:49.050272Z",
     "iopub.status.busy": "2024-04-23T04:12:49.049134Z",
     "iopub.status.idle": "2024-04-23T04:12:49.070139Z",
     "shell.execute_reply": "2024-04-23T04:12:49.069041Z"
    },
    "papermill": {
     "duration": 0.113,
     "end_time": "2024-04-23T04:12:49.072673",
     "exception": false,
     "start_time": "2024-04-23T04:12:48.959673",
     "status": "completed"
    },
    "tags": []
   },
   "outputs": [
    {
     "data": {
      "text/html": [
       "<div>\n",
       "<style scoped>\n",
       "    .dataframe tbody tr th:only-of-type {\n",
       "        vertical-align: middle;\n",
       "    }\n",
       "\n",
       "    .dataframe tbody tr th {\n",
       "        vertical-align: top;\n",
       "    }\n",
       "\n",
       "    .dataframe thead th {\n",
       "        text-align: right;\n",
       "    }\n",
       "</style>\n",
       "<table border=\"1\" class=\"dataframe\">\n",
       "  <thead>\n",
       "    <tr style=\"text-align: right;\">\n",
       "      <th></th>\n",
       "      <th>y_tests</th>\n",
       "      <th>y_preds</th>\n",
       "    </tr>\n",
       "  </thead>\n",
       "  <tbody>\n",
       "    <tr>\n",
       "      <th>0</th>\n",
       "      <td>0.0</td>\n",
       "      <td>-0.458422</td>\n",
       "    </tr>\n",
       "    <tr>\n",
       "      <th>1</th>\n",
       "      <td>0.0</td>\n",
       "      <td>0.272004</td>\n",
       "    </tr>\n",
       "    <tr>\n",
       "      <th>2</th>\n",
       "      <td>0.0</td>\n",
       "      <td>0.084661</td>\n",
       "    </tr>\n",
       "    <tr>\n",
       "      <th>3</th>\n",
       "      <td>0.2</td>\n",
       "      <td>0.010563</td>\n",
       "    </tr>\n",
       "    <tr>\n",
       "      <th>4</th>\n",
       "      <td>0.0</td>\n",
       "      <td>0.255812</td>\n",
       "    </tr>\n",
       "    <tr>\n",
       "      <th>5</th>\n",
       "      <td>0.0</td>\n",
       "      <td>0.188051</td>\n",
       "    </tr>\n",
       "    <tr>\n",
       "      <th>6</th>\n",
       "      <td>0.2</td>\n",
       "      <td>-0.232419</td>\n",
       "    </tr>\n",
       "    <tr>\n",
       "      <th>7</th>\n",
       "      <td>0.0</td>\n",
       "      <td>0.188051</td>\n",
       "    </tr>\n",
       "    <tr>\n",
       "      <th>8</th>\n",
       "      <td>0.2</td>\n",
       "      <td>0.443398</td>\n",
       "    </tr>\n",
       "    <tr>\n",
       "      <th>9</th>\n",
       "      <td>0.0</td>\n",
       "      <td>-0.036513</td>\n",
       "    </tr>\n",
       "    <tr>\n",
       "      <th>10</th>\n",
       "      <td>0.2</td>\n",
       "      <td>0.188051</td>\n",
       "    </tr>\n",
       "    <tr>\n",
       "      <th>11</th>\n",
       "      <td>0.2</td>\n",
       "      <td>0.188051</td>\n",
       "    </tr>\n",
       "    <tr>\n",
       "      <th>12</th>\n",
       "      <td>0.2</td>\n",
       "      <td>0.188051</td>\n",
       "    </tr>\n",
       "    <tr>\n",
       "      <th>13</th>\n",
       "      <td>0.2</td>\n",
       "      <td>0.175266</td>\n",
       "    </tr>\n",
       "    <tr>\n",
       "      <th>14</th>\n",
       "      <td>0.0</td>\n",
       "      <td>0.188051</td>\n",
       "    </tr>\n",
       "    <tr>\n",
       "      <th>15</th>\n",
       "      <td>0.0</td>\n",
       "      <td>-0.120098</td>\n",
       "    </tr>\n",
       "    <tr>\n",
       "      <th>16</th>\n",
       "      <td>0.0</td>\n",
       "      <td>-0.183352</td>\n",
       "    </tr>\n",
       "    <tr>\n",
       "      <th>17</th>\n",
       "      <td>0.2</td>\n",
       "      <td>0.318215</td>\n",
       "    </tr>\n",
       "    <tr>\n",
       "      <th>18</th>\n",
       "      <td>0.0</td>\n",
       "      <td>0.188051</td>\n",
       "    </tr>\n",
       "    <tr>\n",
       "      <th>19</th>\n",
       "      <td>0.0</td>\n",
       "      <td>0.131991</td>\n",
       "    </tr>\n",
       "    <tr>\n",
       "      <th>20</th>\n",
       "      <td>0.2</td>\n",
       "      <td>0.105853</td>\n",
       "    </tr>\n",
       "    <tr>\n",
       "      <th>21</th>\n",
       "      <td>0.2</td>\n",
       "      <td>0.684664</td>\n",
       "    </tr>\n",
       "    <tr>\n",
       "      <th>22</th>\n",
       "      <td>0.2</td>\n",
       "      <td>0.138973</td>\n",
       "    </tr>\n",
       "    <tr>\n",
       "      <th>23</th>\n",
       "      <td>0.2</td>\n",
       "      <td>0.392828</td>\n",
       "    </tr>\n",
       "    <tr>\n",
       "      <th>24</th>\n",
       "      <td>0.0</td>\n",
       "      <td>0.351854</td>\n",
       "    </tr>\n",
       "    <tr>\n",
       "      <th>25</th>\n",
       "      <td>0.2</td>\n",
       "      <td>0.188051</td>\n",
       "    </tr>\n",
       "    <tr>\n",
       "      <th>26</th>\n",
       "      <td>0.2</td>\n",
       "      <td>-0.062235</td>\n",
       "    </tr>\n",
       "    <tr>\n",
       "      <th>27</th>\n",
       "      <td>0.2</td>\n",
       "      <td>-0.579324</td>\n",
       "    </tr>\n",
       "    <tr>\n",
       "      <th>28</th>\n",
       "      <td>0.2</td>\n",
       "      <td>-0.016047</td>\n",
       "    </tr>\n",
       "    <tr>\n",
       "      <th>29</th>\n",
       "      <td>0.0</td>\n",
       "      <td>0.803735</td>\n",
       "    </tr>\n",
       "    <tr>\n",
       "      <th>30</th>\n",
       "      <td>0.2</td>\n",
       "      <td>0.188051</td>\n",
       "    </tr>\n",
       "    <tr>\n",
       "      <th>31</th>\n",
       "      <td>0.0</td>\n",
       "      <td>0.208310</td>\n",
       "    </tr>\n",
       "    <tr>\n",
       "      <th>32</th>\n",
       "      <td>0.0</td>\n",
       "      <td>0.063761</td>\n",
       "    </tr>\n",
       "    <tr>\n",
       "      <th>33</th>\n",
       "      <td>0.0</td>\n",
       "      <td>-0.497680</td>\n",
       "    </tr>\n",
       "    <tr>\n",
       "      <th>34</th>\n",
       "      <td>0.0</td>\n",
       "      <td>0.283342</td>\n",
       "    </tr>\n",
       "    <tr>\n",
       "      <th>35</th>\n",
       "      <td>0.2</td>\n",
       "      <td>-0.090457</td>\n",
       "    </tr>\n",
       "    <tr>\n",
       "      <th>36</th>\n",
       "      <td>0.2</td>\n",
       "      <td>-0.307133</td>\n",
       "    </tr>\n",
       "    <tr>\n",
       "      <th>37</th>\n",
       "      <td>0.2</td>\n",
       "      <td>0.530600</td>\n",
       "    </tr>\n",
       "    <tr>\n",
       "      <th>38</th>\n",
       "      <td>0.0</td>\n",
       "      <td>0.188051</td>\n",
       "    </tr>\n",
       "    <tr>\n",
       "      <th>39</th>\n",
       "      <td>0.0</td>\n",
       "      <td>0.617128</td>\n",
       "    </tr>\n",
       "    <tr>\n",
       "      <th>40</th>\n",
       "      <td>0.2</td>\n",
       "      <td>0.314390</td>\n",
       "    </tr>\n",
       "    <tr>\n",
       "      <th>41</th>\n",
       "      <td>0.0</td>\n",
       "      <td>0.081297</td>\n",
       "    </tr>\n",
       "    <tr>\n",
       "      <th>42</th>\n",
       "      <td>0.2</td>\n",
       "      <td>-0.575930</td>\n",
       "    </tr>\n",
       "    <tr>\n",
       "      <th>43</th>\n",
       "      <td>0.0</td>\n",
       "      <td>0.335651</td>\n",
       "    </tr>\n",
       "  </tbody>\n",
       "</table>\n",
       "</div>"
      ],
      "text/plain": [
       "    y_tests   y_preds\n",
       "0       0.0 -0.458422\n",
       "1       0.0  0.272004\n",
       "2       0.0  0.084661\n",
       "3       0.2  0.010563\n",
       "4       0.0  0.255812\n",
       "5       0.0  0.188051\n",
       "6       0.2 -0.232419\n",
       "7       0.0  0.188051\n",
       "8       0.2  0.443398\n",
       "9       0.0 -0.036513\n",
       "10      0.2  0.188051\n",
       "11      0.2  0.188051\n",
       "12      0.2  0.188051\n",
       "13      0.2  0.175266\n",
       "14      0.0  0.188051\n",
       "15      0.0 -0.120098\n",
       "16      0.0 -0.183352\n",
       "17      0.2  0.318215\n",
       "18      0.0  0.188051\n",
       "19      0.0  0.131991\n",
       "20      0.2  0.105853\n",
       "21      0.2  0.684664\n",
       "22      0.2  0.138973\n",
       "23      0.2  0.392828\n",
       "24      0.0  0.351854\n",
       "25      0.2  0.188051\n",
       "26      0.2 -0.062235\n",
       "27      0.2 -0.579324\n",
       "28      0.2 -0.016047\n",
       "29      0.0  0.803735\n",
       "30      0.2  0.188051\n",
       "31      0.0  0.208310\n",
       "32      0.0  0.063761\n",
       "33      0.0 -0.497680\n",
       "34      0.0  0.283342\n",
       "35      0.2 -0.090457\n",
       "36      0.2 -0.307133\n",
       "37      0.2  0.530600\n",
       "38      0.0  0.188051\n",
       "39      0.0  0.617128\n",
       "40      0.2  0.314390\n",
       "41      0.0  0.081297\n",
       "42      0.2 -0.575930\n",
       "43      0.0  0.335651"
      ]
     },
     "execution_count": 32,
     "metadata": {},
     "output_type": "execute_result"
    }
   ],
   "source": [
    "result_df"
   ]
  },
  {
   "cell_type": "code",
   "execution_count": 33,
   "id": "54d40c37",
   "metadata": {
    "execution": {
     "iopub.execute_input": "2024-04-23T04:12:49.253613Z",
     "iopub.status.busy": "2024-04-23T04:12:49.252546Z",
     "iopub.status.idle": "2024-04-23T04:12:49.263479Z",
     "shell.execute_reply": "2024-04-23T04:12:49.262194Z"
    },
    "papermill": {
     "duration": 0.104104,
     "end_time": "2024-04-23T04:12:49.265844",
     "exception": false,
     "start_time": "2024-04-23T04:12:49.161740",
     "status": "completed"
    },
    "tags": []
   },
   "outputs": [
    {
     "name": "stdout",
     "output_type": "stream",
     "text": [
      "Mean Absolute Percentage Error: 117.647%\n"
     ]
    }
   ],
   "source": [
    "result = result_df[(result_df[\"y_tests\"]!=0.0)]\n",
    "A = result[\"y_tests\"]\n",
    "F = result[\"y_preds\"]\n",
    "N = result.shape[0]\n",
    "MAPE = np.sum(abs((A-F)/(A+0.00001)))*100/N\n",
    "print(\"Mean Absolute Percentage Error: {}%\".format(np.round(MAPE, 3)))"
   ]
  },
  {
   "cell_type": "code",
   "execution_count": 34,
   "id": "19cdc08b",
   "metadata": {
    "execution": {
     "iopub.execute_input": "2024-04-23T04:12:49.445193Z",
     "iopub.status.busy": "2024-04-23T04:12:49.444417Z",
     "iopub.status.idle": "2024-04-23T04:12:49.464116Z",
     "shell.execute_reply": "2024-04-23T04:12:49.462633Z"
    },
    "papermill": {
     "duration": 0.113431,
     "end_time": "2024-04-23T04:12:49.467231",
     "exception": false,
     "start_time": "2024-04-23T04:12:49.353800",
     "status": "completed"
    },
    "tags": []
   },
   "outputs": [
    {
     "data": {
      "text/html": [
       "<div>\n",
       "<style scoped>\n",
       "    .dataframe tbody tr th:only-of-type {\n",
       "        vertical-align: middle;\n",
       "    }\n",
       "\n",
       "    .dataframe tbody tr th {\n",
       "        vertical-align: top;\n",
       "    }\n",
       "\n",
       "    .dataframe thead th {\n",
       "        text-align: right;\n",
       "    }\n",
       "</style>\n",
       "<table border=\"1\" class=\"dataframe\">\n",
       "  <thead>\n",
       "    <tr style=\"text-align: right;\">\n",
       "      <th></th>\n",
       "      <th>y_tests</th>\n",
       "      <th>y_preds</th>\n",
       "    </tr>\n",
       "  </thead>\n",
       "  <tbody>\n",
       "    <tr>\n",
       "      <th>y_tests</th>\n",
       "      <td>1.00000</td>\n",
       "      <td>-0.07021</td>\n",
       "    </tr>\n",
       "    <tr>\n",
       "      <th>y_preds</th>\n",
       "      <td>-0.07021</td>\n",
       "      <td>1.00000</td>\n",
       "    </tr>\n",
       "  </tbody>\n",
       "</table>\n",
       "</div>"
      ],
      "text/plain": [
       "         y_tests  y_preds\n",
       "y_tests  1.00000 -0.07021\n",
       "y_preds -0.07021  1.00000"
      ]
     },
     "execution_count": 34,
     "metadata": {},
     "output_type": "execute_result"
    }
   ],
   "source": [
    "result_df.corr(method='spearman')"
   ]
  },
  {
   "cell_type": "code",
   "execution_count": 35,
   "id": "0a18d49c",
   "metadata": {
    "execution": {
     "iopub.execute_input": "2024-04-23T04:12:49.652199Z",
     "iopub.status.busy": "2024-04-23T04:12:49.651129Z",
     "iopub.status.idle": "2024-04-23T04:12:49.659022Z",
     "shell.execute_reply": "2024-04-23T04:12:49.657804Z"
    },
    "papermill": {
     "duration": 0.103188,
     "end_time": "2024-04-23T04:12:49.662073",
     "exception": false,
     "start_time": "2024-04-23T04:12:49.558885",
     "status": "completed"
    },
    "tags": []
   },
   "outputs": [
    {
     "name": "stdout",
     "output_type": "stream",
     "text": [
      "R2 score:  -9.49219083761987\n"
     ]
    }
   ],
   "source": [
    "print(\"R2 score: \", r2_score(result_df[\"y_tests\"], result_df[\"y_preds\"]))"
   ]
  },
  {
   "cell_type": "code",
   "execution_count": 36,
   "id": "7dbb982c",
   "metadata": {
    "execution": {
     "iopub.execute_input": "2024-04-23T04:12:49.847477Z",
     "iopub.status.busy": "2024-04-23T04:12:49.847007Z",
     "iopub.status.idle": "2024-04-23T04:12:49.856032Z",
     "shell.execute_reply": "2024-04-23T04:12:49.855016Z"
    },
    "papermill": {
     "duration": 0.107588,
     "end_time": "2024-04-23T04:12:49.859185",
     "exception": false,
     "start_time": "2024-04-23T04:12:49.751597",
     "status": "completed"
    },
    "tags": []
   },
   "outputs": [],
   "source": [
    "result_df.to_csv(\"result_df.csv\")"
   ]
  },
  {
   "cell_type": "code",
   "execution_count": 37,
   "id": "231a395e",
   "metadata": {
    "execution": {
     "iopub.execute_input": "2024-04-23T04:12:50.045573Z",
     "iopub.status.busy": "2024-04-23T04:12:50.044383Z",
     "iopub.status.idle": "2024-04-23T04:12:50.763918Z",
     "shell.execute_reply": "2024-04-23T04:12:50.762537Z"
    },
    "papermill": {
     "duration": 0.815018,
     "end_time": "2024-04-23T04:12:50.766605",
     "exception": false,
     "start_time": "2024-04-23T04:12:49.951587",
     "status": "completed"
    },
    "tags": []
   },
   "outputs": [
    {
     "name": "stdout",
     "output_type": "stream",
     "text": [
      "Size of TensorFlow Lite Model: 36.6640625 KB:\n"
     ]
    }
   ],
   "source": [
    "converter = tf.lite.TFLiteConverter.from_saved_model(export_dir)\n",
    "tflite_model = converter.convert()\n",
    "\n",
    "tflite_model_file = pathlib.Path(\"./model/model.tflite\")\n",
    "model_size_kb = tflite_model_file.write_bytes(tflite_model) / 1024\n",
    "print(\"Size of TensorFlow Lite Model: {} KB:\".format(model_size_kb))"
   ]
  },
  {
   "cell_type": "code",
   "execution_count": 38,
   "id": "840b9c7f",
   "metadata": {
    "execution": {
     "iopub.execute_input": "2024-04-23T04:12:50.955983Z",
     "iopub.status.busy": "2024-04-23T04:12:50.955087Z",
     "iopub.status.idle": "2024-04-23T04:12:51.005306Z",
     "shell.execute_reply": "2024-04-23T04:12:51.003534Z"
    },
    "papermill": {
     "duration": 0.150312,
     "end_time": "2024-04-23T04:12:51.008344",
     "exception": false,
     "start_time": "2024-04-23T04:12:50.858032",
     "status": "completed"
    },
    "tags": []
   },
   "outputs": [
    {
     "name": "stdout",
     "output_type": "stream",
     "text": [
      "Prediction on random test input:  nan\n"
     ]
    },
    {
     "name": "stderr",
     "output_type": "stream",
     "text": [
      "INFO: Created TensorFlow Lite XNNPACK delegate for CPU.\n"
     ]
    }
   ],
   "source": [
    "interpreter = tf.lite.Interpreter(model_content=tflite_model)\n",
    "interpreter.allocate_tensors()\n",
    "\n",
    "input_tensor = interpreter.get_input_details()[0]['index']\n",
    "output_tensor = interpreter.get_output_details()[0]['index']\n",
    "\n",
    "test_input = tf.random.uniform([1, 28, 513, 1], dtype=tf.float32)\n",
    "interpreter.invoke()\n",
    "\n",
    "output_data = interpreter.get_tensor(output_tensor)[0][0]\n",
    "print(\"Prediction on random test input: \", output_data)"
   ]
  },
  {
   "cell_type": "markdown",
   "id": "6c730c21",
   "metadata": {
    "papermill": {
     "duration": 0.091517,
     "end_time": "2024-04-23T04:12:51.191725",
     "exception": false,
     "start_time": "2024-04-23T04:12:51.100208",
     "status": "completed"
    },
    "tags": []
   },
   "source": [
    "### Generate a TensorFlow Lite for Microcontrollers Model"
   ]
  },
  {
   "cell_type": "code",
   "execution_count": 39,
   "id": "a8e3c925",
   "metadata": {
    "execution": {
     "iopub.execute_input": "2024-04-23T04:12:51.376277Z",
     "iopub.status.busy": "2024-04-23T04:12:51.375809Z",
     "iopub.status.idle": "2024-04-23T04:12:57.277322Z",
     "shell.execute_reply": "2024-04-23T04:12:57.275822Z"
    },
    "papermill": {
     "duration": 5.994937,
     "end_time": "2024-04-23T04:12:57.280023",
     "exception": false,
     "start_time": "2024-04-23T04:12:51.285086",
     "status": "completed"
    },
    "tags": []
   },
   "outputs": [
    {
     "name": "stdout",
     "output_type": "stream",
     "text": [
      "Get:1 http://packages.cloud.google.com/apt gcsfuse-focal InRelease [1225 B]\r\n",
      "Get:2 https://packages.cloud.google.com/apt cloud-sdk InRelease [6361 B]\r\n",
      "Get:3 http://security.ubuntu.com/ubuntu focal-security InRelease [114 kB]\r\n",
      "Hit:4 http://archive.ubuntu.com/ubuntu focal InRelease\r\n",
      "Get:5 http://archive.ubuntu.com/ubuntu focal-updates InRelease [114 kB]\r\n",
      "Get:6 https://packages.cloud.google.com/apt cloud-sdk/main amd64 Packages [627 kB]\r\n",
      "Get:7 http://security.ubuntu.com/ubuntu focal-security/multiverse amd64 Packages [29.8 kB]\r\n",
      "Get:8 http://security.ubuntu.com/ubuntu focal-security/universe amd64 Packages [1199 kB]\r\n",
      "Get:9 http://security.ubuntu.com/ubuntu focal-security/main amd64 Packages [3592 kB]\r\n",
      "Get:10 http://archive.ubuntu.com/ubuntu focal-backports InRelease [108 kB]\r\n",
      "Get:11 http://security.ubuntu.com/ubuntu focal-security/restricted amd64 Packages [3536 kB]\r\n",
      "Get:12 http://archive.ubuntu.com/ubuntu focal-updates/multiverse amd64 Packages [32.5 kB]\r\n",
      "Get:13 http://archive.ubuntu.com/ubuntu focal-updates/restricted amd64 Packages [3686 kB]\r\n",
      "Get:14 http://archive.ubuntu.com/ubuntu focal-updates/universe amd64 Packages [1495 kB]\r\n",
      "Get:15 http://archive.ubuntu.com/ubuntu focal-updates/main amd64 Packages [4066 kB]\r\n",
      "\r\n",
      "E: Repository 'http://packages.cloud.google.com/apt gcsfuse-focal InRelease' changed its 'Origin' value from 'namespaces/gcs-fuse-prod/repositories/gcsfuse-focal' to 'gcsfuse-focal'\r\n",
      "E: Repository 'http://packages.cloud.google.com/apt gcsfuse-focal InRelease' changed its 'Label' value from 'namespaces/gcs-fuse-prod/repositories/gcsfuse-focal' to 'gcsfuse-focal'\r\n",
      "N: This must be accepted explicitly before updates for this repository can be applied. See apt-secure(8) manpage for details.\r\n"
     ]
    }
   ],
   "source": [
    "!apt-get update && apt-get -qq install xxd"
   ]
  },
  {
   "cell_type": "code",
   "execution_count": 40,
   "id": "ef3ba5c9",
   "metadata": {
    "execution": {
     "iopub.execute_input": "2024-04-23T04:12:57.466756Z",
     "iopub.status.busy": "2024-04-23T04:12:57.466147Z",
     "iopub.status.idle": "2024-04-23T04:12:59.745620Z",
     "shell.execute_reply": "2024-04-23T04:12:59.743841Z"
    },
    "papermill": {
     "duration": 2.376809,
     "end_time": "2024-04-23T04:12:59.748997",
     "exception": false,
     "start_time": "2024-04-23T04:12:57.372188",
     "status": "completed"
    },
    "tags": []
   },
   "outputs": [],
   "source": [
    "MODEL_TFLITE = \"./model/model.tflite\" \n",
    "MODEL_TFLITE_MICRO = \"./model/model.cc\" \n",
    "!xxd -i {MODEL_TFLITE} > {MODEL_TFLITE_MICRO}\n",
    "REPLACE_TEXT = MODEL_TFLITE.replace('/', '_').replace('.', '_')\n",
    "!sed -i 's/'{REPLACE_TEXT}'/g_model/g' {MODEL_TFLITE_MICRO}"
   ]
  },
  {
   "cell_type": "code",
   "execution_count": null,
   "id": "8d46d4c9",
   "metadata": {
    "papermill": {
     "duration": 0.09554,
     "end_time": "2024-04-23T04:12:59.939110",
     "exception": false,
     "start_time": "2024-04-23T04:12:59.843570",
     "status": "completed"
    },
    "tags": []
   },
   "outputs": [],
   "source": []
  },
  {
   "cell_type": "code",
   "execution_count": null,
   "id": "68e00a59",
   "metadata": {
    "papermill": {
     "duration": 0.095701,
     "end_time": "2024-04-23T04:13:00.129445",
     "exception": false,
     "start_time": "2024-04-23T04:13:00.033744",
     "status": "completed"
    },
    "tags": []
   },
   "outputs": [],
   "source": []
  }
 ],
 "metadata": {
  "kaggle": {
   "accelerator": "none",
   "dataSources": [
    {
     "datasetId": 4105473,
     "isSourceIdPinned": true,
     "sourceId": 8200578,
     "sourceType": "datasetVersion"
    }
   ],
   "dockerImageVersionId": 30587,
   "isGpuEnabled": false,
   "isInternetEnabled": true,
   "language": "python",
   "sourceType": "notebook"
  },
  "kernelspec": {
   "display_name": "Python 3",
   "language": "python",
   "name": "python3"
  },
  "language_info": {
   "codemirror_mode": {
    "name": "ipython",
    "version": 3
   },
   "file_extension": ".py",
   "mimetype": "text/x-python",
   "name": "python",
   "nbconvert_exporter": "python",
   "pygments_lexer": "ipython3",
   "version": "3.10.12"
  },
  "papermill": {
   "default_parameters": {},
   "duration": 133.199602,
   "end_time": "2024-04-23T04:13:02.250403",
   "environment_variables": {},
   "exception": null,
   "input_path": "__notebook__.ipynb",
   "output_path": "__notebook__.ipynb",
   "parameters": {},
   "start_time": "2024-04-23T04:10:49.050801",
   "version": "2.4.0"
  }
 },
 "nbformat": 4,
 "nbformat_minor": 5
}
